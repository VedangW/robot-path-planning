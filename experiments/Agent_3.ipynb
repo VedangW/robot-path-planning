{
  "nbformat": 4,
  "nbformat_minor": 0,
  "metadata": {
    "colab": {
      "name": "Copy of Agent_3.ipynb",
      "provenance": [],
      "collapsed_sections": []
    },
    "kernelspec": {
      "name": "python3",
      "display_name": "Python 3"
    },
    "language_info": {
      "name": "python"
    }
  },
  "cells": [
    {
      "cell_type": "markdown",
      "metadata": {
        "id": "PulGWY5AD1Dy"
      },
      "source": [
        "## **Imports**"
      ]
    },
    {
      "cell_type": "code",
      "metadata": {
        "id": "8ZnqcTHaiXFg",
        "cellView": "form"
      },
      "source": [
        "#@title Imports\n",
        "\n",
        "# Utils\n",
        "import time\n",
        "from tqdm import tqdm\n",
        "\n",
        "# Data Structures\n",
        "import heapq\n",
        "from collections import deque\n",
        "\n",
        "# Data Manipulation and computations\n",
        "import numpy as np\n",
        "import pandas as pd\n",
        "import scipy.spatial.distance as dist\n",
        "\n",
        "# Visualization\n",
        "import matplotlib.pyplot as plt\n",
        "%matplotlib inline\n",
        "import seaborn as sns"
      ],
      "execution_count": null,
      "outputs": []
    },
    {
      "cell_type": "markdown",
      "metadata": {
        "id": "UWNHT5lVDUV-"
      },
      "source": [
        "## **Grid Generation and A-Star Search**"
      ]
    },
    {
      "cell_type": "code",
      "metadata": {
        "id": "As2fde5Q__K5",
        "cellView": "form"
      },
      "source": [
        "#@title A* Search Utils\n",
        "\n",
        "class Node:\n",
        "  \n",
        "  def __init__(self, parent=None, position=None, recency_factor=None):\n",
        "    \"\"\" \n",
        "    Represents a Node in the A* search tree. \n",
        "    \n",
        "    Parameters\n",
        "    ----------\n",
        "    parent: Node\n",
        "      Node for the neighbouring cell from which this node was discovered\n",
        "    position: (int, int)\n",
        "      Coordinates of the cell.\n",
        "    recency_factor: int\n",
        "      Represents how recently this node was created. Used for breaking ties in\n",
        "      the priority queue.\n",
        "    \"\"\"\n",
        "\n",
        "    self.parent = parent\n",
        "    self.position = position\n",
        "    self.recency_factor = recency_factor\n",
        "\n",
        "    self.g = 0\n",
        "    self.h = 0\n",
        "    self.f = 0\n",
        "  \n",
        "  def __eq__(self, other):\n",
        "    \"\"\" \n",
        "    For Node comparison. \n",
        "    \n",
        "    Parameters\n",
        "    ----------\n",
        "    other: Node\n",
        "      The object with which this instance needs to be compared.\n",
        "    \"\"\"\n",
        "\n",
        "    # In case 'other' is not a Node\n",
        "    if type(self) != type(other):\n",
        "      return False\n",
        "\n",
        "    return self.position == other.position\n",
        "  \n",
        "  def __lt__(self, other):\n",
        "    \"\"\" \n",
        "    For heap comparison. \n",
        "    \n",
        "    Parameters\n",
        "    ----------\n",
        "    other: Node\n",
        "      The object with which this instance needs to be compared.\n",
        "    \"\"\"\n",
        "\n",
        "    if self.f < other.f:  # If priority is less\n",
        "      return True\n",
        "    elif self.f == other.f:  # If tie, check recency\n",
        "      if self.recency_factor > other.recency_factor:\n",
        "        return True\n",
        "    \n",
        "    return False\n",
        "\n",
        "\n",
        "  def __gt__(self, other):\n",
        "    \"\"\"\n",
        "    For heap comparison. \n",
        "    \n",
        "    Parameters\n",
        "    ----------\n",
        "    other: Node\n",
        "      The object with which this instance needs to be compared.\n",
        "    \"\"\"\n",
        "\n",
        "    if self.f > other.f:  # If priority is more\n",
        "      return True\n",
        "    elif self.f == other.f:  # If tie, check recency\n",
        "      if self.recency_factor < other.recency_factor:\n",
        "        return True\n",
        "    \n",
        "    return False\n",
        "\n",
        "def is_unvisited_and_unblocked(coords, state):\n",
        "  \"\"\"\n",
        "  Checks if a cell is not blocked and not yet visited.\n",
        "  \n",
        "  Parameters\n",
        "  ----------\n",
        "  coords: (int, int)\n",
        "    Coordinates of the cell to check\n",
        "  state: (2D np.array, 2D np.array, 2D np.array)\n",
        "    The elements are passed in the following order:\n",
        "      `knowledge` - Represents the knowledge of the agent. knowledge[x][y] = 1 if\n",
        "        the agent knows there exists a block at position (x, y) and is 0 otherwise.\n",
        "      `visited` - Represents which nodes the agent has already expanded. visited[x][y] = 1 if\n",
        "        the agent has already expanded Node at (x, y) and 0 otherwise.\n",
        "      `in_fringe` - Represents if the node is in the fringe already. in_fringe[x][y] = 1\n",
        "        if Node at (x, y) is already in the fringe and 0 otherwise.\n",
        "\n",
        "  Returns\n",
        "  -------\n",
        "  True if not blocked and not visited else False\n",
        "  \"\"\"\n",
        "\n",
        "  # Get coordinates\n",
        "  x, y = coords\n",
        "  knowledge, visited, _ = state\n",
        "\n",
        "  # Return false if cell is blocked or already visited\n",
        "  if knowledge[x][y]['blocked'] or visited[x][y] != 0:\n",
        "    return False\n",
        "\n",
        "  return True\n",
        "\n",
        "def neighbourhood(coords, num_rows, num_cols, nbhd_type=\"compass\", parent_coords=None, sense=False):\n",
        "  \"\"\"\n",
        "  Returns the possible neighbours of a cell. Doesn't check for visited or blocked nodes.\n",
        "  Assumes the grid is between `(0, 0)` to `(num_rows-1, num_cols-1)`. \n",
        "\n",
        "  Parameters\n",
        "  ----------\n",
        "  coords: (int, int)\n",
        "    Coordinates of the cell\n",
        "  num_rows: int\n",
        "    No. of rows in the grid.\n",
        "  num_cols: int\n",
        "    No. of columns in the grid.\n",
        "  nbhd_type: str\n",
        "    `compass` - the agent can see in all 4 directions (up, down, left, right)\n",
        "    `directional` - the agent can only see in the direction in which it is moving\n",
        "  parent_coords: (int, int)\n",
        "    Coordinates of the parent cell, required if `nbhd_type` is `directional`.\n",
        "\n",
        "  Returns\n",
        "  -------\n",
        "  possible_cells: List[(int, int)]\n",
        "    List of coordinates for the possible neighbours\n",
        "  \"\"\"\n",
        "\n",
        "  if nbhd_type == \"compass\":\n",
        "\n",
        "    # Get possible cells\n",
        "    x, y = coords\n",
        "    possible_cells = [(x+1, y), (x, y+1), (x-1, y), (x, y-1)]\n",
        "\n",
        "    if sense:\n",
        "      possible_cells = [(x + 1, y), (x + 1, y + 1), (x, y + 1), (x - 1, y + 1), (x - 1, y), (x - 1, y - 1), (x, y - 1), (x + 1, y - 1)]\n",
        "    # Remove cells outside boundaries\n",
        "    possible_cells = [cell for cell in possible_cells if cell[0] >= 0 and cell[1] >= 0 and cell[0] <= num_rows-1 and cell[1] <= num_cols-1]\n",
        "\n",
        "    return possible_cells\n",
        "  \n",
        "  elif nbhd_type == \"directional\":\n",
        "\n",
        "    if parent_coords is None:\n",
        "      raise ValueError(\"Parent coords cannot be none if nbhd_type == 'directional'.\")\n",
        "\n",
        "    # Find the possible neighbouring node in the field of view\n",
        "    cell = tuple(np.array(coords) + (np.array(coords) - np.array(parent_coords)))\n",
        "\n",
        "    # Check if the node is valid\n",
        "    possible_cells = [cell] if cell[0] >= 0 and cell[1] >= 0 and cell[0] <= num_rows-1 and cell[1] <= num_cols-1 else []\n",
        "\n",
        "    return possible_cells\n",
        "  \n",
        "  raise ValueError(\"nbhd type can only be from ['compass', 'directional'], not\", nbhd_type)\n",
        "\n",
        "def get_valid_children(coords, parent, num_rows, num_cols, state):\n",
        "  \"\"\"\n",
        "  Gets valid children for a cell, based on position, known blockages and visited\n",
        "  neighbours.\n",
        "\n",
        "  Parameters\n",
        "  ----------\n",
        "  coords: (int, int)\n",
        "    Coordinates of the cell\n",
        "  parent: Node\n",
        "    Parent of the cell for which the neighbours need to be created\n",
        "  num_rows: int\n",
        "    No. of rows in the grid.\n",
        "  num_cols: int\n",
        "    No. of columns in the grid.\n",
        "  state: (2D np.array, 2D np.array, 2D np.array)\n",
        "    The elements are passed in the following order:\n",
        "      `knowledge` - Represents the knowledge of the agent. knowledge[x][y] = 1 if\n",
        "        the agent knows there exists a block at position (x, y) and is 0 otherwise.\n",
        "      `visited` - Represents which nodes the agent has already expanded. visited[x][y] = 1 if\n",
        "        the agent has already expanded Node at (x, y) and 0 otherwise.\n",
        "      `in_fringe` - Represents if the node is in the fringe already. in_fringe[x][y] = 1\n",
        "        if Node at (x, y) is already in the fringe and 0 otherwise.\n",
        "\n",
        "  Returns\n",
        "  -------\n",
        "  valid_children: List[(int, int)]\n",
        "    List of the possible coordinates of the children.\n",
        "  \"\"\"\n",
        "\n",
        "  # Get all possible children\n",
        "  nbhd = neighbourhood(coords, num_rows, num_cols)\n",
        "\n",
        "  # Don't add the parent to the list of valid children\n",
        "  if parent is not None:\n",
        "    nbhd = [x for x in nbhd if x != parent.position]\n",
        "\n",
        "  # Remove known blocked and visited cells\n",
        "  valid_children = [cell for cell in nbhd if is_unvisited_and_unblocked(cell, state)]\n",
        "\n",
        "  return valid_children"
      ],
      "execution_count": null,
      "outputs": []
    },
    {
      "cell_type": "code",
      "metadata": {
        "id": "09iMnJ-VEWND",
        "cellView": "form"
      },
      "source": [
        "#@title Generate Gridworld\n",
        "\n",
        "def generate_gridworld(shape, block_prob):\n",
        "  \"\"\"\n",
        "  Parameters\n",
        "  ----------\n",
        "  shape: (int, int)\n",
        "    Number of rows and columns in the required gridworld\n",
        "  block_prob: float\n",
        "    Each cell is blocked with a probability p = block_prob\n",
        "\n",
        "  Returns\n",
        "  -------\n",
        "  grid_world: 2D np.array\n",
        "    Grid with each cell blocked with a probability `block_prob`.\n",
        "  \"\"\"\n",
        "\n",
        "  num_rows, num_cols = shape\n",
        "\n",
        "  # Randomly sample a 2D array with each cell being either 1 or 0 with prob as block_prob\n",
        "  grid_world = np.random.choice([1, 0], (num_rows, num_cols), p=[block_prob, 1-block_prob])\n",
        "\n",
        "  # Exclude start and end cells\n",
        "  grid_world[0][0] = 0\n",
        "  grid_world[num_rows-1][num_cols-1] = 0\n",
        "\n",
        "  return grid_world"
      ],
      "execution_count": null,
      "outputs": []
    },
    {
      "cell_type": "code",
      "metadata": {
        "id": "Fj79g7OXFdLE"
      },
      "source": [
        "#@title A* Search\n",
        "\n",
        "def grid_path(current_node):\n",
        "    \"\"\" \n",
        "    Recursively finds the path from the leaf to the root node in the A* search tree. \n",
        "    \n",
        "    Parameters\n",
        "    ----------\n",
        "    current_node: Node\n",
        "      Node in the A* search tree.\n",
        "\n",
        "    Returns\n",
        "    -------\n",
        "    planned_path: List[(int, int)]\n",
        "      Path from the root node to this leaf node\n",
        "    \"\"\"\n",
        "\n",
        "    path = []\n",
        "\n",
        "    # Recursively travel up to the root\n",
        "    current = current_node\n",
        "\n",
        "    while current != None:\n",
        "      path.append(current.position)\n",
        "      current = current.parent\n",
        "\n",
        "    # Reverse and return\n",
        "    return path[::-1]\n",
        "  \n",
        "def heuristic(name, start, end):\n",
        "    \"\"\" \n",
        "    Returns the heuristic (distance) between the start and end cells. \n",
        "\n",
        "    Parameters\n",
        "    ----------\n",
        "    name: str\n",
        "      Can be `'euclidean'`, `'manhattan'`, or `'chebyshev'`.\n",
        "    start: (int, int)\n",
        "      Coordinates of the start cell\n",
        "    end: (int, int)\n",
        "      Coordinates of the end cell\n",
        "\n",
        "    Returns\n",
        "    -------\n",
        "    distance: float or int\n",
        "      Distance based on which heuristic is being used.\n",
        "    \"\"\"\n",
        "\n",
        "    if name == \"euclidean\":\n",
        "      return dist.euclidean(start, end)\n",
        "    elif name == \"manhattan\":\n",
        "      return dist.cityblock(start, end)\n",
        "    elif name == \"chebyshev\":\n",
        "      return dist.chebyshev(start, end)\n",
        "\n",
        "    # If heuristic is unknown, raise error\n",
        "    raise NotImplementedError(\"Unknown heuristic:\", name)\n",
        "\n",
        "\n",
        "def a_star_search(start, goal, grid, heuristic_type, \n",
        "                  visited, knowledge, max_steps=None, \n",
        "                  epsilon=1.):\n",
        "  \"\"\" \n",
        "  Executes A* search on a grid.\n",
        "\n",
        "  Parameters\n",
        "  ----------\n",
        "  start: (int, int)\n",
        "    Coordinates of the start cell.\n",
        "  goal: (int, int)\n",
        "    Coordinates of the goal cell.\n",
        "  grid: 2D np.array\n",
        "    Represents the original grid on which A* needs to be executed\n",
        "  heuristic_type: str\n",
        "    Type of heuristic to use. Can be `'euclidean'`, `'manhattan'`, or `'chebyshev'`\n",
        "  visited: 2D np.array\n",
        "    Represents which nodes the agent has already expanded. visited[x][y] = 1 if\n",
        "    the agent has already expanded Node at (x, y) and 0 otherwise.\n",
        "  knowledge: 2D np.array\n",
        "    Represents the knowledge of the agent. knowledge[x][y] = 1 if\n",
        "    the agent knows there exists a block at position (x, y) and is 0 otherwise.\n",
        "  max_steps: int or None\n",
        "    Max. number of times we pop a Node from the Fringe\n",
        "  epsilon: float\n",
        "    Weight given to the heuristic function while calculating the priority f. Used as:\n",
        "    f(n) = g(n) + epsilon*h(n)\n",
        "\n",
        "  Returns\n",
        "  -------\n",
        "  planned_path: List[(int, int)]\n",
        "    List of cells to traverse from the start node to end node\n",
        "  exit_status: str\n",
        "    `\"SUCCESS\"` - If A* was successfully completed\n",
        "    `\"FAILED_NOPATH\"` - If no path can be found from the start to the goal cells\n",
        "    `\"FAILED_STEPS\"` - Max. number of steps was reached and path not found\n",
        "  num_cells_propped: int\n",
        "    Total number of nodes popped from the fringe throughout the search process.\n",
        "  \n",
        "  TODO\n",
        "  ----\n",
        "  - num_cells_popped == steps? Remove num_cells_popped and use steps instead\n",
        "  - Remove the `grid` parameter since this is not required\n",
        "  - Implement a separate `Fringe` class\n",
        "  \"\"\"\n",
        "  start_node = Node(position=start)\n",
        "  goal_node = Node(position=goal)\n",
        "\n",
        "  # Implementing priority queue using heap\n",
        "  fringe = []\n",
        "  in_fringe = np.zeros(grid.shape)\n",
        "  heapq.heapify(fringe)\n",
        "\n",
        "  # Initialize tracking parameters\n",
        "  recency_counter = 0\n",
        "  num_cells_popped = 0\n",
        "\n",
        "  # Add start node to the fringe\n",
        "  start_node.recency_factor = recency_counter\n",
        "  heapq.heappush(fringe, start_node)\n",
        "  in_fringe[start[0]][start[1]] = 1\n",
        "  recency_counter += 1\n",
        "  \n",
        "  # Stopping condition\n",
        "  if max_steps is None:\n",
        "    max_steps = grid.shape[0] * grid.shape[1]\n",
        "\n",
        "  steps = 0\n",
        "  exit_status = \"FAILED_NOPATH\"\n",
        "\n",
        "  # Start\n",
        "  while fringe:\n",
        "    \n",
        "    steps += 1\n",
        "\n",
        "    # Pop the current node from the fringe\n",
        "    current_node = heapq.heappop(fringe)\n",
        "    num_cells_popped += 1\n",
        "    curr_x, curr_y = current_node.position\n",
        "\n",
        "    # Visit the current node and note that it is out of the fringe\n",
        "    visited[curr_x][curr_y] = 1\n",
        "    in_fringe[curr_x][curr_y] = 0\n",
        "\n",
        "    # Check and return path if we have reached the goal node\n",
        "    if current_node == goal_node:\n",
        "      exit_status = \"SUCCESS\"\n",
        "      return grid_path(current_node), exit_status, num_cells_popped\n",
        "\n",
        "    # Stopping condition\n",
        "    if steps > max_steps:\n",
        "      exit_status = \"FAILED_STEPS\"\n",
        "      return grid_path(current_node), exit_status, num_cells_popped\n",
        "\n",
        "    # Create children\n",
        "    children = get_valid_children(current_node.position, current_node.parent, grid.shape[0], grid.shape[1], (knowledge, visited, in_fringe))\n",
        "    children = [Node(current_node, x) for x in children]\n",
        "\n",
        "    # Set parameters for each child\n",
        "    for i in range(len(children)):\n",
        "      children[i].g = current_node.g + 1\n",
        "      children[i].h = heuristic(heuristic_type, children[i].position, goal)\n",
        "      children[i].f = children[i].g + epsilon*children[i].h\n",
        "      children[i].recency_factor = recency_counter\n",
        "\n",
        "      heapq.heappush(fringe, children[i])\n",
        "      in_fringe[children[i].position[0]][children[i].position[1]] = 1\n",
        "\n",
        "      recency_counter += 1\n",
        "\n",
        "  return [], exit_status, num_cells_popped"
      ],
      "execution_count": null,
      "outputs": []
    },
    {
      "cell_type": "code",
      "metadata": {
        "id": "ASHDzF2blpKm",
        "cellView": "form"
      },
      "source": [
        "#@title Visualize Grid\n",
        "\n",
        "def visualize_grid(sol, grid):\n",
        "  \"\"\"\n",
        "  Visualize grid with the solution on top of it, marked by `*`.\n",
        "\n",
        "  Parameters\n",
        "  ----------\n",
        "  sol: List[(int, int)]\n",
        "    List of cells in the path from the start to end node\n",
        "  grid: 2D np.array\n",
        "    Grid on which to superimpose the solution\n",
        "\n",
        "  Returns\n",
        "  -------\n",
        "  vis_grid: 2D np.array\n",
        "    The grid to visualize. Use with `pretty_print`.\n",
        "  \"\"\"\n",
        "\n",
        "  # Create copy of the original grid\n",
        "  vis_grid = grid.copy().astype(str)\n",
        "\n",
        "  # Mark path on grid\n",
        "  for cell in sol:\n",
        "    vis_grid[cell[0]][cell[1]] = \"*\"\n",
        "\n",
        "  return vis_grid\n",
        "\n",
        "def pretty_print(A):\n",
        "  \"\"\"\n",
        "  Prints a 2D np.array with good visual clarity\n",
        "  \n",
        "  Parameters\n",
        "  ----------\n",
        "  A: 2D np.array\n",
        "    The grid to visualize\n",
        "  \"\"\"\n",
        "  print('\\n'.join([''.join(['{:4}'.format(item) for item in row]) for row in A]))"
      ],
      "execution_count": null,
      "outputs": []
    },
    {
      "cell_type": "code",
      "metadata": {
        "id": "R3XJckbeuRvT",
        "cellView": "form"
      },
      "source": [
        "#@title Test A* Search Custom\n",
        "\n",
        "def test_a_star_search_custom():\n",
        "  grid = [[0, 1, 0, 1, 0, 0, 1, 0, 0, 0],\n",
        "          [0, 1, 0, 1, 1, 0, 1, 0, 0, 0],\n",
        "          [0, 1, 1, 1, 0, 0, 0, 0, 1, 0],\n",
        "          [0, 1, 0, 0, 0, 1, 0, 1, 1, 0],\n",
        "          [0, 1, 0, 1, 1, 0, 1, 1, 0, 0],\n",
        "          [0, 1, 0, 1, 0, 0, 1, 0, 0, 1],\n",
        "          [0, 1, 0, 1, 0, 0, 0, 0, 0, 0],\n",
        "          [0, 1, 0, 1, 1, 0, 1, 0, 0, 1],\n",
        "          [0, 0, 0, 1, 1, 0, 1, 0, 0, 0],\n",
        "          [1, 1, 0, 1, 0, 0, 0, 0, 1, 0]]\n",
        "\n",
        "  grid = np.array(grid)\n",
        "\n",
        "  visited = np.zeros(grid.shape)\n",
        "  blocked = grid.copy()\n",
        "\n",
        "  sol = a_star_search((0, 0), (grid.shape[0]-1, grid.shape[1]-1), grid, \"euclidean\", visited, blocked)\n",
        "\n",
        "  pretty_print(grid)\n",
        "  print(\"\\n\")\n",
        "  pretty_print(visualize_grid(sol, grid))"
      ],
      "execution_count": null,
      "outputs": []
    },
    {
      "cell_type": "code",
      "metadata": {
        "id": "6fSEa2UP2O38",
        "cellView": "form"
      },
      "source": [
        "#@title Open Cell\n",
        "\n",
        "def is_open_cell(cell, knowledge):\n",
        "  \"\"\"\n",
        "  Checks if a cell is open, i.e., has 3 or more unblocked neighbours.\n",
        "\n",
        "  Parameters\n",
        "  ----------\n",
        "  cell: (int, int)\n",
        "    Coordinates of the cell for which to check\n",
        "  knowledge: 2D np.array\n",
        "    Represents the knowledge of the agent. knowledge[x][y] = 1 if\n",
        "    the agent knows there exists a block at position (x, y) and is 0 otherwise.\n",
        "  \"\"\"\n",
        "\n",
        "  # Get neighbourhood of the cell\n",
        "  nbhd = neighbourhood(cell, knowledge.shape[0], knowledge.shape[1])\n",
        "\n",
        "  # Retain only the unblocked ones\n",
        "  unblocked = [nbr for nbr in nbhd if knowledge[nbr[0]][nbr[1]] != 1]\n",
        "\n",
        "  # Check length of unblocked cells\n",
        "  if len(unblocked) >= 3:\n",
        "    return True\n",
        "\n",
        "  return False"
      ],
      "execution_count": null,
      "outputs": []
    },
    {
      "cell_type": "markdown",
      "metadata": {
        "id": "cLL0c-ovDLI9"
      },
      "source": [
        "## **Example Inference Engine**"
      ]
    },
    {
      "cell_type": "code",
      "metadata": {
        "id": "qUCrjLmP69s1"
      },
      "source": [
        "def update_knowledge_base(knowledge, cell, new_state):\n",
        "  \"\"\"\n",
        "    Updates the knowledge of the cell based on the inferences/observations made  \n",
        "    Returns the new updated knowledge base\n",
        "    \n",
        "    Parameters\n",
        "    ----------\n",
        "     knowledge: 2D array\n",
        "        Represents the observed environment\n",
        "    cell: (int, int)\n",
        "        Coordinates of the cell for which to check\n",
        "    new: dictionary\n",
        "        Represents the changed states\n",
        "    \n",
        "    Returns\n",
        "    -------\n",
        "    knowledge: 2D array\n",
        "        Updated knowledge base with new information about the cell gained by inference/observation\n",
        "    \"\"\"\n",
        "  x, y = cell\n",
        "\n",
        "  for k, v in new_state.items():\n",
        "    knowledge[x][y][k] = v\n",
        "\n",
        "  # re-adjusting hidden cells\n",
        "  if not knowledge[x][y]['blocked']:\n",
        "    knowledge[x][y]['h_x'] = knowledge[x][y]['n_x'] - knowledge[x][y]['b_x'] - knowledge[x][y]['e_x']\n",
        "\n",
        "\n",
        "def example_inference_engine(cell, knowledge, path_tail):\n",
        "    \"\"\"\n",
        "    Agent infers based on the collect data according to the defined rules (given ahead)\n",
        "    Updates the knowledge base\n",
        "    Returns a boolean about if the next step can be taken\n",
        "    Parameters\n",
        "    ----------\n",
        "    cell: (int, int)\n",
        "        Coordinates of the cell for which to check\n",
        "    knowledge: 2D array\n",
        "        Represents the original environment\n",
        "    path_tail: 1D np.array\n",
        "        Represents the remaining planned path to goal from `cell` \n",
        "    \n",
        "    Returns\n",
        "    -------\n",
        "    knowledge: 2D array\n",
        "        Updated knowledge base with new information gained by inference\n",
        "    move_ahead: bool\n",
        "        True if we can go ahead in the path, False if the path ahead is blocked\n",
        "    \"\"\"\n",
        "\n",
        "    # inference queue = all nodes to infer with changes\n",
        "    inference_fringe = deque([cell])\n",
        "    in_fringe = np.zeros((len(knowledge), (len(knowledge))))\n",
        "    in_fringe[cell[0]][cell[1]] = 1\n",
        "\n",
        "    while len(inference_fringe) > 0:\n",
        "      \n",
        "      cell_to_infer = inference_fringe.popleft()\n",
        "\n",
        "      nbhd = neighbourhood(cell_to_infer, len(knowledge), len(knowledge), sense=True)\n",
        "      x, y = cell_to_infer\n",
        "\n",
        "      # when the cell is blocked\n",
        "      if knowledge[x][y]['blocked']:\n",
        "        continue\n",
        "\n",
        "      # getting fresh data for this cell from inferences made on other cells \n",
        "      empty_confirmed_count = 0\n",
        "      blocked_confirmed_count = 0\n",
        "\n",
        "      for nb in nbhd:\n",
        "\n",
        "        nb_x, nb_y = nb\n",
        "\n",
        "        if knowledge[nb_x][nb_y]['state'] == 1:\n",
        "          blocked_confirmed_count += 1\n",
        "        if knowledge[nb_x][nb_y]['state'] == 0:\n",
        "          empty_confirmed_count += 1\n",
        "\n",
        "      update_knowledge_base(knowledge, cell_to_infer, {'b_x':blocked_confirmed_count, 'e_x':empty_confirmed_count})\n",
        "\n",
        "      for trail in path_tail:\n",
        "\n",
        "        t_x, t_y = trail\n",
        "        \n",
        "        if knowledge[t_x][t_y]['blocked'] == True:\n",
        "          return False\n",
        "      \n",
        "      #rule1- all remaining hidden neighbors of x are empty.\n",
        "      if knowledge[x][y]['c_x'] == knowledge[x][y]['b_x']:\n",
        "        new_state = dict(e_x=(knowledge[x][y]['n_x'] - knowledge[x][y]['b_x']), visited=True)\n",
        "        update_knowledge_base(knowledge, cell, new_state)\n",
        "\n",
        "        for i in nbhd:\n",
        "          if (knowledge[i[0]][i[1]]['blocked']):\n",
        "            continue\n",
        "          if (knowledge[i[0]][i[1]]['visited']) and (knowledge[i[0]][i[1]]['h_x']>0) and (in_fringe[i[0]][i[1]] != 1):\n",
        "            inference_fringe.append(i)\n",
        "            in_fringe[i[0]][i[1]] = 1\n",
        "            # print(f'adding {i} to fringe')\n",
        "          \n",
        "          if knowledge[i[0]][i[1]]['state'] == -1:\n",
        "            # updating all neighbouring cells that are hidden to empty and also updating that the parent is empty\n",
        "            update_knowledge_base(knowledge, i, dict(state=0, blocked=False))\n",
        "            for j in neighbourhood(i, len(knowledge), len(knowledge), sense=True):\n",
        "              if (knowledge[j[0]][j[1]]['visited']) and (in_fringe[j[0]][j[1]] != 1) :\n",
        "                inference_fringe.append(j)\n",
        "                in_fringe[j[0]][j[1]] = 1\n",
        "\n",
        "      #rule2 - all remaining cells are blocked\n",
        "      if (knowledge[x][y]['n_x'] - knowledge[x][y]['c_x']) == knowledge[x][y]['e_x']:\n",
        "        new_state = dict(b_x=(knowledge[x][y]['n_x'] - knowledge[x][y]['e_x']), visited=True)\n",
        "        update_knowledge_base(knowledge, cell, new_state)\n",
        "        \n",
        "        for i in nbhd:\n",
        "          if (knowledge[i[0]][i[1]]['blocked']):\n",
        "            continue\n",
        "\n",
        "          if (knowledge[i[0]][i[1]]['visited']) and (knowledge[i[0]][i[1]]['h_x']>0) and (in_fringe[i[0]][i[1]] != 1):\n",
        "            inference_fringe.append(i)\n",
        "            in_fringe[i[0]][i[1]] = 1\n",
        "\n",
        "          if knowledge[i[0]][i[1]]['state'] == -1:\n",
        "            # updating all neighbouring cells that are hidden to blocked and also updating that the parent is empty  \n",
        "            update_knowledge_base(knowledge, i, dict(state=1, blocked=True, e_x= (knowledge[i[0]][i[1]]['e_x'] + 1)))\n",
        "            for j in neighbourhood(i, len(knowledge), len(knowledge), sense=True):\n",
        "              if (knowledge[j[0]][j[1]]['visited']) and (in_fringe[j[0]][j[1]] != 1) :\n",
        "                inference_fringe.append(j)\n",
        "                in_fringe[j[0]][j[1]] = 1\n",
        "      in_fringe[cell[0]][cell[1]] = 0\n",
        "\n",
        "      # #rule 3- if Hx=0, nothing to be inferred\n",
        "      # change=False #to see if anything new was inferred\n",
        "      # if knowledge[x][y]['h_x'] == 0:\n",
        "      #   # don't add neighbourhood to queue as there are no changes \n",
        "      #   continue\n",
        "    \n",
        "    \n",
        "\n",
        "\n",
        "    return True"
      ],
      "execution_count": null,
      "outputs": []
    },
    {
      "cell_type": "code",
      "metadata": {
        "id": "hj7mc-KI67-A"
      },
      "source": [
        "def sense_and_update(cell, grid, knowledge):\n",
        "    \"\"\"\n",
        "    Senses around a cell \n",
        "    Gets the count of the number of cells and count of the sensed blocked cells around it\n",
        "    Updates the knowledge with this information\n",
        "    Parameters\n",
        "    ----------\n",
        "    cell: (int, int)\n",
        "        Coordinates of the cell for which to check\n",
        "    grid: 2D np.array\n",
        "        Represents the original environment\n",
        "    grid: 2D np.array\n",
        "        Represents the original environment\n",
        "        \n",
        "    Returns\n",
        "    -------\n",
        "    knowledge: 2D array\n",
        "        Updated knowledge base with new information collected by the agent using its partial visibility characteristic.\n",
        "    infer: Boolean\n",
        "        Did we get any information to even run the inference\n",
        "    \"\"\"\n",
        "    \n",
        "    x, y = cell\n",
        "    \n",
        "    if knowledge[x][y]['h_x'] == 0 or knowledge[x][y]['visited']:\n",
        "      return False\n",
        "\n",
        "    # Get possible cells - east, south-east, south, south-west, west, north-west, north, north-east - all 8 directions\n",
        "    possible_cells = [(x + 1, y), (x + 1, y + 1), (x, y + 1), (x - 1, y + 1), (x - 1, y), (x - 1, y - 1), (x, y - 1), (x + 1, y - 1)]\n",
        "    \n",
        "    num_rows, num_cols = grid.shape\n",
        "\n",
        "    # Get count of neighbouring cells and blocked cells \n",
        "    nbhd_count = 0 \n",
        "    sensed_blocked_count = 0\n",
        "    empty_confirmed_count = 0\n",
        "    blocked_confirmed_count = 0\n",
        "    hidden_count = 0\n",
        "    for p_cell in possible_cells:\n",
        "        if (0 <= p_cell[0] <= num_rows - 1) and (0 <= p_cell[1] <= num_cols - 1):\n",
        "            nbhd_count += 1\n",
        "            if knowledge[p_cell[0]][p_cell[1]]['state'] == 0:\n",
        "              empty_confirmed_count += 1\n",
        "            if knowledge[p_cell[0]][p_cell[1]]['state'] == 1:\n",
        "              blocked_confirmed_count += 1\n",
        "            if grid[p_cell[0]][p_cell[1]] == 1:\n",
        "              sensed_blocked_count += 1\n",
        "    \n",
        "    # updating the knowledge base with the discovered information\n",
        "    new_state = dict(n_x=nbhd_count, c_x=sensed_blocked_count, e_x=empty_confirmed_count, b_x=blocked_confirmed_count, visited=True, blocked=False, state=0)\n",
        "    update_knowledge_base(knowledge, cell, new_state)\n",
        "    return True\n",
        "\n"
      ],
      "execution_count": null,
      "outputs": []
    },
    {
      "cell_type": "markdown",
      "metadata": {
        "id": "fNCzq-vvC-WC"
      },
      "source": [
        "## **Planning Stage**"
      ]
    },
    {
      "cell_type": "code",
      "metadata": {
        "id": "xqkQfLXKuMrl"
      },
      "source": [
        "def print_inferred_cells(knowledge):\n",
        "  for i in range(len(knowledge)):\n",
        "    for j in range(len(knowledge)):\n",
        "      if knowledge[i][j]['state'] == 1:\n",
        "        print('inferred/sensed blocked at', i, j)\n",
        "      if knowledge[i][j]['state'] == 0:\n",
        "        print('inferred/sensed empty at', i, j)\n",
        "  \n",
        "def move_and_record(start, goal, grid, planned_path, knowledge, nbhd_type=\"compass\"):\n",
        "    \"\"\"\n",
        "    Moves the robot along the path and records the environment as it travels.\n",
        "    If a block is encountered, returns the last unblocked location.\n",
        "\n",
        "    Parameters\n",
        "    ----------\n",
        "    start: (int, int)\n",
        "        The start coordinates in the grid. Between (0, 0) and\n",
        "        (grid.shape[0]-1, grid.shape[1]-1).\n",
        "    goal: (int, int)\n",
        "        The goal coordinates in the grid. Limits are similar to start.\n",
        "    planned_path: List[(int, int)]\n",
        "        List of coordinates (including start and end) to visit.\n",
        "    knowledge: 2D np.array\n",
        "        Represents the knowledge of the agent. knowledge[x][y] = 1 if\n",
        "        the agent knows there exists a block at position (x, y) and is 0 otherwise.\n",
        "    nbhd_type: str\n",
        "      `'compass'` if the agent can see in all 4 directions while moving and\n",
        "      `'directional'` if the agent can see only in the direction it is moving in\n",
        "\n",
        "    Returns\n",
        "    -------\n",
        "    final_node: (int, int)\n",
        "        The last unblocked node visited or the goal node.\n",
        "    knowledge: 2D np.array\n",
        "        Updated knowledge array.\n",
        "    steps: int\n",
        "        Number of steps taken along the path.\n",
        "    last_open_cell: (int, int)\n",
        "        The last cell seen with no. of unblocked neighbours >= 3\n",
        "    \"\"\"\n",
        "\n",
        "    if not planned_path:  # Planned path is empty\n",
        "        raise ValueError(\"Planned path cannot be empty.\")\n",
        "\n",
        "    if planned_path[0] != start:  # Planned path and start don't coincide\n",
        "        raise ValueError(\"Planned path doesn't start with 'start'! planned_path[0] =\",\n",
        "                         planned_path[0], \"start =\", start)\n",
        "\n",
        "    steps = 0\n",
        "    \n",
        "    last_open_cell = None\n",
        "    move_ahead = True\n",
        "    bumped = False\n",
        "\n",
        "    # Start moving\n",
        "    for i in range(len(planned_path)):\n",
        "        cell = planned_path[i]\n",
        "\n",
        "        # If cell is blocked, return the last known location\n",
        "        if grid[cell[0]][cell[1]] == 1:\n",
        "\n",
        "            new_state = dict(visited=False, blocked=True, state=1)\n",
        "            update_knowledge_base(knowledge, cell, new_state)\n",
        "\n",
        "            bumped=True\n",
        "\n",
        "            _ = example_inference_engine(cell, knowledge, planned_path[i+1:])\n",
        "            return planned_path[i - 1], steps, last_open_cell,bumped\n",
        "\n",
        "        # Collect data and update knowledge for each cell\n",
        "        infer = sense_and_update(cell, grid, knowledge)\n",
        "\n",
        "        # Call the inference engine to get updated knowledge and whether to move into replanning. \n",
        "        if infer:\n",
        "            move_ahead = example_inference_engine(cell, knowledge, planned_path[i+1:])\n",
        "        \n",
        "        # For trajectory measuring\n",
        "        steps += 1\n",
        "        \n",
        "        if move_ahead:\n",
        "            continue\n",
        "        else: \n",
        "            # Infering that something in the path is blocked\n",
        "            return planned_path[i], steps, last_open_cell, bumped\n",
        "          \n",
        "    return planned_path[i], steps, last_open_cell,bumped"
      ],
      "execution_count": null,
      "outputs": []
    },
    {
      "cell_type": "code",
      "metadata": {
        "id": "_vfSr4cTzNOg"
      },
      "source": [
        "class RepeatedAStar:\n",
        "\n",
        "  def __init__(self, grid, move_nbhd_type=\"compass\", epsilon=1., \n",
        "               escape_tunnels=False):\n",
        "    \"\"\" \n",
        "    Implements the Repeated A* algorithm on a grid-world. \n",
        "    \n",
        "    Parameters\n",
        "    ----------\n",
        "    grid: 2D np.array\n",
        "      The grid world on which we need to implement the algorithm\n",
        "    move_nbhd_type: str\n",
        "      Can be 'compass' (see in all 4 directions in the execution phase) \n",
        "      or 'directional' (see in only the direction of the movement \n",
        "      in the execution phase)\n",
        "    epsilon: float\n",
        "      Weight with which the heuristic function is multiplied, as:\n",
        "      f(n) = g(n) + epsilon*h(n)\n",
        "    escape_tunnels: bool\n",
        "      Set to true to restart A* from the start of a tunnel by backtracking\n",
        "      instead of dead-ends\n",
        "    \"\"\"\n",
        "\n",
        "    # Logging\n",
        "    self.knowledge_snaps = []\n",
        "    self.visited_snaps = []\n",
        "    self.start_end_snaps = []\n",
        "    self.sol_snaps = []\n",
        "    self.step = 0\n",
        "    self.successfully_completed = False\n",
        "    self.final_exit_status = None\n",
        "    self.grid = grid\n",
        "    self.total_cells_processed_by_run = []\n",
        "    self.backtracks = []\n",
        "    self.bumps=0\n",
        "\n",
        "    # Algorithm parameters\n",
        "    self.epsilon = epsilon\n",
        "    self.move_nbhd_type = move_nbhd_type\n",
        "    self.escape_tunnels = escape_tunnels\n",
        "\n",
        "    # Logging at step level\n",
        "    self.stepwise_knowledge_snaps = []\n",
        "    self.stepwise_actions = []\n",
        "    self.stepwise_positions = []\n",
        "\n",
        "  def _update_state(self, knowledge, visited, path_end_points, soln, \n",
        "                    step, successfully_completed, final_exit_status, \n",
        "                    num_cells_popped):\n",
        "    \"\"\" \n",
        "    Updates the state (logging variables) after each run of the planning + execution phases. \n",
        "    \n",
        "    Parameters\n",
        "    ----------\n",
        "    knowledge: 2D np.array\n",
        "      Represents the knowledge of the agent. knowledge[x][y] = 1 if\n",
        "      the agent knows there exists a block at position (x, y) and is 0 otherwise.\n",
        "    visited: 2D np.array\n",
        "      Represents which nodes the agent has already expanded. visited[x][y] = 1 if\n",
        "      the agent has already expanded Node at (x, y) and 0 otherwise.\n",
        "    path_end_points: ((int, int), (int, int))\n",
        "      Start and end points for 1 run of A* search\n",
        "    soln: List[(int, int)]\n",
        "      Planned path from the start node to the end node for 1 run of A* search\n",
        "    step: int\n",
        "      The step number for repeated A* search\n",
        "    successfully_completed: bool\n",
        "      If goal node has been reached by repeated A* search\n",
        "    final_exit_status: str\n",
        "      `\"SUCCESS\"` - If A* was successfully completed\n",
        "      `\"RUNNING\"` - If Repeated A* search is still running\n",
        "      `\"FAILED_NOPATH\"` - A* search could not find a path between the start and end nodes\n",
        "      `\"FAILED_STEPS\"` - No. of steps in 1 run of A* search exceeded max steps\n",
        "      `\"FAILED_STEPS_REP\"` - No. of steps for repeated A* search exceeded max steps\n",
        "    num_cells_popped: int\n",
        "      Number of cells popped during one run of A* search\n",
        "\n",
        "    TODO\n",
        "    ----\n",
        "    - Add backtracks to the final path\n",
        "    \"\"\"\n",
        "    \n",
        "    self.knowledge_snaps.append(knowledge)\n",
        "    self.visited_snaps.append(visited)\n",
        "    self.start_end_snaps.append(path_end_points)\n",
        "    self.sol_snaps.append(soln)\n",
        "    self.step = step\n",
        "    self.successfully_completed = successfully_completed\n",
        "    self.final_exit_status = final_exit_status\n",
        "    self.total_cells_processed_by_run.append(num_cells_popped)\n",
        "\n",
        "\n",
        "  def _stepwise_update_state(self, \n",
        "                             stepwise_knowledge_snaps_recent, \n",
        "                             stepwise_actions_recent, \n",
        "                             stepwise_positions_recent):\n",
        "    \n",
        "    self.stepwise_knowledge_snaps += stepwise_knowledge_snaps_recent\n",
        "    self.stepwise_actions += stepwise_actions_recent\n",
        "    self.stepwise_positions += self.stepwise_positions_recent\n",
        "\n",
        "  def logs(self):\n",
        "    \"\"\"\n",
        "    Fetches all the logging parameters\n",
        "\n",
        "    Returns\n",
        "    -------\n",
        "    log: Dict[str, Any]\n",
        "      All logging vars added to a dictionary\n",
        "    \"\"\"\n",
        "    return {\n",
        "        \"grid\": self.grid,\n",
        "        \"knowledge\": self.knowledge_snaps,\n",
        "        \"visited\": self.visited_snaps,\n",
        "        \"start_end\": self.start_end_snaps,\n",
        "        \"solns\": self.sol_snaps,\n",
        "        \"num_steps\": self.step,\n",
        "        \"successfully_completed\": self.successfully_completed,\n",
        "        \"final_exit_status\": self.final_exit_status\n",
        "    }\n",
        "\n",
        "  def path_followed(self):\n",
        "    \"\"\" Returns the actual path followed (planning + execution) \"\"\"\n",
        "\n",
        "    # If the paths followed and solutions don't match\n",
        "    assert len(self.sol_snaps) == len(self.start_end_snaps), \\\n",
        "      \"More steps for A* than elements in start_end.\"\n",
        "    \n",
        "    full_path = []\n",
        "    for i in range(len(self.start_end_snaps)):\n",
        "\n",
        "      # Get index of end node in path\n",
        "      _, end_node = self.start_end_snaps[i]\n",
        "      end_index = self.sol_snaps[i].index(end_node)\n",
        "\n",
        "      # Clip the array according to end index and append to parent array\n",
        "      clipped_array = self.sol_snaps[i][:end_index]\n",
        "      full_path += clipped_array\n",
        "\n",
        "    return full_path\n",
        "\n",
        "  def total_cells_processed(self):\n",
        "    \"\"\"\n",
        "    Returns total number of Nodes popped from the Fringe across each run of A* search.\n",
        "    \"\"\"\n",
        "    \n",
        "    return sum(self.total_cells_processed_by_run)\n",
        "\n",
        "  def total_backtracked_cells(self):\n",
        "    \"\"\" \n",
        "    Returns total number of cells backtracked to the start of a tunnel.\n",
        "    \"\"\"\n",
        "\n",
        "    flat_list = [item for sublist in self.backtracks for item in sublist]\n",
        "    return len(flat_list)\n",
        "\n",
        "  def search(self, start, goal, grid, heuristic_type, \n",
        "             max_steps_astar=None, max_steps_repeated=None):\n",
        "    \"\"\"\n",
        "    Performs the repeated search on a grid.\n",
        "\n",
        "    Parameters\n",
        "    ----------\n",
        "    start: (int, int)\n",
        "      Coordinates of the start node\n",
        "    goal: (int, int)\n",
        "      Coordinates of the goal node\n",
        "    grid: 2D np.array\n",
        "      Original gridworld on which to perform grid search\n",
        "    heuristic_type: str\n",
        "      Can be `'euclidean'`, `'manhattan'`, or `'chebyshev'`\n",
        "    max_steps_astar: int\n",
        "      Max. no. of steps for 1 run of A* search\n",
        "    max_steps_repeated: int\n",
        "      Max. no. of steps for 1 run of Repeated A* search\n",
        "    \"\"\"\n",
        "\n",
        "    # Exit condition\n",
        "    if max_steps_repeated is None:\n",
        "      max_steps_repeated = grid.shape[0]*grid.shape[1]\n",
        "\n",
        "    # Initialize visited matrix, knowledge matrix and planned_path array    \n",
        "    knowledge = []\n",
        "    for i in range(grid.shape[0]):\n",
        "      row = []\n",
        "      for j in range(grid.shape[1]):\n",
        "        row.append(dict(n_x=0, blocked=False, visited=False, state=-1, c_x=0, b_x=0, e_x=0, h_x=-1))\n",
        "      knowledge.append(row)\n",
        "    \n",
        "\n",
        "    # Start\n",
        "    while not self.successfully_completed:\n",
        "\n",
        "      visited = np.zeros(grid.shape)\n",
        "\n",
        "      # Run A* search algorithm once\n",
        "      planned_path, exit_status, num_cells_popped = \\\n",
        "        a_star_search(start, goal, grid, heuristic_type, \n",
        "                      visited, knowledge, max_steps=max_steps_astar, \n",
        "                      epsilon=self.epsilon)\n",
        "      \n",
        "      # If no path can be found\n",
        "      if exit_status == \"FAILED_NOPATH\":\n",
        "        self._update_state(knowledge, visited, (start, None), \n",
        "                           planned_path, self.step + 1, False, \n",
        "                           exit_status, num_cells_popped)\n",
        "        return\n",
        "\n",
        "      # If num of steps were exceeded for one run of A*\n",
        "      elif exit_status == \"FAILED_STEPS\":\n",
        "        self._update_state(knowledge, visited, (start, None), \n",
        "                           planned_path, self.step + 1, False, \n",
        "                           exit_status, num_cells_popped)\n",
        "        return\n",
        "\n",
        "      # Move robot along the grid on the planned path and record environment\n",
        "      final_node, _, last_open_cell, bumped = move_and_record(start, goal, grid, \n",
        "                                                                planned_path, knowledge, \n",
        "                                                                nbhd_type=self.move_nbhd_type)\n",
        "\n",
        "      if bumped:\n",
        "        self.bumps+=1\n",
        "\n",
        "      # If we were able to reach the goal successfully\n",
        "      if final_node == goal:\n",
        "        self._update_state(knowledge, visited, (start, final_node), \n",
        "                           planned_path, self.step + 1, True, \n",
        "                           \"SUCCESS\", num_cells_popped)\n",
        "        continue\n",
        "\n",
        "      # If we were not able to reach the goal successfully, repeat until possible\n",
        "      self._update_state(knowledge, visited, (start, final_node), \n",
        "                         planned_path, self.step + 1, False,\n",
        "                         \"RUNNING\", num_cells_popped)\n",
        "      \n",
        "      # Backtracking to the start of tunnels if this parameter is set, else start from end of last path\n",
        "      if self.escape_tunnels and last_open_cell is not None and final_node != last_open_cell:\n",
        "        start = last_open_cell\n",
        "\n",
        "        loc_idx = planned_path.index(last_open_cell)\n",
        "        backtrack = reversed(planned_path[loc_idx:])\n",
        "\n",
        "        self.backtracks.append(backtrack)\n",
        "      else:\n",
        "        start = final_node\n",
        "\n",
        "    # We were able to reach successfully\n",
        "    return"
      ],
      "execution_count": null,
      "outputs": []
    },
    {
      "cell_type": "code",
      "metadata": {
        "colab": {
          "base_uri": "https://localhost:8080/"
        },
        "id": "1hgaILIJH7ck",
        "outputId": "3e0df59a-55db-46c1-a220-f08bc249cfbe"
      },
      "source": [
        "l = [1, 2, 3, 4, 5, 6, 7]\n",
        "\n",
        "last_open_cell = 3\n",
        "loc_idx = l.index(last_open_cell)\n",
        "backtrack = list(reversed(l[loc_idx:]))\n",
        "\n",
        "backtrack"
      ],
      "execution_count": null,
      "outputs": [
        {
          "output_type": "execute_result",
          "data": {
            "text/plain": [
              "[7, 6, 5, 4, 3]"
            ]
          },
          "metadata": {},
          "execution_count": 11
        }
      ]
    },
    {
      "cell_type": "code",
      "metadata": {
        "id": "EF4fbVWB44yA"
      },
      "source": [
        "def test_repeated_a_star_search_custom(move_nbhd_type=\"compass\", epsilon=1., escape_tunnels=False):\n",
        "  \"\"\" \n",
        "  For custom testing of the repeated A* search algorithm. The default grid presents\n",
        "  a particularly difficult case for A* search. \n",
        "  \n",
        "  Parameters\n",
        "  ----------\n",
        "  move_nbhd_type: str\n",
        "    `'compass'` - Agent can see in all 4 directions while moving\n",
        "    `'directional'` - Agent can only see in the direction it is moving\n",
        "  epsilon: float\n",
        "    Weight given to the heuristic function. Used as:\n",
        "    f(n) = g(n) * epsilon*h(n)\n",
        "  escape_tunnels: bool\n",
        "    Escape tunnels before restarting A* search\n",
        "  \"\"\"\n",
        "  # grid = [[0, 1, 0, 1, 0, 0, 1, 0, 0, 0],\n",
        "  #         [0, 1, 0, 1, 1, 0, 1, 0, 0, 0],\n",
        "  #         [0, 1, 1, 1, 0, 0, 0, 0, 1, 0],\n",
        "  #         [0, 1, 0, 0, 0, 1, 0, 1, 1, 0],\n",
        "  #         [0, 1, 0, 1, 1, 0, 1, 1, 0, 0],\n",
        "  #         [0, 1, 0, 1, 0, 0, 1, 0, 0, 1],\n",
        "  #         [0, 1, 0, 1, 0, 0, 0, 0, 0, 0],\n",
        "  #         [0, 1, 0, 1, 1, 0, 1, 0, 0, 1],\n",
        "  #         [0, 0, 0, 1, 1, 0, 1, 0, 0, 0],\n",
        "  #         [1, 1, 0, 1, 0, 0, 0, 0, 1, 0]]\n",
        "\n",
        "  grid = [[0, 0, 0, 0],\n",
        "          [0, 1, 1, 1],\n",
        "          [0, 0, 1, 0],\n",
        "          [1, 0, 0, 0]]\n",
        "\n",
        "  grid = np.array(grid)\n",
        "\n",
        "  # Run Repeated A* on the grid\n",
        "  repeated_a_star = RepeatedAStar(grid, move_nbhd_type=move_nbhd_type, epsilon=epsilon, escape_tunnels=escape_tunnels)\n",
        "  repeated_a_star.search((0, 0), (grid.shape[0]-1, grid.shape[1]-1), grid, \"manhattan\")\n",
        "\n",
        "  # Return the completed R.A* object\n",
        "  return repeated_a_star\n",
        "\n",
        "def test_repeated_a_star_search_random(grid_shape, block_prob, \n",
        "                                       heuristic_type=\"euclidean\", \n",
        "                                       move_nbhd_type=\"compass\", \n",
        "                                       solvable=True, \n",
        "                                       epsilon=1., \n",
        "                                       escape_tunnels=False,\n",
        "                                       max_steps_astar=None,\n",
        "                                       max_steps_repeated=None):\n",
        "  \"\"\" \n",
        "  For random testing of the repeated A* search algorithm. \n",
        "  \n",
        "  Parameters\n",
        "  ----------\n",
        "  grid_shape: (int, int)\n",
        "    Shape of the randomly generated gridworld\n",
        "  block_prob: float\n",
        "    Each cell in the randomly generated gridworld will be blocked with p = block_prob\n",
        "  heuristic_type: str\n",
        "    Can be `'euclidean'`, `'manhattan'`, or `'chebyshev'`\n",
        "  move_nbhd_type: str\n",
        "    `'compass'` - Agent can see in all 4 directions while moving\n",
        "    `'directional'` - Agent can only see in the direction it is moving\n",
        "  solvable: bool\n",
        "    Set to True if the randomly generated gridworld has to be solvable \n",
        "  epsilon: float\n",
        "    Weight given to the heuristic function. Used as:\n",
        "    f(n) = g(n) * epsilon*h(n)\n",
        "  escape_tunnels: bool\n",
        "    Escape tunnels before restarting A* search\n",
        "  \"\"\"\n",
        "\n",
        "  grid = None\n",
        "\n",
        "  # If the grid needs to be solvable\n",
        "  if solvable:\n",
        "    is_solvable = False\n",
        "\n",
        "    # Keep generating random gridworlds until a solvable one comes up\n",
        "    while not is_solvable:\n",
        "\n",
        "      # Generate and check solvability of gridworld\n",
        "      \n",
        "\n",
        "      grid = generate_gridworld(grid_shape, block_prob=block_prob)\n",
        "      knowledge = []\n",
        "      for i in range(grid.shape[0]):\n",
        "        row = []\n",
        "        for j in range(grid.shape[1]):\n",
        "          if grid[i][j] == 1:\n",
        "            row.append(dict(n_x=0, blocked=True, visited=False, state=-1, c_x=0, b_x=0, e_x=0, h_x=0))\n",
        "          else:\n",
        "            row.append(dict(n_x=0, blocked=False, visited=False, state=-1, c_x=0, b_x=0, e_x=0, h_x=0))\n",
        "        knowledge.append(row)\n",
        "  \n",
        "      _, exit_status, _ = a_star_search((0, 0), \n",
        "                                        (grid.shape[0]-1, grid.shape[1]-1), \n",
        "                                        grid, \n",
        "                                        heuristic_type, \n",
        "                                        np.zeros(grid.shape), \n",
        "                                        knowledge)\n",
        "\n",
        "      # If gridworld is solvable, break out of loop\n",
        "      if exit_status == \"SUCCESS\":\n",
        "        is_solvable = True\n",
        "  else:\n",
        "    # Else generate a random gridworld\n",
        "    grid = generate_gridworld(grid_shape, block_prob=block_prob)\n",
        "\n",
        "  t0 = time.time()\n",
        "\n",
        "  # Run Repeated A* on the grid\n",
        "  repeated_a_star = RepeatedAStar(grid, \n",
        "                                  move_nbhd_type=move_nbhd_type, \n",
        "                                  epsilon=epsilon, \n",
        "                                  escape_tunnels=escape_tunnels)\n",
        "  repeated_a_star.search((0, 0), (grid.shape[0]-1, grid.shape[1]-1), grid, heuristic_type,\n",
        "                         max_steps_repeated=max_steps_repeated, max_steps_astar=max_steps_astar)\n",
        "\n",
        "  time_taken = time.time() - t0\n",
        "\n",
        "  # Return the completed R.A* object and the time taken\n",
        "  return repeated_a_star, time_taken"
      ],
      "execution_count": null,
      "outputs": []
    },
    {
      "cell_type": "markdown",
      "metadata": {
        "id": "G-oipTODCslL"
      },
      "source": [
        "## **Random Testing**"
      ]
    },
    {
      "cell_type": "code",
      "metadata": {
        "colab": {
          "base_uri": "https://localhost:8080/"
        },
        "id": "g7ZJh5eLwsHB",
        "outputId": "c686ff0e-51dd-4790-ebec-a51c78335ace"
      },
      "source": [
        "%%time\n",
        "\n",
        "NUM_ITERS = 1100\n",
        "DIM_ROWS, DIM_COLS, P = 50, 50, 0.3\n",
        "HEURISTIC_FN = \"manhattan\"\n",
        "\n",
        "path_lengths = []\n",
        "times = []\n",
        "\n",
        "count = 0\n",
        "for iter in tqdm(range(NUM_ITERS)):\n",
        "    if count > 900:\n",
        "        break\n",
        "\n",
        "    try:\n",
        "        ras, time_taken = test_repeated_a_star_search_random((DIM_ROWS, DIM_COLS), P, HEURISTIC_FN)\n",
        "        path_lengths.append(len(ras.path_followed()))\n",
        "        times.append(time_taken)\n",
        "\n",
        "        count += 1\n",
        "    except:\n",
        "        continue"
      ],
      "execution_count": null,
      "outputs": [
        {
          "output_type": "stream",
          "name": "stderr",
          "text": [
            " 83%|████████▎ | 917/1100 [04:49<00:57,  3.17it/s]"
          ]
        },
        {
          "output_type": "stream",
          "name": "stdout",
          "text": [
            "CPU times: user 4min 46s, sys: 1.48 s, total: 4min 48s\n",
            "Wall time: 4min 49s\n"
          ]
        },
        {
          "output_type": "stream",
          "name": "stderr",
          "text": [
            "\n"
          ]
        }
      ]
    },
    {
      "cell_type": "code",
      "source": [
        "len(path_lengths)"
      ],
      "metadata": {
        "colab": {
          "base_uri": "https://localhost:8080/"
        },
        "id": "C2Lk1va6Uj4T",
        "outputId": "ac830dfa-b365-4959-91f8-f0701e004d2f"
      },
      "execution_count": null,
      "outputs": [
        {
          "output_type": "execute_result",
          "data": {
            "text/plain": [
              "901"
            ]
          },
          "metadata": {},
          "execution_count": 20
        }
      ]
    },
    {
      "cell_type": "code",
      "metadata": {
        "id": "7aGr4AQjhaJ0"
      },
      "source": [
        "def block_undiscovered_nodes(knowledge):\n",
        "  for i in range(len(knowledge)):\n",
        "    row = []\n",
        "    for j in range(len(knowledge)):\n",
        "      if knowledge[i][j]['state'] == -1:\n",
        "        knowledge[i][j]['blocked'] = True\n",
        "  return knowledge"
      ],
      "execution_count": null,
      "outputs": []
    },
    {
      "cell_type": "code",
      "metadata": {
        "colab": {
          "base_uri": "https://localhost:8080/"
        },
        "id": "r6c0yH0PikDq",
        "outputId": "e84ef42c-a8cc-4914-fa7d-f173e8a0eb5f"
      },
      "source": [
        "\n",
        "ras, _ = test_repeated_a_star_search_random((10, 10), 0.25, \"manhattan\")\n",
        "print(np.shape(ras.knowledge_snaps))\n",
        "pretty_print(ras.grid)"
      ],
      "execution_count": null,
      "outputs": [
        {
          "output_type": "stream",
          "name": "stdout",
          "text": [
            "(6, 10, 10)\n",
            "   0   0   1   0   0   0   0   0   0   0\n",
            "   0   0   0   0   0   0   0   0   0   0\n",
            "   0   0   0   0   1   0   0   0   0   0\n",
            "   0   0   1   0   0   0   0   0   0   1\n",
            "   0   1   0   1   0   0   0   0   0   1\n",
            "   0   0   0   1   1   0   0   0   1   1\n",
            "   0   0   0   0   0   1   0   1   1   0\n",
            "   0   0   0   0   1   0   0   0   0   0\n",
            "   0   0   1   0   1   0   0   1   0   0\n",
            "   0   1   1   1   0   1   0   1   0   0\n"
          ]
        }
      ]
    },
    {
      "cell_type": "code",
      "metadata": {
        "colab": {
          "base_uri": "https://localhost:8080/"
        },
        "id": "gz8a8eCFBOf6",
        "outputId": "a2aadcbc-0291-4d91-9ea5-3f89fdcc122d"
      },
      "source": [
        "pretty_print(visualize_grid(ras.path_followed(),ras.grid))\n",
        "print(ras.bumps)"
      ],
      "execution_count": null,
      "outputs": [
        {
          "output_type": "stream",
          "name": "stdout",
          "text": [
            "*   *   1   0   0   0   0   0   0   0   \n",
            "0   *   *   *   *   *   *   *   *   *   \n",
            "0   0   0   0   1   0   0   0   *   *   \n",
            "0   0   1   0   0   0   0   0   *   1   \n",
            "0   1   0   1   0   0   0   *   *   1   \n",
            "0   0   0   1   1   0   *   *   1   1   \n",
            "0   0   0   0   0   1   *   1   1   0   \n",
            "0   0   0   0   1   0   *   *   *   *   \n",
            "0   0   1   0   1   0   0   1   0   *   \n",
            "0   1   1   1   0   1   0   1   0   0   \n",
            "5\n"
          ]
        }
      ]
    },
    {
      "cell_type": "code",
      "metadata": {
        "colab": {
          "base_uri": "https://localhost:8080/"
        },
        "id": "EcPkB1KZi3p9",
        "outputId": "836614b0-76cc-434e-e1af-c31583799dd9"
      },
      "source": [
        "\n",
        "# print(visualize_grid(ras.path_followed(),ras.grid))\n",
        "print()\n",
        "\n",
        "nk = []\n",
        "new_k = block_undiscovered_nodes( ras.knowledge_snaps[-1])\n",
        "for i in range(len(new_k)):\n",
        "  r=[]\n",
        "  for j in range(len(new_k)):\n",
        "    r.append(1 if new_k[i][j]['blocked'] else 0)\n",
        "  nk.append(r)\n",
        "pretty_print(nk)"
      ],
      "execution_count": null,
      "outputs": [
        {
          "output_type": "stream",
          "name": "stdout",
          "text": [
            "\n",
            "   0   0   1   0   1   0   0   0   0   0\n",
            "   0   0   0   0   0   0   0   0   0   0\n",
            "   1   0   0   0   1   0   0   0   0   0\n",
            "   1   1   1   1   1   1   0   0   0   1\n",
            "   1   1   1   1   1   1   0   0   0   1\n",
            "   1   1   1   1   1   1   0   0   1   1\n",
            "   1   1   1   1   1   1   0   1   1   1\n",
            "   1   1   1   1   1   1   0   0   0   0\n",
            "   1   1   1   1   1   1   1   1   0   0\n",
            "   1   1   1   1   1   1   1   1   0   0\n"
          ]
        }
      ]
    },
    {
      "cell_type": "markdown",
      "metadata": {
        "id": "GGu7g7KfCZKw"
      },
      "source": [
        "## **Agent 3 Analysis**"
      ]
    },
    {
      "cell_type": "code",
      "metadata": {
        "id": "TsrTVROrUcOR"
      },
      "source": [
        "def temp(grid):\n",
        "      knowledge = []\n",
        "      for i in range(grid.shape[0]):\n",
        "        row = []\n",
        "        for j in range(grid.shape[1]):\n",
        "          if grid[i][j] == 1:\n",
        "            row.append(dict(n_x=0, blocked=True, visited=False, state=-1, c_x=0, b_x=0, e_x=0, h_x=0))\n",
        "          else:\n",
        "            row.append(dict(n_x=0, blocked=False, visited=False, state=-1, c_x=0, b_x=0, e_x=0, h_x=0))\n",
        "        knowledge.append(row)\n",
        "      return knowledge\n",
        "\n",
        "      \n",
        "def q6(num_iters, dim_rows, dim_cols, densities, heuristic_fn, max_steps_astar=None, max_steps_repeated=None):\n",
        "\n",
        "  mean_traj_lengths, mean_num_cells_processed, mean_metric_2, mean_metric_3 ,mean_time,avg_bumps=[], [], [], [], [],[]\n",
        "\n",
        "  for i in tqdm(range(len(densities))):\n",
        "    p = densities[i]\n",
        "\n",
        "    print(\"P = \" + str(p), end=\"\\n\")\n",
        "\n",
        "    traj_lengths, traj_lengths_by_sp_final_discs, sp_final_disc_by_sp_fulls, num_cells_processed, time_taken,bumps = [],[], [], [], [],[]\n",
        "\n",
        "    for i in range(num_iters):\n",
        "\n",
        "      if i % 50 == 0: \n",
        "        print(str(i) + \": Running R-A*...\", end='')\n",
        "\n",
        "      ras, time_t = test_repeated_a_star_search_random((dim_rows, dim_cols), p, heuristic_fn, \n",
        "                                                  max_steps_repeated=max_steps_repeated, \n",
        "                                                  max_steps_astar=max_steps_astar)\n",
        "      \n",
        "      bumps.append(ras.bumps)\n",
        "      \n",
        "      new_knowledge = block_undiscovered_nodes( ras.knowledge_snaps[-1])\n",
        "      \n",
        "      #print('testtt', len(ras.knowledge_snaps[-1]), len(new_knowledge))\n",
        "      if i % 50 == 0:\n",
        "        print(\"SP disc...\", end='')\n",
        "\n",
        "      shortest_path_final_discovered , exit_status_final_discovered, _ = \\\n",
        "        a_star_search((0, 0), (ras.grid.shape[0]-1, ras.grid.shape[1]-1), \n",
        "                      ras.grid.copy(), heuristic_fn, np.zeros(ras.grid.shape), \n",
        "                      new_knowledge)\n",
        "        \n",
        "\n",
        "      new_knowledge = temp(ras.grid) \n",
        "      if i % 50 == 0:\n",
        "        print(\"SP disc full...\", end='')\n",
        "\n",
        "      shortest_path_full, exit_status_full, _ = \\\n",
        "        a_star_search((0, 0), (ras.grid.shape[0]-1, ras.grid.shape[1]-1), \n",
        "                      ras.grid.copy(), heuristic_fn, np.zeros(ras.grid.shape), \n",
        "                      new_knowledge)\n",
        "        \n",
        "      if i % 50 == 0:\n",
        "        print(\"Done.\")\n",
        "\n",
        "      try:\n",
        "        trajectory_length = len(ras.path_followed())  # Metric 1\n",
        "      except:\n",
        "        print(\"Skipped!\")\n",
        "        continue\n",
        "      if len(shortest_path_final_discovered)<19:\n",
        "        print(\"Mischievious path length\",len(shortest_path_final_discovered) )\n",
        "        print(shortest_path_final_discovered)\n",
        "        break\n",
        "        #pretty_print(visualize_grid(ras.path_followed(),ras.grid))\n",
        "      traj_length_by_sp_final_disc = trajectory_length/len(shortest_path_final_discovered)  # Metric 2\n",
        "      sp_final_disc_by_sp_full = len(shortest_path_final_discovered)  # Metric 3\n",
        "      total_cells_processed = ras.total_cells_processed()  # Metric 4\n",
        "      \n",
        "\n",
        "      traj_lengths.append(trajectory_length)\n",
        "      traj_lengths_by_sp_final_discs.append(traj_length_by_sp_final_disc)\n",
        "      sp_final_disc_by_sp_fulls.append(sp_final_disc_by_sp_full)\n",
        "      num_cells_processed.append(total_cells_processed)\n",
        "      time_taken.append(time_t)#metric 5\n",
        "\n",
        "    mean_traj_lengths.append(np.mean(traj_lengths))\n",
        "    mean_num_cells_processed.append(np.mean(num_cells_processed))\n",
        "    mean_metric_2.append(np.mean(traj_lengths_by_sp_final_discs))\n",
        "    mean_metric_3.append(np.mean(sp_final_disc_by_sp_fulls))\n",
        "    mean_time.append(np.mean(time_taken))\n",
        "    avg_bumps.append(np.mean(bumps))\n",
        "\n",
        "  df_res = pd.DataFrame({\"p\": densities, \n",
        "                         \"mean_trajectory_lengths\": mean_traj_lengths, \n",
        "                         \"mean_metric_2\": mean_metric_2, \n",
        "                         \"final_path_length_discovered\": mean_metric_3,\n",
        "                         \"mean_num_cells_processed\": mean_num_cells_processed,\n",
        "                         \"time_taken\":mean_time,\n",
        "                         \"mean_bumps\":avg_bumps})\n",
        "  \n",
        "  return df_res"
      ],
      "execution_count": null,
      "outputs": []
    },
    {
      "cell_type": "markdown",
      "metadata": {
        "id": "aRANsmFfghzg"
      },
      "source": [
        ""
      ]
    },
    {
      "cell_type": "code",
      "metadata": {
        "colab": {
          "base_uri": "https://localhost:8080/"
        },
        "id": "vNsv8qzMUrvh",
        "outputId": "1b897f2c-1c69-4a66-98c2-dc2d35ce690e"
      },
      "source": [
        "NUM_ITERS = 10\n",
        "DIM_ROWS, DIM_COLS, P0 = 101, 101, 0.29\n",
        "DENSITIES = np.arange(0.0, 0.33, 0.01)\n",
        "HEURISTIC_FN = \"manhattan\"\n",
        "\n",
        "NUM_STEPS_INF = 532643263\n",
        "\n",
        "df = q6(NUM_ITERS, DIM_ROWS, DIM_COLS, DENSITIES, HEURISTIC_FN, \n",
        "        max_steps_astar=None, max_steps_repeated=None)\n",
        "\n"
      ],
      "execution_count": null,
      "outputs": [
        {
          "output_type": "stream",
          "name": "stderr",
          "text": [
            "\r  0%|          | 0/33 [00:00<?, ?it/s]"
          ]
        },
        {
          "output_type": "stream",
          "name": "stdout",
          "text": [
            "P = 0.0\n",
            "0: Running R-A*...SP disc...SP disc full...Done.\n"
          ]
        },
        {
          "output_type": "stream",
          "name": "stderr",
          "text": [
            "\r  3%|▎         | 1/33 [00:01<00:34,  1.07s/it]"
          ]
        },
        {
          "output_type": "stream",
          "name": "stdout",
          "text": [
            "P = 0.01\n",
            "0: Running R-A*...SP disc...SP disc full...Done.\n"
          ]
        },
        {
          "output_type": "stream",
          "name": "stderr",
          "text": [
            "\r  6%|▌         | 2/33 [00:02<00:37,  1.22s/it]"
          ]
        },
        {
          "output_type": "stream",
          "name": "stdout",
          "text": [
            "P = 0.02\n",
            "0: Running R-A*...SP disc...SP disc full...Done.\n"
          ]
        },
        {
          "output_type": "stream",
          "name": "stderr",
          "text": [
            "\r  9%|▉         | 3/33 [00:03<00:41,  1.37s/it]"
          ]
        },
        {
          "output_type": "stream",
          "name": "stdout",
          "text": [
            "P = 0.03\n",
            "0: Running R-A*...SP disc...SP disc full...Done.\n"
          ]
        },
        {
          "output_type": "stream",
          "name": "stderr",
          "text": [
            "\r 12%|█▏        | 4/33 [00:05<00:46,  1.61s/it]"
          ]
        },
        {
          "output_type": "stream",
          "name": "stdout",
          "text": [
            "P = 0.04\n",
            "0: Running R-A*...SP disc...SP disc full...Done.\n"
          ]
        },
        {
          "output_type": "stream",
          "name": "stderr",
          "text": [
            "\r 15%|█▌        | 5/33 [00:07<00:48,  1.73s/it]"
          ]
        },
        {
          "output_type": "stream",
          "name": "stdout",
          "text": [
            "P = 0.05\n",
            "0: Running R-A*...SP disc...SP disc full...Done.\n"
          ]
        },
        {
          "output_type": "stream",
          "name": "stderr",
          "text": [
            "\r 18%|█▊        | 6/33 [00:10<00:52,  1.93s/it]"
          ]
        },
        {
          "output_type": "stream",
          "name": "stdout",
          "text": [
            "P = 0.06\n",
            "0: Running R-A*...SP disc...SP disc full...Done.\n"
          ]
        },
        {
          "output_type": "stream",
          "name": "stderr",
          "text": [
            "\r 21%|██        | 7/33 [00:12<00:54,  2.09s/it]"
          ]
        },
        {
          "output_type": "stream",
          "name": "stdout",
          "text": [
            "P = 0.07\n",
            "0: Running R-A*...SP disc...SP disc full...Done.\n"
          ]
        },
        {
          "output_type": "stream",
          "name": "stderr",
          "text": [
            "\r 24%|██▍       | 8/33 [00:15<00:55,  2.22s/it]"
          ]
        },
        {
          "output_type": "stream",
          "name": "stdout",
          "text": [
            "P = 0.08\n",
            "0: Running R-A*...SP disc...SP disc full...Done.\n"
          ]
        },
        {
          "output_type": "stream",
          "name": "stderr",
          "text": [
            "\r 27%|██▋       | 9/33 [00:18<00:59,  2.47s/it]"
          ]
        },
        {
          "output_type": "stream",
          "name": "stdout",
          "text": [
            "P = 0.09\n",
            "0: Running R-A*...SP disc...SP disc full...Done.\n"
          ]
        },
        {
          "output_type": "stream",
          "name": "stderr",
          "text": [
            "\r 30%|███       | 10/33 [00:21<01:02,  2.70s/it]"
          ]
        },
        {
          "output_type": "stream",
          "name": "stdout",
          "text": [
            "P = 0.1\n",
            "0: Running R-A*...SP disc...SP disc full...Done.\n"
          ]
        },
        {
          "output_type": "stream",
          "name": "stderr",
          "text": [
            "\r 33%|███▎      | 11/33 [00:24<01:03,  2.88s/it]"
          ]
        },
        {
          "output_type": "stream",
          "name": "stdout",
          "text": [
            "P = 0.11\n",
            "0: Running R-A*...SP disc...SP disc full...Done.\n"
          ]
        },
        {
          "output_type": "stream",
          "name": "stderr",
          "text": [
            "\r 36%|███▋      | 12/33 [00:28<01:05,  3.13s/it]"
          ]
        },
        {
          "output_type": "stream",
          "name": "stdout",
          "text": [
            "P = 0.12\n",
            "0: Running R-A*...SP disc...SP disc full...Done.\n"
          ]
        },
        {
          "output_type": "stream",
          "name": "stderr",
          "text": [
            "\r 39%|███▉      | 13/33 [00:32<01:07,  3.37s/it]"
          ]
        },
        {
          "output_type": "stream",
          "name": "stdout",
          "text": [
            "P = 0.13\n",
            "0: Running R-A*...SP disc...SP disc full...Done.\n"
          ]
        },
        {
          "output_type": "stream",
          "name": "stderr",
          "text": [
            "\r 42%|████▏     | 14/33 [00:36<01:08,  3.59s/it]"
          ]
        },
        {
          "output_type": "stream",
          "name": "stdout",
          "text": [
            "P = 0.14\n",
            "0: Running R-A*...SP disc...SP disc full...Done.\n"
          ]
        },
        {
          "output_type": "stream",
          "name": "stderr",
          "text": [
            "\r 45%|████▌     | 15/33 [00:40<01:09,  3.85s/it]"
          ]
        },
        {
          "output_type": "stream",
          "name": "stdout",
          "text": [
            "P = 0.15\n",
            "0: Running R-A*...SP disc...SP disc full...Done.\n"
          ]
        },
        {
          "output_type": "stream",
          "name": "stderr",
          "text": [
            "\r 48%|████▊     | 16/33 [00:45<01:07,  3.97s/it]"
          ]
        },
        {
          "output_type": "stream",
          "name": "stdout",
          "text": [
            "P = 0.16\n",
            "0: Running R-A*...SP disc...SP disc full...Done.\n"
          ]
        },
        {
          "output_type": "stream",
          "name": "stderr",
          "text": [
            "\r 52%|█████▏    | 17/33 [00:50<01:10,  4.41s/it]"
          ]
        },
        {
          "output_type": "stream",
          "name": "stdout",
          "text": [
            "P = 0.17\n",
            "0: Running R-A*...SP disc...SP disc full...Done.\n"
          ]
        },
        {
          "output_type": "stream",
          "name": "stderr",
          "text": [
            "\r 55%|█████▍    | 18/33 [00:55<01:10,  4.72s/it]"
          ]
        },
        {
          "output_type": "stream",
          "name": "stdout",
          "text": [
            "P = 0.18\n",
            "0: Running R-A*...SP disc...SP disc full...Done.\n"
          ]
        },
        {
          "output_type": "stream",
          "name": "stderr",
          "text": [
            "\r 58%|█████▊    | 19/33 [01:02<01:12,  5.21s/it]"
          ]
        },
        {
          "output_type": "stream",
          "name": "stdout",
          "text": [
            "P = 0.19\n",
            "0: Running R-A*...SP disc...SP disc full...Done.\n"
          ]
        },
        {
          "output_type": "stream",
          "name": "stderr",
          "text": [
            "\r 61%|██████    | 20/33 [01:09<01:13,  5.67s/it]"
          ]
        },
        {
          "output_type": "stream",
          "name": "stdout",
          "text": [
            "P = 0.2\n",
            "0: Running R-A*...SP disc...SP disc full...Done.\n"
          ]
        },
        {
          "output_type": "stream",
          "name": "stderr",
          "text": [
            "\r 64%|██████▎   | 21/33 [01:15<01:09,  5.76s/it]"
          ]
        },
        {
          "output_type": "stream",
          "name": "stdout",
          "text": [
            "P = 0.21\n",
            "0: Running R-A*...SP disc...SP disc full...Done.\n"
          ]
        },
        {
          "output_type": "stream",
          "name": "stderr",
          "text": [
            "\r 67%|██████▋   | 22/33 [01:21<01:05,  5.97s/it]"
          ]
        },
        {
          "output_type": "stream",
          "name": "stdout",
          "text": [
            "P = 0.22\n",
            "0: Running R-A*...SP disc...SP disc full...Done.\n"
          ]
        },
        {
          "output_type": "stream",
          "name": "stderr",
          "text": [
            "\r 70%|██████▉   | 23/33 [01:29<01:06,  6.62s/it]"
          ]
        },
        {
          "output_type": "stream",
          "name": "stdout",
          "text": [
            "P = 0.23\n",
            "0: Running R-A*...SP disc...SP disc full...Done.\n"
          ]
        },
        {
          "output_type": "stream",
          "name": "stderr",
          "text": [
            "\r 73%|███████▎  | 24/33 [01:36<01:01,  6.78s/it]"
          ]
        },
        {
          "output_type": "stream",
          "name": "stdout",
          "text": [
            "P = 0.24\n",
            "0: Running R-A*...SP disc...SP disc full...Done.\n"
          ]
        },
        {
          "output_type": "stream",
          "name": "stderr",
          "text": [
            "\r 76%|███████▌  | 25/33 [01:46<01:00,  7.57s/it]"
          ]
        },
        {
          "output_type": "stream",
          "name": "stdout",
          "text": [
            "P = 0.25\n",
            "0: Running R-A*...SP disc...SP disc full...Done.\n"
          ]
        },
        {
          "output_type": "stream",
          "name": "stderr",
          "text": [
            "\r 79%|███████▉  | 26/33 [01:55<00:55,  7.97s/it]"
          ]
        },
        {
          "output_type": "stream",
          "name": "stdout",
          "text": [
            "P = 0.26\n",
            "0: Running R-A*...SP disc...SP disc full...Done.\n"
          ]
        },
        {
          "output_type": "stream",
          "name": "stderr",
          "text": [
            "\r 82%|████████▏ | 27/33 [02:05<00:52,  8.70s/it]"
          ]
        },
        {
          "output_type": "stream",
          "name": "stdout",
          "text": [
            "P = 0.27\n",
            "0: Running R-A*...SP disc...SP disc full...Done.\n"
          ]
        },
        {
          "output_type": "stream",
          "name": "stderr",
          "text": [
            "\r 85%|████████▍ | 28/33 [02:17<00:48,  9.74s/it]"
          ]
        },
        {
          "output_type": "stream",
          "name": "stdout",
          "text": [
            "P = 0.28\n",
            "0: Running R-A*...SP disc...SP disc full...Done.\n"
          ]
        },
        {
          "output_type": "stream",
          "name": "stderr",
          "text": [
            "\r 88%|████████▊ | 29/33 [02:29<00:41, 10.44s/it]"
          ]
        },
        {
          "output_type": "stream",
          "name": "stdout",
          "text": [
            "P = 0.29\n",
            "0: Running R-A*...SP disc...SP disc full...Done.\n"
          ]
        },
        {
          "output_type": "stream",
          "name": "stderr",
          "text": [
            "\r 91%|█████████ | 30/33 [02:41<00:32, 10.95s/it]"
          ]
        },
        {
          "output_type": "stream",
          "name": "stdout",
          "text": [
            "P = 0.3\n",
            "0: Running R-A*...SP disc...SP disc full...Done.\n"
          ]
        },
        {
          "output_type": "stream",
          "name": "stderr",
          "text": [
            "\r 94%|█████████▍| 31/33 [02:56<00:23, 11.95s/it]"
          ]
        },
        {
          "output_type": "stream",
          "name": "stdout",
          "text": [
            "P = 0.31\n",
            "0: Running R-A*...SP disc...SP disc full...Done.\n"
          ]
        },
        {
          "output_type": "stream",
          "name": "stderr",
          "text": [
            "\r 97%|█████████▋| 32/33 [03:10<00:12, 12.65s/it]"
          ]
        },
        {
          "output_type": "stream",
          "name": "stdout",
          "text": [
            "P = 0.32\n",
            "0: Running R-A*...SP disc...SP disc full...Done.\n"
          ]
        },
        {
          "output_type": "stream",
          "name": "stderr",
          "text": [
            "100%|██████████| 33/33 [03:28<00:00,  6.31s/it]\n"
          ]
        }
      ]
    },
    {
      "cell_type": "code",
      "metadata": {
        "colab": {
          "base_uri": "https://localhost:8080/",
          "height": 224
        },
        "id": "_3_NboWmXNmz",
        "outputId": "d7640300-4a7e-48be-c565-2f211034aafe"
      },
      "source": [
        "df.head()"
      ],
      "execution_count": null,
      "outputs": [
        {
          "output_type": "execute_result",
          "data": {
            "text/html": [
              "<div>\n",
              "<style scoped>\n",
              "    .dataframe tbody tr th:only-of-type {\n",
              "        vertical-align: middle;\n",
              "    }\n",
              "\n",
              "    .dataframe tbody tr th {\n",
              "        vertical-align: top;\n",
              "    }\n",
              "\n",
              "    .dataframe thead th {\n",
              "        text-align: right;\n",
              "    }\n",
              "</style>\n",
              "<table border=\"1\" class=\"dataframe\">\n",
              "  <thead>\n",
              "    <tr style=\"text-align: right;\">\n",
              "      <th></th>\n",
              "      <th>p</th>\n",
              "      <th>mean_trajectory_lengths</th>\n",
              "      <th>mean_metric_2</th>\n",
              "      <th>final_path_length_discovered</th>\n",
              "      <th>mean_num_cells_processed</th>\n",
              "      <th>time_taken</th>\n",
              "      <th>mean_bumps</th>\n",
              "    </tr>\n",
              "  </thead>\n",
              "  <tbody>\n",
              "    <tr>\n",
              "      <th>0</th>\n",
              "      <td>0.00</td>\n",
              "      <td>200.0</td>\n",
              "      <td>0.995025</td>\n",
              "      <td>201.0</td>\n",
              "      <td>201.0</td>\n",
              "      <td>0.030243</td>\n",
              "      <td>0.0</td>\n",
              "    </tr>\n",
              "    <tr>\n",
              "      <th>1</th>\n",
              "      <td>0.01</td>\n",
              "      <td>201.2</td>\n",
              "      <td>0.999015</td>\n",
              "      <td>201.4</td>\n",
              "      <td>413.4</td>\n",
              "      <td>0.049234</td>\n",
              "      <td>1.7</td>\n",
              "    </tr>\n",
              "    <tr>\n",
              "      <th>2</th>\n",
              "      <td>0.02</td>\n",
              "      <td>203.6</td>\n",
              "      <td>1.008916</td>\n",
              "      <td>201.8</td>\n",
              "      <td>490.8</td>\n",
              "      <td>0.051359</td>\n",
              "      <td>3.3</td>\n",
              "    </tr>\n",
              "    <tr>\n",
              "      <th>3</th>\n",
              "      <td>0.03</td>\n",
              "      <td>205.6</td>\n",
              "      <td>1.009811</td>\n",
              "      <td>203.6</td>\n",
              "      <td>819.1</td>\n",
              "      <td>0.075410</td>\n",
              "      <td>6.0</td>\n",
              "    </tr>\n",
              "    <tr>\n",
              "      <th>4</th>\n",
              "      <td>0.04</td>\n",
              "      <td>212.4</td>\n",
              "      <td>1.030981</td>\n",
              "      <td>206.0</td>\n",
              "      <td>1212.0</td>\n",
              "      <td>0.104525</td>\n",
              "      <td>10.0</td>\n",
              "    </tr>\n",
              "  </tbody>\n",
              "</table>\n",
              "</div>"
            ],
            "text/plain": [
              "      p  mean_trajectory_lengths  ...  time_taken  mean_bumps\n",
              "0  0.00                    200.0  ...    0.030243         0.0\n",
              "1  0.01                    201.2  ...    0.049234         1.7\n",
              "2  0.02                    203.6  ...    0.051359         3.3\n",
              "3  0.03                    205.6  ...    0.075410         6.0\n",
              "4  0.04                    212.4  ...    0.104525        10.0\n",
              "\n",
              "[5 rows x 7 columns]"
            ]
          },
          "metadata": {},
          "execution_count": 27
        }
      ]
    },
    {
      "cell_type": "code",
      "metadata": {
        "id": "ThOa-BkR6ckU"
      },
      "source": [
        "df.to_csv(\"agent3_metrics_bumps.csv\")"
      ],
      "execution_count": null,
      "outputs": []
    },
    {
      "cell_type": "markdown",
      "metadata": {
        "id": "IlQLnkiMB8Z1"
      },
      "source": [
        "## **Plot Comparisons**"
      ]
    },
    {
      "cell_type": "code",
      "metadata": {
        "id": "1HX99q01nqWb"
      },
      "source": [
        "print(repeated_a_star.final_exit_status)\n",
        "pretty_print(visualize_grid(ras.path_followed(), ras.knowledge_snaps[-1].astype(int)))"
      ],
      "execution_count": null,
      "outputs": []
    },
    {
      "cell_type": "code",
      "metadata": {
        "id": "lG8rF-1tdDZ7"
      },
      "source": [
        "def plot_line_chart(x, y, xlabel, ylabel, title=None, fig=None, ax=None):\n",
        "    if not fig:\n",
        "        fig, ax = plt.subplots()\n",
        "    ax.set_xlabel(xlabel)\n",
        "    ax.set_ylabel(ylabel)\n",
        "    if title:\n",
        "        ax.set_title(title)\n",
        "    ax.plot(x, y)\n",
        "    fig.show()\n",
        "    return fig, ax\n",
        "\n",
        "def plot_comparison_line_charts(x, comp, xlabel, ylabel, title=None, fig=None, ax=None):\n",
        "    if not fig:\n",
        "        fig, ax = plt.subplots()\n",
        "    ax.set_xlabel(xlabel)\n",
        "    ax.set_ylabel(ylabel)\n",
        "    if title:\n",
        "        ax.set_title(title)\n",
        "    \n",
        "    for i in comp:\n",
        "        y, label = i\n",
        "        ax.plot(x, y, label=label)\n",
        "    ax.legend()\n",
        "    fig.show()\n",
        "    return fig, ax"
      ],
      "execution_count": null,
      "outputs": []
    },
    {
      "cell_type": "code",
      "metadata": {
        "id": "ZKMCa3X9fJt_"
      },
      "source": [
        "import pandas as pd\n",
        "\n",
        "df_agent3=pd.read_csv(\"agent3_metrics_v2.csv\")\n",
        "df_agent3.head()\n",
        "mean_traj_length_agent3=df_agent3[\"mean_trajectory_lengths\"]\n",
        "df_agent1=pd.read_csv(\"agent1_metrics_v2.csv\")\n",
        "df_agent1.head()\n",
        "mean_traj_length_agent1=df_agent1[\"mean_trajectory_lengths\"]\n",
        "df_agent2=pd.read_csv(\"agent2_metrics_v2.csv\")\n",
        "df_agent2.head()\n",
        "mean_traj_length_agent2=df_agent2[\"mean_trajectory_lengths\"]\n"
      ],
      "execution_count": null,
      "outputs": []
    },
    {
      "cell_type": "code",
      "metadata": {
        "colab": {
          "base_uri": "https://localhost:8080/",
          "height": 406
        },
        "id": "gpfIkddK1Op1",
        "outputId": "e7273fcd-d65b-4748-9110-2567da0de313"
      },
      "source": [
        "# fig, ax = plt.subplots(1, 1)\n",
        "plt.rcParams.update({'font.size': 14})\n",
        "# df1 = df[['Probability', 'Cells Processed', 'Type']]\n",
        "#pivot_df = df1.pivot(index='Type', columns='Probability', values='Cells Processed')\n",
        "fig, _ =  plot_comparison_line_charts(df_agent3['p'], [ (mean_traj_length_agent1, 'Agent 1'),(mean_traj_length_agent2, 'Agent 2'),(mean_traj_length_agent3, 'Agent 3')]\n",
        "                                      ,xlabel='Density', ylabel='trajectory_length', title='Agent 1 vs Agent 2 vs Agent3 ')\n",
        "fig.set_size_inches(20, 7)"
      ],
      "execution_count": null,
      "outputs": [
        {
          "output_type": "display_data",
          "data": {
            "image/png": "[encoded data removed]",
            "text/plain": [
              "<Figure size 1440x504 with 1 Axes>"
            ]
          },
          "metadata": {
            "needs_background": "light"
          }
        }
      ]
    }
  ]
}