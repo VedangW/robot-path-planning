{
  "nbformat": 4,
  "nbformat_minor": 0,
  "metadata": {
    "colab": {
      "name": "Agent 8 Final Copy.ipynb",
      "provenance": [],
      "collapsed_sections": []
    },
    "kernelspec": {
      "name": "python3",
      "display_name": "Python 3"
    },
    "language_info": {
      "name": "python"
    }
  },
  "cells": [
    {
      "cell_type": "markdown",
      "metadata": {
        "id": "cncIPmBPW4XX"
      },
      "source": [
        "## **Imports**"
      ]
    },
    {
      "cell_type": "code",
      "metadata": {
        "id": "8ZnqcTHaiXFg"
      },
      "source": [
        "# Utils\n",
        "import time\n",
        "import random\n",
        "import sys\n",
        "from tqdm import tqdm\n",
        "\n",
        "# Data Structures\n",
        "import heapq\n",
        "\n",
        "# Data Manipulation and computations\n",
        "import numpy as np\n",
        "import pandas as pd\n",
        "import scipy.spatial.distance as dist\n",
        "import operator\n",
        "\n",
        "# Visualization\n",
        "import matplotlib.pyplot as plt\n",
        "%matplotlib inline\n",
        "import seaborn as sns\n",
        "\n",
        "from collections import deque\n",
        "from statsmodels.stats.weightstats import ztest, ttest_ind"
      ],
      "execution_count": null,
      "outputs": []
    },
    {
      "cell_type": "markdown",
      "metadata": {
        "id": "Pk_ReU6sW-9p"
      },
      "source": [
        "## **A-Star Search**"
      ]
    },
    {
      "cell_type": "code",
      "metadata": {
        "id": "As2fde5Q__K5"
      },
      "source": [
        "#@title Util Functions for A* Search\n",
        "\n",
        "class Node:\n",
        "  \n",
        "  def __init__(self, parent=None, position=None, recency_factor=None):\n",
        "    \"\"\" Represents a Node in the A* search tree. \"\"\"\n",
        "\n",
        "    self.parent = parent\n",
        "    self.position = position\n",
        "    self.recency_factor = recency_factor\n",
        "\n",
        "    self.g = 0\n",
        "    self.h = 0\n",
        "    self.f = 0\n",
        "  \n",
        "  def __eq__(self,other):\n",
        "    \"\"\" For Node comparison. \"\"\"\n",
        "    if type(self) != type(other):\n",
        "      return False\n",
        "\n",
        "    return self.position == other.position\n",
        "  \n",
        "  def __lt__(self, other):\n",
        "    \"\"\" For heap comparison. \"\"\"\n",
        "    if self.f < other.f:\n",
        "      return True\n",
        "    elif self.f == other.f:\n",
        "      if self.recency_factor > other.recency_factor:\n",
        "        return True\n",
        "    \n",
        "    return False\n",
        "\n",
        "  def __gt__(self, other):\n",
        "    if self.f > other.f:\n",
        "      return True\n",
        "    elif self.f == other.f:\n",
        "      if self.recency_factor < other.recency_factor:\n",
        "        return True\n",
        "    \n",
        "    return False\n",
        "\n",
        "def grid_path(current_node):\n",
        "  \"\"\" Recursively finds the path from the leaf to the root node in the A* search tree. \"\"\"\n",
        "  path = []\n",
        "\n",
        "  current = current_node\n",
        "  while current != None:\n",
        "    path.append(current.position)\n",
        "    current = current.parent\n",
        "\n",
        "  return path[::-1]\n",
        "\n",
        "def heuristic(name, start, end):\n",
        "  \"\"\" Returns the heuristic (distance) between the start and end points. \"\"\"\n",
        "  if name == \"euclidean\":\n",
        "    return dist.euclidean(start, end)\n",
        "  elif name == \"manhattan\":\n",
        "    return dist.cityblock(start, end)\n",
        "  elif name == \"chebyshev\":\n",
        "    return dist.chebyshev(start, end)\n",
        "  \n",
        "  raise NotImplementedError(\"Unknown heuristic:\", name)\n",
        "\n",
        "def is_unvisited_and_unblocked(coords, state):\n",
        "  \"\"\"Removes visited and blocked cells\"\"\"\n",
        "\n",
        "  x, y = coords\n",
        "  knowledge, visited, _ = state\n",
        "  if knowledge[x][y] != 0 or visited[x][y] != 0:\n",
        "    return False\n",
        "\n",
        "  return True\n",
        "\n",
        "def is_open_cell(cell, knowledge):\n",
        "  nbhd = neighbourhood(cell, knowledge.shape[0], knowledge.shape[1])\n",
        "\n",
        "  unblocked = [nbr for nbr in nbhd if knowledge[nbr[0]][nbr[1]] != 1]\n",
        "\n",
        "  if len(unblocked) >= 3:\n",
        "    return True\n",
        "\n",
        "  return False\n",
        "\n",
        "def neighbourhood(coords, num_rows, num_cols, nbhd_type=\"compass\", parent_coords=None):\n",
        "  if nbhd_type == \"compass\":\n",
        "\n",
        "    # Get possible cells\n",
        "    x, y = coords\n",
        "    possible_cells = [(x+1, y), (x, y+1), (x-1, y), (x, y-1)]\n",
        "\n",
        "    # Remove cells outside boundaries\n",
        "    possible_cells = [cell for cell in possible_cells if cell[0] >= 0 and cell[1] >= 0 and cell[0] <= num_rows-1 and cell[1] <= num_cols-1]\n",
        "\n",
        "    return possible_cells\n",
        "  \n",
        "  elif nbhd_type == \"directional\":\n",
        "\n",
        "    if parent_coords is None:\n",
        "      raise ValueError(\"Parent coords cannot be none if nbhd_type == 'directional'.\")\n",
        "\n",
        "    # Find the possible neighbouring node in the field of view\n",
        "    cell = tuple(np.array(coords) + (np.array(coords) - np.array(parent_coords)))\n",
        "\n",
        "    # Check if the node is valid\n",
        "    possible_cells = [cell] if cell[0] >= 0 and cell[1] >= 0 and cell[0] <= num_rows-1 and cell[1] <= num_cols-1 else []\n",
        "\n",
        "    return possible_cells\n",
        "  \n",
        "  raise ValueError(\"nbhd type can only be from ['compass', 'directional'], not\", nbhd_type)\n",
        "\n",
        "def get_valid_children(coords, parent, num_rows, num_cols, state):\n",
        "  \"\"\"Assume grid: [(0, 0) -> (num_rows-1, num_cols-1)]\"\"\"\n",
        "\n",
        "  # Get all possible children\n",
        "  nbhd = neighbourhood(coords, num_rows, num_cols)\n",
        "\n",
        "  if parent is not None:\n",
        "    nbhd = [x for x in nbhd if x != parent.position]\n",
        "\n",
        "  # Remove known blocked and visited cells\n",
        "  valid_children = [cell for cell in nbhd if is_unvisited_and_unblocked(cell, state)]\n",
        "\n",
        "  return valid_children"
      ],
      "execution_count": null,
      "outputs": []
    },
    {
      "cell_type": "code",
      "metadata": {
        "id": "09iMnJ-VEWND"
      },
      "source": [
        "#@title Generate Gridworld\n",
        "\n",
        "def generate_gridworld(shape, block_prob):\n",
        "  num_rows, num_cols = shape\n",
        "\n",
        "  val = np.empty((), dtype=object)\n",
        "  val[()] = (0, 0)\n",
        "\n",
        "  grid_world = np.full((num_rows, num_cols), val, dtype=object)\n",
        "\n",
        "  p = [(num_rows * num_cols)/3,(num_rows * num_cols)/3,(num_rows * num_cols)/3]\n",
        "  p = np.array(p)\n",
        "  p = p/p.sum()\n",
        "  \n",
        "  for i in range(num_rows):\n",
        "    for j in range(num_cols):\n",
        "      grid_world[i][j] = (np.random.choice([1, 0], p=[block_prob, 1-block_prob]),np.random.choice([0.2,0.5,0.8], p=p))\n",
        "\n",
        "  # Exclude start and end cells\n",
        "  goal_node = (np.random.randint(0,num_rows-1),np.random.randint(0,num_cols-1))\n",
        "  grid_world[0][0] = (0,grid_world[0][0][1])\n",
        "  grid_world[goal_node[0]][goal_node[0]] = (0,grid_world[0][0][1])\n",
        "  \n",
        "  return np.array(grid_world), goal_node"
      ],
      "execution_count": null,
      "outputs": []
    },
    {
      "cell_type": "code",
      "metadata": {
        "colab": {
          "base_uri": "https://localhost:8080/"
        },
        "id": "DOQwR_p5zSxM",
        "outputId": "dad09b26-40e7-4021-eedf-9f6ce9fb8296"
      },
      "source": [
        "generate_gridworld((30, 30), 0.3)"
      ],
      "execution_count": null,
      "outputs": [
        {
          "output_type": "execute_result",
          "data": {
            "text/plain": [
              "(array([[(0, 0.2), (0, 0.8), (0, 0.8), (1, 0.2), (0, 0.8), (0, 0.5),\n",
              "         (0, 0.8), (0, 0.2), (0, 0.2), (0, 0.2), (0, 0.8), (1, 0.8),\n",
              "         (1, 0.2), (0, 0.5), (0, 0.5), (0, 0.5), (1, 0.8), (0, 0.5),\n",
              "         (0, 0.5), (0, 0.2), (0, 0.2), (0, 0.2), (1, 0.8), (0, 0.2),\n",
              "         (0, 0.2), (0, 0.2), (0, 0.2), (0, 0.8), (0, 0.2), (0, 0.8)],\n",
              "        [(0, 0.5), (1, 0.2), (0, 0.2), (0, 0.8), (0, 0.2), (0, 0.8),\n",
              "         (0, 0.2), (0, 0.5), (0, 0.8), (0, 0.5), (1, 0.2), (0, 0.8),\n",
              "         (0, 0.2), (0, 0.5), (0, 0.8), (1, 0.8), (0, 0.2), (0, 0.5),\n",
              "         (0, 0.2), (0, 0.8), (1, 0.5), (0, 0.8), (0, 0.5), (0, 0.8),\n",
              "         (0, 0.8), (0, 0.8), (0, 0.8), (0, 0.8), (0, 0.5), (0, 0.8)],\n",
              "        [(0, 0.5), (0, 0.2), (0, 0.5), (1, 0.2), (0, 0.5), (0, 0.2),\n",
              "         (0, 0.8), (0, 0.2), (0, 0.8), (0, 0.2), (0, 0.2), (0, 0.8),\n",
              "         (0, 0.5), (0, 0.2), (0, 0.2), (1, 0.2), (0, 0.8), (0, 0.2),\n",
              "         (1, 0.2), (1, 0.8), (0, 0.2), (0, 0.8), (0, 0.8), (0, 0.5),\n",
              "         (0, 0.8), (1, 0.5), (0, 0.8), (0, 0.8), (0, 0.2), (0, 0.2)],\n",
              "        [(1, 0.2), (0, 0.2), (1, 0.2), (0, 0.8), (0, 0.8), (0, 0.2),\n",
              "         (0, 0.5), (1, 0.5), (0, 0.5), (1, 0.8), (0, 0.2), (1, 0.2),\n",
              "         (0, 0.2), (1, 0.8), (0, 0.2), (0, 0.2), (0, 0.8), (0, 0.8),\n",
              "         (0, 0.8), (0, 0.8), (0, 0.5), (1, 0.8), (0, 0.5), (1, 0.5),\n",
              "         (0, 0.5), (0, 0.8), (0, 0.8), (1, 0.5), (0, 0.5), (0, 0.8)],\n",
              "        [(0, 0.5), (0, 0.2), (0, 0.2), (0, 0.5), (0, 0.8), (0, 0.8),\n",
              "         (0, 0.2), (1, 0.8), (0, 0.5), (1, 0.5), (1, 0.8), (0, 0.2),\n",
              "         (0, 0.5), (1, 0.8), (0, 0.5), (0, 0.5), (0, 0.5), (0, 0.5),\n",
              "         (0, 0.2), (1, 0.8), (0, 0.2), (0, 0.2), (1, 0.2), (0, 0.2),\n",
              "         (0, 0.2), (0, 0.8), (0, 0.8), (0, 0.5), (0, 0.8), (0, 0.5)],\n",
              "        [(0, 0.8), (1, 0.2), (0, 0.5), (0, 0.2), (0, 0.2), (0, 0.8),\n",
              "         (0, 0.8), (0, 0.2), (0, 0.2), (0, 0.5), (0, 0.8), (0, 0.5),\n",
              "         (1, 0.5), (1, 0.5), (0, 0.5), (1, 0.5), (0, 0.5), (1, 0.2),\n",
              "         (1, 0.2), (0, 0.2), (0, 0.2), (1, 0.2), (0, 0.2), (1, 0.2),\n",
              "         (0, 0.5), (0, 0.8), (1, 0.8), (0, 0.2), (0, 0.8), (0, 0.5)],\n",
              "        [(1, 0.5), (1, 0.5), (0, 0.2), (0, 0.8), (1, 0.8), (1, 0.5),\n",
              "         (0, 0.2), (0, 0.2), (0, 0.5), (0, 0.5), (0, 0.5), (1, 0.8),\n",
              "         (0, 0.2), (0, 0.5), (0, 0.2), (0, 0.8), (1, 0.2), (1, 0.8),\n",
              "         (1, 0.8), (0, 0.8), (1, 0.8), (1, 0.8), (1, 0.8), (0, 0.5),\n",
              "         (0, 0.5), (0, 0.8), (0, 0.2), (0, 0.5), (0, 0.5), (0, 0.8)],\n",
              "        [(0, 0.5), (0, 0.2), (0, 0.5), (0, 0.5), (0, 0.2), (0, 0.5),\n",
              "         (0, 0.5), (0, 0.5), (1, 0.8), (0, 0.5), (1, 0.2), (0, 0.8),\n",
              "         (0, 0.5), (0, 0.8), (1, 0.2), (1, 0.8), (0, 0.2), (1, 0.5),\n",
              "         (0, 0.8), (1, 0.8), (0, 0.5), (1, 0.5), (0, 0.5), (0, 0.2),\n",
              "         (0, 0.2), (0, 0.5), (1, 0.8), (0, 0.5), (0, 0.8), (1, 0.5)],\n",
              "        [(1, 0.2), (1, 0.8), (0, 0.8), (0, 0.2), (1, 0.5), (0, 0.2),\n",
              "         (1, 0.5), (0, 0.5), (1, 0.2), (0, 0.8), (1, 0.8), (0, 0.2),\n",
              "         (1, 0.2), (0, 0.5), (0, 0.2), (0, 0.5), (0, 0.2), (1, 0.2),\n",
              "         (1, 0.5), (0, 0.2), (0, 0.2), (0, 0.2), (1, 0.2), (0, 0.2),\n",
              "         (0, 0.2), (0, 0.2), (0, 0.5), (0, 0.8), (0, 0.8), (0, 0.5)],\n",
              "        [(0, 0.5), (0, 0.5), (0, 0.5), (0, 0.2), (0, 0.5), (0, 0.5),\n",
              "         (0, 0.2), (1, 0.5), (0, 0.5), (1, 0.5), (0, 0.2), (0, 0.8),\n",
              "         (0, 0.2), (1, 0.8), (1, 0.2), (0, 0.5), (0, 0.5), (0, 0.5),\n",
              "         (0, 0.8), (0, 0.2), (0, 0.8), (0, 0.2), (0, 0.5), (0, 0.5),\n",
              "         (1, 0.8), (0, 0.2), (1, 0.2), (0, 0.2), (0, 0.2), (0, 0.8)],\n",
              "        [(0, 0.2), (0, 0.2), (0, 0.8), (0, 0.8), (1, 0.5), (0, 0.2),\n",
              "         (0, 0.5), (1, 0.8), (0, 0.8), (1, 0.8), (0, 0.5), (0, 0.8),\n",
              "         (0, 0.2), (0, 0.8), (1, 0.2), (0, 0.5), (0, 0.8), (1, 0.2),\n",
              "         (0, 0.5), (0, 0.5), (0, 0.8), (0, 0.8), (1, 0.5), (1, 0.5),\n",
              "         (0, 0.2), (0, 0.2), (0, 0.5), (0, 0.8), (0, 0.8), (1, 0.5)],\n",
              "        [(0, 0.8), (0, 0.8), (0, 0.2), (0, 0.2), (0, 0.8), (0, 0.8),\n",
              "         (1, 0.2), (0, 0.8), (0, 0.8), (0, 0.2), (0, 0.2), (0, 0.8),\n",
              "         (0, 0.5), (1, 0.8), (1, 0.2), (1, 0.2), (0, 0.8), (0, 0.5),\n",
              "         (1, 0.8), (0, 0.2), (0, 0.5), (1, 0.8), (0, 0.2), (1, 0.2),\n",
              "         (0, 0.2), (0, 0.5), (1, 0.5), (0, 0.5), (0, 0.8), (1, 0.5)],\n",
              "        [(0, 0.2), (0, 0.2), (0, 0.5), (1, 0.8), (1, 0.8), (0, 0.8),\n",
              "         (1, 0.8), (0, 0.8), (0, 0.5), (0, 0.2), (0, 0.8), (0, 0.8),\n",
              "         (0, 0.8), (0, 0.2), (0, 0.2), (0, 0.8), (1, 0.8), (0, 0.2),\n",
              "         (0, 0.8), (0, 0.8), (0, 0.8), (0, 0.2), (0, 0.8), (0, 0.2),\n",
              "         (0, 0.8), (0, 0.8), (1, 0.5), (0, 0.8), (0, 0.2), (0, 0.5)],\n",
              "        [(0, 0.8), (0, 0.5), (0, 0.8), (1, 0.5), (0, 0.8), (0, 0.2),\n",
              "         (0, 0.8), (1, 0.8), (1, 0.8), (0, 0.5), (0, 0.5), (1, 0.2),\n",
              "         (0, 0.8), (0, 0.8), (1, 0.5), (0, 0.8), (1, 0.2), (0, 0.8),\n",
              "         (0, 0.2), (0, 0.5), (0, 0.2), (0, 0.8), (0, 0.2), (0, 0.2),\n",
              "         (1, 0.8), (0, 0.5), (0, 0.2), (0, 0.5), (1, 0.8), (0, 0.5)],\n",
              "        [(0, 0.5), (0, 0.2), (0, 0.8), (0, 0.2), (0, 0.5), (0, 0.8),\n",
              "         (0, 0.5), (0, 0.5), (1, 0.2), (1, 0.2), (0, 0.8), (0, 0.5),\n",
              "         (0, 0.8), (1, 0.8), (0, 0.5), (1, 0.8), (1, 0.2), (0, 0.8),\n",
              "         (0, 0.5), (0, 0.8), (0, 0.5), (0, 0.2), (0, 0.2), (0, 0.2),\n",
              "         (0, 0.2), (0, 0.8), (1, 0.5), (0, 0.2), (0, 0.5), (0, 0.8)],\n",
              "        [(0, 0.8), (1, 0.8), (0, 0.8), (0, 0.5), (0, 0.8), (0, 0.2),\n",
              "         (1, 0.8), (0, 0.8), (0, 0.5), (0, 0.2), (1, 0.8), (0, 0.2),\n",
              "         (0, 0.8), (1, 0.5), (1, 0.8), (1, 0.5), (1, 0.2), (0, 0.5),\n",
              "         (1, 0.8), (1, 0.5), (0, 0.2), (0, 0.8), (1, 0.8), (0, 0.8),\n",
              "         (1, 0.2), (1, 0.8), (1, 0.5), (0, 0.8), (0, 0.2), (0, 0.8)],\n",
              "        [(0, 0.2), (0, 0.5), (0, 0.5), (0, 0.5), (0, 0.8), (0, 0.2),\n",
              "         (1, 0.8), (0, 0.8), (1, 0.8), (1, 0.2), (0, 0.2), (0, 0.8),\n",
              "         (0, 0.5), (1, 0.8), (0, 0.8), (0, 0.8), (0, 0.2), (0, 0.2),\n",
              "         (0, 0.8), (1, 0.5), (1, 0.2), (0, 0.2), (0, 0.2), (0, 0.8),\n",
              "         (0, 0.2), (0, 0.2), (1, 0.2), (0, 0.2), (0, 0.5), (1, 0.8)],\n",
              "        [(0, 0.2), (0, 0.8), (1, 0.5), (1, 0.2), (0, 0.5), (1, 0.8),\n",
              "         (0, 0.8), (0, 0.2), (1, 0.5), (1, 0.5), (1, 0.2), (0, 0.2),\n",
              "         (0, 0.8), (0, 0.8), (0, 0.8), (0, 0.2), (1, 0.8), (1, 0.8),\n",
              "         (0, 0.2), (0, 0.5), (0, 0.5), (0, 0.5), (1, 0.8), (0, 0.8),\n",
              "         (0, 0.8), (1, 0.2), (0, 0.8), (0, 0.5), (0, 0.8), (0, 0.2)],\n",
              "        [(0, 0.8), (0, 0.5), (1, 0.2), (0, 0.2), (1, 0.5), (1, 0.5),\n",
              "         (0, 0.8), (1, 0.2), (0, 0.5), (1, 0.2), (1, 0.5), (0, 0.2),\n",
              "         (1, 0.5), (0, 0.2), (1, 0.8), (1, 0.5), (0, 0.8), (0, 0.5),\n",
              "         (0, 0.8), (0, 0.8), (0, 0.5), (0, 0.2), (0, 0.8), (1, 0.8),\n",
              "         (0, 0.5), (0, 0.8), (0, 0.8), (0, 0.8), (0, 0.8), (0, 0.5)],\n",
              "        [(1, 0.5), (0, 0.2), (1, 0.8), (0, 0.8), (1, 0.8), (0, 0.8),\n",
              "         (1, 0.8), (0, 0.5), (0, 0.2), (1, 0.5), (0, 0.5), (1, 0.5),\n",
              "         (0, 0.8), (1, 0.2), (0, 0.2), (0, 0.8), (1, 0.8), (0, 0.2),\n",
              "         (0, 0.8), (1, 0.5), (1, 0.5), (0, 0.5), (1, 0.2), (0, 0.2),\n",
              "         (0, 0.5), (1, 0.8), (1, 0.8), (1, 0.8), (0, 0.2), (0, 0.8)],\n",
              "        [(1, 0.2), (1, 0.5), (1, 0.2), (0, 0.8), (0, 0.8), (1, 0.2),\n",
              "         (0, 0.2), (1, 0.5), (1, 0.5), (0, 0.8), (1, 0.8), (0, 0.5),\n",
              "         (0, 0.8), (0, 0.8), (0, 0.5), (0, 0.5), (0, 0.8), (0, 0.2),\n",
              "         (0, 0.5), (0, 0.5), (0, 0.5), (1, 0.5), (0, 0.8), (1, 0.2),\n",
              "         (0, 0.8), (0, 0.2), (0, 0.2), (0, 0.8), (0, 0.2), (1, 0.8)],\n",
              "        [(0, 0.2), (1, 0.8), (0, 0.8), (0, 0.8), (1, 0.8), (0, 0.2),\n",
              "         (0, 0.8), (0, 0.8), (0, 0.2), (1, 0.5), (0, 0.2), (0, 0.8),\n",
              "         (1, 0.5), (0, 0.8), (1, 0.5), (0, 0.2), (1, 0.2), (0, 0.5),\n",
              "         (1, 0.2), (1, 0.5), (1, 0.5), (0, 0.2), (1, 0.8), (0, 0.5),\n",
              "         (0, 0.5), (0, 0.2), (0, 0.8), (1, 0.5), (0, 0.5), (1, 0.8)],\n",
              "        [(0, 0.5), (0, 0.5), (1, 0.8), (0, 0.2), (1, 0.2), (0, 0.8),\n",
              "         (1, 0.8), (1, 0.8), (0, 0.2), (0, 0.2), (1, 0.8), (1, 0.2),\n",
              "         (0, 0.8), (0, 0.8), (0, 0.5), (0, 0.2), (1, 0.5), (0, 0.8),\n",
              "         (0, 0.5), (1, 0.5), (0, 0.8), (0, 0.5), (0, 0.5), (0, 0.5),\n",
              "         (0, 0.5), (0, 0.5), (1, 0.8), (1, 0.8), (0, 0.5), (0, 0.5)],\n",
              "        [(0, 0.5), (1, 0.5), (0, 0.2), (0, 0.8), (0, 0.8), (0, 0.5),\n",
              "         (0, 0.8), (1, 0.2), (1, 0.5), (0, 0.2), (0, 0.5), (0, 0.5),\n",
              "         (0, 0.2), (0, 0.8), (0, 0.8), (0, 0.8), (0, 0.2), (1, 0.8),\n",
              "         (0, 0.2), (1, 0.5), (0, 0.5), (0, 0.8), (0, 0.2), (0, 0.2),\n",
              "         (0, 0.8), (0, 0.8), (0, 0.5), (0, 0.2), (1, 0.5), (0, 0.5)],\n",
              "        [(1, 0.8), (0, 0.8), (0, 0.5), (0, 0.2), (0, 0.5), (0, 0.2),\n",
              "         (0, 0.2), (0, 0.5), (0, 0.5), (0, 0.2), (0, 0.2), (0, 0.2),\n",
              "         (1, 0.8), (1, 0.5), (0, 0.2), (0, 0.5), (0, 0.2), (0, 0.5),\n",
              "         (0, 0.5), (1, 0.8), (0, 0.5), (0, 0.8), (1, 0.5), (0, 0.8),\n",
              "         (1, 0.5), (0, 0.2), (0, 0.2), (1, 0.8), (1, 0.5), (1, 0.2)],\n",
              "        [(0, 0.5), (0, 0.2), (0, 0.2), (0, 0.8), (1, 0.8), (0, 0.5),\n",
              "         (0, 0.5), (0, 0.5), (0, 0.5), (0, 0.8), (0, 0.2), (0, 0.8),\n",
              "         (0, 0.2), (1, 0.2), (0, 0.2), (1, 0.8), (0, 0.5), (0, 0.5),\n",
              "         (1, 0.2), (0, 0.8), (1, 0.2), (0, 0.2), (0, 0.5), (1, 0.5),\n",
              "         (0, 0.2), (0, 0.2), (0, 0.2), (0, 0.2), (1, 0.2), (0, 0.8)],\n",
              "        [(0, 0.2), (0, 0.8), (1, 0.8), (0, 0.8), (0, 0.8), (0, 0.8),\n",
              "         (0, 0.8), (0, 0.8), (1, 0.2), (1, 0.5), (0, 0.5), (0, 0.2),\n",
              "         (1, 0.2), (1, 0.8), (0, 0.8), (0, 0.2), (0, 0.8), (0, 0.2),\n",
              "         (0, 0.8), (0, 0.5), (0, 0.8), (0, 0.2), (0, 0.8), (0, 0.5),\n",
              "         (1, 0.8), (0, 0.8), (0, 0.5), (0, 0.5), (0, 0.5), (0, 0.5)],\n",
              "        [(0, 0.8), (0, 0.8), (0, 0.2), (0, 0.8), (0, 0.2), (1, 0.2),\n",
              "         (0, 0.8), (0, 0.2), (0, 0.2), (0, 0.5), (1, 0.2), (0, 0.5),\n",
              "         (0, 0.8), (0, 0.2), (0, 0.5), (1, 0.8), (0, 0.8), (0, 0.5),\n",
              "         (0, 0.2), (0, 0.5), (0, 0.2), (1, 0.2), (1, 0.8), (0, 0.5),\n",
              "         (0, 0.8), (0, 0.8), (0, 0.8), (0, 0.5), (0, 0.5), (0, 0.2)],\n",
              "        [(1, 0.2), (1, 0.8), (1, 0.8), (0, 0.2), (0, 0.8), (0, 0.2),\n",
              "         (1, 0.2), (1, 0.8), (0, 0.2), (1, 0.8), (0, 0.2), (0, 0.8),\n",
              "         (0, 0.5), (0, 0.2), (1, 0.5), (1, 0.8), (0, 0.8), (1, 0.5),\n",
              "         (0, 0.2), (0, 0.2), (1, 0.5), (0, 0.5), (0, 0.8), (1, 0.5),\n",
              "         (0, 0.5), (1, 0.8), (1, 0.8), (0, 0.5), (0, 0.2), (1, 0.8)],\n",
              "        [(0, 0.8), (0, 0.8), (0, 0.2), (0, 0.5), (1, 0.2), (0, 0.5),\n",
              "         (0, 0.2), (1, 0.2), (0, 0.2), (0, 0.8), (0, 0.8), (0, 0.2),\n",
              "         (1, 0.5), (0, 0.5), (0, 0.2), (0, 0.8), (1, 0.2), (0, 0.5),\n",
              "         (1, 0.5), (0, 0.5), (0, 0.2), (1, 0.5), (1, 0.5), (0, 0.8),\n",
              "         (1, 0.2), (0, 0.5), (0, 0.8), (0, 0.2), (0, 0.8), (0, 0.5)]],\n",
              "       dtype=object), (25, 19))"
            ]
          },
          "metadata": {},
          "execution_count": 4
        }
      ]
    },
    {
      "cell_type": "code",
      "metadata": {
        "cellView": "form",
        "id": "cuPq8VbmuzqZ"
      },
      "source": [
        "#@title Older Version of A* Search\n",
        "\n",
        "def a_star_search(start, goal, grid, heuristic_type, visited, knowledge, max_steps=None, nbhd=\"directional\", epsilon=1.):\n",
        "  \"\"\" nbhd: 'compass' or 'directional' \"\"\"\n",
        "\n",
        "  if knowledge[goal[0]][goal[1]] == 1:\n",
        "    return [], \"BLOCKED_GOAL\", 0\n",
        "\n",
        "  start_node = Node(None, start)\n",
        "  goal_node = Node(None, goal)\n",
        "\n",
        "  # Implementing priority queue using heap\n",
        "  fringe = []\n",
        "  in_fringe = np.zeros(grid.shape)\n",
        "\n",
        "  heapq.heapify(fringe)\n",
        "\n",
        "  recency_counter = 0\n",
        "  num_cells_popped = 0\n",
        "\n",
        "  start_node.recency_factor = recency_counter\n",
        "  heapq.heappush(fringe, start_node)\n",
        "  in_fringe[start[0]][start[1]] = 1\n",
        "\n",
        "  recency_counter += 1\n",
        "  \n",
        "  # Stopping condition\n",
        "  if max_steps is None:\n",
        "    max_steps = sys.maxsize\n",
        "\n",
        "  steps = 0\n",
        "  exit_status = \"FAILED_NOPATH\"\n",
        "\n",
        "  # Start\n",
        "  while fringe:\n",
        "    \n",
        "    steps += 1\n",
        "\n",
        "    # Pop the current node from the fringe\n",
        "    current_node = heapq.heappop(fringe)\n",
        "    num_cells_popped += 1\n",
        "    curr_x, curr_y = current_node.position\n",
        "\n",
        "    # Visit the current node and note that it is out of the fringe\n",
        "    visited[curr_x][curr_y] = 1\n",
        "    in_fringe[curr_x][curr_y] = 0\n",
        "\n",
        "    # Check and return path if we have reached the goal node\n",
        "    if current_node == goal_node:\n",
        "      exit_status = \"SUCCESS\"\n",
        "      return grid_path(current_node), exit_status, num_cells_popped\n",
        "\n",
        "    # Stopping condition\n",
        "    if steps > max_steps:\n",
        "      exit_status = \"FAILED_STEPS\"\n",
        "      return grid_path(current_node), exit_status, num_cells_popped\n",
        "\n",
        "    # Create children\n",
        "    children = get_valid_children(current_node.position, current_node.parent, grid.shape[0], grid.shape[1], (knowledge, visited, in_fringe))\n",
        "    children = [Node(current_node, x) for x in children]\n",
        "\n",
        "    for i in range(len(children)):\n",
        "      children[i].g = current_node.g + 1\n",
        "      children[i].h = heuristic(heuristic_type, children[i].position, goal)\n",
        "      children[i].f = children[i].g + epsilon*children[i].h\n",
        "      children[i].recency_factor = recency_counter\n",
        "\n",
        "      heapq.heappush(fringe, children[i])\n",
        "      in_fringe[children[i].position[0]][children[i].position[1]] = 1\n",
        "\n",
        "      recency_counter += 1\n",
        "\n",
        "  return [], exit_status, num_cells_popped"
      ],
      "execution_count": null,
      "outputs": []
    },
    {
      "cell_type": "code",
      "metadata": {
        "id": "ASHDzF2blpKm",
        "cellView": "form"
      },
      "source": [
        "#@title Visualize Grid, Test A* Custom\n",
        "\n",
        "def visualize_grid(sol, grid):\n",
        "  vis_grid = grid.copy().astype(str)\n",
        "\n",
        "  for cell in sol:\n",
        "    vis_grid[cell[0]][cell[1]] = \"*\"\n",
        "\n",
        "  return vis_grid\n",
        "\n",
        "pretty_print = lambda A: print('\\n'.join([''.join(['{:4}'.format(item) for item in row]) for row in A]))\n",
        "\n",
        "def test_a_star_search_custom():\n",
        "  grid = [[0, 1, 0, 1, 0, 0, 1, 0, 0, 0],\n",
        "          [0, 1, 0, 1, 1, 0, 1, 0, 0, 0],\n",
        "          [0, 1, 1, 1, 0, 0, 0, 0, 1, 0],\n",
        "          [0, 1, 0, 0, 0, 1, 0, 1, 1, 0],\n",
        "          [0, 1, 0, 1, 1, 0, 1, 1, 0, 0],\n",
        "          [0, 1, 0, 1, 0, 0, 1, 0, 0, 1],\n",
        "          [0, 1, 0, 1, 0, 0, 0, 0, 0, 0],\n",
        "          [0, 1, 0, 1, 1, 0, 1, 0, 0, 1],\n",
        "          [0, 0, 0, 1, 1, 0, 1, 0, 0, 0],\n",
        "          [1, 1, 0, 1, 0, 0, 0, 0, 1, 0]]\n",
        "\n",
        "  grid = np.array(grid)\n",
        "\n",
        "  visited = np.zeros(grid.shape)\n",
        "  blocked = grid.copy()\n",
        "\n",
        "  sol = a_star_search((0, 0), (grid.shape[0]-1, grid.shape[1]-1), grid, \"euclidean\", visited, blocked)\n",
        "\n",
        "  pretty_print(grid)\n",
        "  print(\"\\n\")\n",
        "  pretty_print(visualize_grid(sol, grid))"
      ],
      "execution_count": null,
      "outputs": []
    },
    {
      "cell_type": "markdown",
      "metadata": {
        "id": "GRw2DIdWXLIu"
      },
      "source": [
        "## **Repeated A-Star**"
      ]
    },
    {
      "cell_type": "code",
      "metadata": {
        "id": "tmq3C8JfpyQx"
      },
      "source": [
        "def update_on_blocked(probability_grid, cell, grid):\n",
        "  num_rows, num_cols = probability_grid.shape\n",
        "\n",
        "  orig_prob = probability_grid[cell[0],cell[1]]\n",
        "\n",
        "  probability_grid[cell[0], cell[1]] = 0\n",
        "\n",
        "  grid_sum = np.sum(probability_grid)\n",
        "  FNR = grid[cell[0], cell[1]][1]\n",
        "\n",
        "  probability_grid = probability_grid / (1-orig_prob)  \n",
        "  return probability_grid\n",
        "\n",
        "def update_on_unblocked(probability_grid, cell, grid):\n",
        "  num_rows, num_cols = probability_grid.shape\n",
        "  FNR = grid[cell[0], cell[1]][1]\n",
        "  orig_prob = probability_grid[cell[0],cell[1]] \n",
        "  \n",
        "  probability_grid[cell[0],cell[1]] = FNR * orig_prob\n",
        "  probability_grid = probability_grid / (1-(orig_prob * (1-FNR)))  \n",
        "  return probability_grid"
      ],
      "execution_count": null,
      "outputs": []
    },
    {
      "cell_type": "code",
      "metadata": {
        "id": "ct7p1vAbuvp-"
      },
      "source": [
        "def examine(cell, grid, original_goal):\n",
        "  \"\"\" Function called when agent moves to unblocked cell to check for target \"\"\"\n",
        "  \n",
        "  if cell == original_goal:\n",
        "    rand_val = np.random.rand()\n",
        "    return 1 if rand_val > grid[cell[0]][cell[1]][1] else 0\n",
        "  else:\n",
        "    return 0"
      ],
      "execution_count": null,
      "outputs": []
    },
    {
      "cell_type": "code",
      "metadata": {
        "id": "zbYNReRRqoUy"
      },
      "source": [
        "def bfs_distance(start, knowledge, scale=True):\n",
        "  distance_to_cell = np.full(knowledge.shape, np.inf)\n",
        "  visited = np.zeros(knowledge.shape)\n",
        "\n",
        "  q = deque()\n",
        "\n",
        "  q.append(start)\n",
        "  distance_to_cell[start[0]][start[1]] = 0\n",
        "  visited[start[0]][start[1]] = 1\n",
        "\n",
        "  max_dist = -1\n",
        "\n",
        "  while q:\n",
        "    v = q.popleft()\n",
        "\n",
        "    nbhd = neighbourhood(v, knowledge.shape[0], knowledge.shape[1])\n",
        "\n",
        "    for nbr in nbhd:\n",
        "      if visited[nbr[0]][nbr[1]] != 1 and knowledge[nbr[0]][nbr[1]] != 1:\n",
        "        q.append(nbr)\n",
        "        visited[nbr[0]][nbr[1]] = 1\n",
        "        distance_to_cell[nbr[0]][nbr[1]] = distance_to_cell[v[0]][v[1]] + 1\n",
        "\n",
        "        if distance_to_cell[nbr[0]][nbr[1]] > max_dist:\n",
        "          max_dist = distance_to_cell[nbr[0]][nbr[1]]\n",
        "\n",
        "  if scale:\n",
        "    distance_to_cell[start[0]][start[1]] += np.inf\n",
        "    distance_to_cell = distance_to_cell/max_dist + 0.5\n",
        "\n",
        "  return distance_to_cell"
      ],
      "execution_count": null,
      "outputs": []
    },
    {
      "cell_type": "code",
      "metadata": {
        "id": "689ts1_QXnBK",
        "cellView": "form"
      },
      "source": [
        "#@title Check Target\n",
        "\n",
        "def check_target(probability_grid):\n",
        "  \"\"\" Function to check the cell with max probability of containing target \"\"\"\n",
        "\n",
        "  return np.unravel_index(np.argmax(probability_grid), shape=probability_grid.shape)"
      ],
      "execution_count": null,
      "outputs": []
    },
    {
      "cell_type": "code",
      "metadata": {
        "id": "KubhnvPmwTzP",
        "cellView": "form"
      },
      "source": [
        "#@title Distance Broadcasted\n",
        "\n",
        "def distance_broadcasted(cell, probability_grid, scale=True, zero_self_imp=True, distance_func=\"manhattan\"):\n",
        "  \"\"\" \n",
        "  Calculates the manhattan distance for each cell from a particular cell.\n",
        "\n",
        "  Parameters\n",
        "  ----------\n",
        "    scale: Scales values to [0, 1] such that min manhattan distance is given\n",
        "      the highest importance and vice-versa.\n",
        "    zero_self_imp: Sets the potential of `cell` to zero.\n",
        "  \"\"\"\n",
        "\n",
        "  man_grid = np.zeros(probability_grid.shape)\n",
        "  max_dist = -1\n",
        "\n",
        "  if distance_func != \"manhattan\":\n",
        "    raise NotImplementedError(\"Distance function can only be one of ['manhattan'].\")\n",
        "\n",
        "  for i in range(probability_grid.shape[0]):\n",
        "    for j in range(probability_grid.shape[1]):\n",
        "      man_grid[i][j] = dist.cityblock(cell, (i, j))\n",
        "\n",
        "      if man_grid[i][j] > max_dist:\n",
        "        max_dist = man_grid[i][j]\n",
        "\n",
        "  if not scale:\n",
        "    return man_grid\n",
        "\n",
        "  importance = 1 - man_grid/max_dist\n",
        "\n",
        "  if zero_self_imp:\n",
        "    importance[cell[0]][cell[1]] = 0\n",
        "\n",
        "  return importance"
      ],
      "execution_count": null,
      "outputs": []
    },
    {
      "cell_type": "code",
      "metadata": {
        "id": "QK47y5_e24F6"
      },
      "source": [
        "def break_ties_by_grid(value_grid, cells_to_choose_from, default_choice=\"random\"):\n",
        "  cells_tuple_form = list(map(tuple, cells_to_choose_from.T))\n",
        "  values_for_best_cells = value_grid[cells_to_choose_from[0], cells_to_choose_from[1]]\n",
        "  best_indices = np.argwhere(values_for_best_cells == np.max(values_for_best_cells)).reshape(-1)\n",
        "  best_cells = [cells_tuple_form[i] for i in best_indices if 0 <= i < len(cells_tuple_form)]\n",
        "\n",
        "  if len(best_cells) > 1:\n",
        "    if default_choice == \"random\":\n",
        "      return random.choice(best_cells)\n",
        "    elif default_choice == \"first\":\n",
        "      return best_cells[0]\n",
        "    else:\n",
        "      raise ValueError(\"Default choice can only be 'random' or 'first'.\")\n",
        "\n",
        "  return best_cells[0]\n",
        "\n",
        "def find_goal_8(cell, probability_grid, knowledge, terrain_knowledge, alpha=0.5, break_ties=\"distance\", default_choice=\"random\"):\n",
        "  \"\"\" Finds goal for Agent 8 \"\"\"\n",
        "\n",
        "  if break_ties not in (\"distance\", \"probability\"):\n",
        "    raise ValueError(\"break_ties can only be 'distance' or 'probability'.\")\n",
        "\n",
        "  finding_grid = np.multiply(probability_grid, 1 - terrain_knowledge) \n",
        "\n",
        "  distance_grid = 1/bfs_distance(cell, knowledge)\n",
        "  utility = np.multiply(finding_grid, distance_grid)\n",
        "  # utility = alpha*distance_grid + (1 - alpha)*finding_grid\n",
        "\n",
        "  cells_to_choose_from = np.argwhere(utility == np.amax(utility)).T\n",
        "\n",
        "  if len(cells_to_choose_from) > 1:\n",
        "    if break_ties == \"distance\":\n",
        "      return break_ties_by_grid(distance_grid, cells_to_choose_from, default_choice=default_choice)\n",
        "    elif break_ties == \"probability\":\n",
        "      return break_ties_by_grid(probability_grid, cells_to_choose_from, default_choice=default_choice)\n",
        "  elif len(cells_to_choose_from) <= 0:\n",
        "    raise ValueError(\"Zero cells to choose from!\")\n",
        "  \n",
        "  return cells_to_choose_from.T[0]"
      ],
      "execution_count": null,
      "outputs": []
    },
    {
      "cell_type": "code",
      "metadata": {
        "cellView": "form",
        "id": "P3FyU0Z9iJs_"
      },
      "source": [
        "#@title New A* Search\n",
        "\n",
        "def a_star_search_new(start, goal, grid, heuristic_type, \n",
        "                    visited, knowledge, max_steps=None, \n",
        "                    epsilon=1.):\n",
        "  \"\"\" \n",
        "  Executes A* search on a grid.\n",
        "\n",
        "  Parameters\n",
        "  ----------\n",
        "  start: (int, int)\n",
        "    Coordinates of the start cell.\n",
        "  goal: (int, int)\n",
        "    Coordinates of the goal cell.\n",
        "  grid: 2D np.array\n",
        "    Represents the original grid on which A* needs to be executed\n",
        "  heuristic_type: str\n",
        "    Type of heuristic to use. Can be `'euclidean'`, `'manhattan'`, or `'chebyshev'`\n",
        "  visited: 2D np.array\n",
        "    Represents which nodes the agent has already expanded. visited[x][y] = 1 if\n",
        "    the agent has already expanded Node at (x, y) and 0 otherwise.\n",
        "  knowledge: 2D np.array\n",
        "    Represents the knowledge of the agent. knowledge[x][y] = 1 if\n",
        "    the agent knows there exists a block at position (x, y) and is 0 otherwise.\n",
        "  max_steps: int or None\n",
        "    Max. number of times we pop a Node from the Fringe\n",
        "  epsilon: float\n",
        "    Weight given to the heuristic function while calculating the priority f. Used as:\n",
        "    f(n) = g(n) + epsilon*h(n)\n",
        "\n",
        "  Returns\n",
        "  -------\n",
        "  planned_path: List[(int, int)]\n",
        "    List of cells to traverse from the start node to end node\n",
        "  exit_status: str\n",
        "    `\"SUCCESS\"` - If A* was successfully completed\n",
        "    `\"FAILED_NOPATH\"` - If no path can be found from the start to the goal cells\n",
        "    `\"FAILED_STEPS\"` - Max. number of steps was reached and path not found\n",
        "  num_cells_popped: int\n",
        "    Total number of nodes popped from the fringe throughout the search process.\n",
        "  \n",
        "  TODO\n",
        "  ----\n",
        "  - num_cells_popped == steps? Remove num_cells_popped and use steps instead\n",
        "  - Remove the `grid` parameter since this is not required\n",
        "  - Implement a separate `Fringe` class\n",
        "  \"\"\"\n",
        "\n",
        "  if knowledge[goal[0]][goal[1]] == 1:\n",
        "    return [], \"BLOCKED_GOAL\", 0\n",
        "\n",
        "  start_node = Node(position=start)\n",
        "  goal_node = Node(position=goal)\n",
        "\n",
        "  # Implementing priority queue using heap\n",
        "  fringe = []\n",
        "  in_fringe = np.full(grid.shape, np.inf)\n",
        "  heapq.heapify(fringe)\n",
        "\n",
        "  # Initialize tracking parameters\n",
        "  recency_counter = 0\n",
        "  num_cells_popped = 0\n",
        "\n",
        "  # Add start node to the fringe\n",
        "  start_node.recency_factor = recency_counter\n",
        "  heapq.heappush(fringe, start_node)\n",
        "  in_fringe[start[0]][start[1]] = start_node.f\n",
        "  recency_counter += 1\n",
        "  \n",
        "  # Stopping condition\n",
        "  if max_steps is None:\n",
        "    max_steps = sys.maxsize\n",
        "\n",
        "  steps = 0\n",
        "  exit_status = \"FAILED_NOPATH\"\n",
        "\n",
        "  # Start\n",
        "  while fringe:\n",
        "    \n",
        "    steps += 1\n",
        "\n",
        "    # Pop the current node from the fringe\n",
        "    current_node = heapq.heappop(fringe)\n",
        "    num_cells_popped += 1\n",
        "    curr_x, curr_y = current_node.position\n",
        "\n",
        "    # Visit the current node and note that it is out of the fringe\n",
        "    visited[curr_x][curr_y] = 1\n",
        "    in_fringe[curr_x][curr_y] = 0\n",
        "\n",
        "    # Check and return path if we have reached the goal node\n",
        "    if current_node == goal_node:\n",
        "      exit_status = \"SUCCESS\"\n",
        "      return grid_path(current_node), exit_status, num_cells_popped\n",
        "\n",
        "    # Stopping condition\n",
        "    if steps > max_steps:\n",
        "      exit_status = \"FAILED_STEPS\"\n",
        "      return grid_path(current_node), exit_status, num_cells_popped\n",
        "\n",
        "    # Create children\n",
        "    children = get_valid_children(current_node.position, current_node.parent, grid.shape[0], grid.shape[1], (knowledge, visited, in_fringe))\n",
        "    children = [Node(current_node, x) for x in children]\n",
        "\n",
        "    # Set parameters for each child\n",
        "    for i in range(len(children)):\n",
        "      children[i].g = current_node.g + 1\n",
        "      children[i].h = heuristic(heuristic_type, children[i].position, goal)\n",
        "      children[i].f = children[i].g + epsilon*children[i].h\n",
        "      children[i].recency_factor = recency_counter\n",
        "\n",
        "      if children[i].f < in_fringe[children[i].position[0]][children[i].position[1]]:\n",
        "        heapq.heappush(fringe, children[i])\n",
        "        in_fringe[children[i].position[0]][children[i].position[1]] = children[i].f\n",
        "\n",
        "      recency_counter += 1\n",
        "\n",
        "  return [], exit_status, num_cells_popped"
      ],
      "execution_count": null,
      "outputs": []
    },
    {
      "cell_type": "code",
      "metadata": {
        "id": "xqkQfLXKuMrl",
        "cellView": "form"
      },
      "source": [
        "#@title Move and Record\n",
        "\n",
        "def move_and_record(start, goal, grid, planned_path, knowledge, probability_grid, original_goal, terrain_knowledge, nbhd_type=\"directional\"):\n",
        "  \"\"\"\n",
        "  Moves the robot along the path and records the environment as it travels.\n",
        "  If a block is encountered, returns the last unblocked location.\n",
        "\n",
        "  Parameters\n",
        "  ----------\n",
        "  start: (int, int)\n",
        "    The start coordinates in the grid. Between (0, 0) and \n",
        "    (grid.shape[0]-1, grid.shape[1]-1).\n",
        "  goal: (int, int) \n",
        "    The goal coordinates in the grid. Limits are similar to start.\n",
        "  planned_path: List[(int, int)]\n",
        "    List of coordinates (including start and end) to visit.\n",
        "  knowledge: 2D np.array\n",
        "    2D array representing all blocked cells the robot has seen so far.\n",
        "    All other cells are marked 0.\n",
        "  \n",
        "  Returns\n",
        "  -------\n",
        "  final_node: (int, int)\n",
        "    The last unblocked node visited or the goal node.\n",
        "  knowledge: 2D np.array\n",
        "    Updated knowledge array.\n",
        "  steps: int\n",
        "    Number of steps taken along the path.\n",
        "  \"\"\"\n",
        "\n",
        "  if not planned_path:  # Planned path is empty\n",
        "    raise ValueError(\"Planned path cannot be empty.\")\n",
        "\n",
        "  if planned_path[0] != start:  # Planned path and start don't coincide\n",
        "    raise ValueError(\"Planned path doesn't start with 'start'! planned_path[0] =\", \n",
        "                     planned_path[0], \"start =\", start)\n",
        "\n",
        "  steps = 0\n",
        "  num_examine = 0 \n",
        "  last_open_cell = None\n",
        "\n",
        "  # Start moving\n",
        "  for i in range(len(planned_path)):\n",
        "    cell = planned_path[i]\n",
        "\n",
        "    # If cell is blocked, return the last known location\n",
        "    if grid[cell[0]][cell[1]][0] == 1:\n",
        "      knowledge[cell[0]][cell[1]] = 1\n",
        "      terrain_knowledge[cell[0]][cell[1]] = 1\n",
        "      probability_grid = update_on_blocked(probability_grid, cell, grid)\n",
        "      return planned_path[i-1], knowledge, steps, last_open_cell, probability_grid, num_examine, terrain_knowledge\n",
        "\n",
        "    #if cell is unblocked, we call examine to check for target:\n",
        "    target_found = 0\n",
        "    terrain_knowledge[cell[0]][cell[1]] = grid[cell[0]][cell[1]][1] \n",
        "    if cell == goal:\n",
        "      target_found = examine(cell, grid, original_goal)\n",
        "      num_examine += 1\n",
        "    \n",
        "      if target_found == 1:\n",
        "        return goal, knowledge, steps, last_open_cell, probability_grid, num_examine, terrain_knowledge\n",
        "        #termination condition\n",
        "      else:\n",
        "        probability_grid = update_on_unblocked(probability_grid,cell,grid)        \n",
        "        return planned_path[i], knowledge, steps, last_open_cell, probability_grid, num_examine, terrain_knowledge\n",
        "    \n",
        "    # Find all neighbouring cells and update knowledge\n",
        "    parent_coords = planned_path[i-1] if i-1 > 0 else tuple(np.array(cell) - (np.array(planned_path[i+1]) - np.array(cell)))\n",
        "    nbhd = neighbourhood(cell, grid.shape[0], grid.shape[1], nbhd_type=nbhd_type, parent_coords=planned_path[i-1])\n",
        "\n",
        "    for nbr in nbhd:\n",
        "      knowledge[nbr[0]][nbr[1]] = grid[nbr[0]][nbr[1]][0]\n",
        "\n",
        "    if is_open_cell(cell, knowledge):\n",
        "      last_open_cell = cell\n",
        "\n",
        "    steps += 1\n",
        "\n",
        "  return planned_path[i], knowledge, steps, last_open_cell, probability_grid, num_examine, terrain_knowledge"
      ],
      "execution_count": null,
      "outputs": []
    },
    {
      "cell_type": "code",
      "metadata": {
        "id": "EwBQdP55hlwl",
        "cellView": "form"
      },
      "source": [
        "#@title Convert Tuple 2D Array to np arrays\n",
        "\n",
        "def tuple_2d_array_2_np_array(x):\n",
        "  blocks = np.zeros(x.shape)\n",
        "  probs = np.zeros(x.shape)\n",
        "\n",
        "  for i in range(x.shape[0]):\n",
        "    for j in range(x.shape[1]):\n",
        "      blocks[i][j] = x[i][j][0]\n",
        "      probs[i][j] = x[i][j][1]\n",
        "\n",
        "  return blocks.astype(int), probs"
      ],
      "execution_count": null,
      "outputs": []
    },
    {
      "cell_type": "code",
      "metadata": {
        "colab": {
          "base_uri": "https://localhost:8080/"
        },
        "id": "HXHR7kMh7NBR",
        "outputId": "15c10a52-23cf-48aa-bb4e-9109c5545ffa"
      },
      "source": [
        "random.randint(1, 10)"
      ],
      "execution_count": null,
      "outputs": [
        {
          "output_type": "execute_result",
          "data": {
            "text/plain": [
              "7"
            ]
          },
          "metadata": {},
          "execution_count": 26
        }
      ]
    },
    {
      "cell_type": "code",
      "metadata": {
        "id": "_vfSr4cTzNOg"
      },
      "source": [
        "class RepeatedAStar:\n",
        "\n",
        "  def __init__(self, grid, move_nbhd_type=\"directional\", epsilon=1., \n",
        "               alpha=0.5, escape_tunnels=False):\n",
        "    \"\"\" Implements the Repeated A* algorithm on a grid-world. \n",
        "    \n",
        "    Parameters\n",
        "    ----------\n",
        "    grid: 2D np.array\n",
        "      The grid world on which we need to implement the algorithm\n",
        "    move_nbhd_type: str\n",
        "      Can be 'compass' (see in all 4 directions in the execution phase) \n",
        "      or 'directional' (see in only the direction of the movement \n",
        "      in the execution phase)\n",
        "    epsilon: float\n",
        "      Weight with which the heuristic function is multiplied, as:\n",
        "      f(n) = g(n) + epsilon*h(n)\n",
        "    escape_tunnels: bool\n",
        "      Set to true to restart A* from the start of a tunnel by backtracking\n",
        "      instead of dead-ends\n",
        "    \"\"\"\n",
        "\n",
        "    # Logging\n",
        "    self.knowledge_snaps = []\n",
        "    self.visited_snaps = []\n",
        "    self.start_end_snaps = []\n",
        "    self.sol_snaps = []\n",
        "    self.moves = 0\n",
        "    self.examinations = 0\n",
        "    self.successfully_completed = False\n",
        "    self.final_exit_status = None\n",
        "    self.grid = grid\n",
        "    self.total_cells_processed_by_run = []\n",
        "    self.backtracks = []\n",
        "    self.terrain = 0\n",
        "    self.times_per_iteration = []\n",
        "\n",
        "    # Algorithm parameters\n",
        "    self.alpha = alpha\n",
        "    self.epsilon = epsilon\n",
        "    self.move_nbhd_type = move_nbhd_type\n",
        "    self.escape_tunnels = escape_tunnels\n",
        "\n",
        "  def _update_state(self, knowledge, visited, path_end_points, soln, \n",
        "                    moves, successfully_completed, final_exit_status, \n",
        "                    num_cells_popped, examinations, terrain, time_for_iteration):\n",
        "    \"\"\" Updates the state (logging variables) after each run of the planning + execution phases. \n",
        "    \n",
        "    Parameters\n",
        "    ----------\n",
        "    knowledge: 2D np.array\n",
        "      Represents the agent's copy of the grid-world discovered so far.\n",
        "    visited: 2D np.array\n",
        "    \"\"\"\n",
        "    \n",
        "    self.knowledge_snaps.append(knowledge)\n",
        "    self.visited_snaps.append(visited)\n",
        "    self.start_end_snaps.append(path_end_points)\n",
        "    self.sol_snaps.append(soln)\n",
        "    self.moves = moves\n",
        "    self.examinations = examinations\n",
        "    self.successfully_completed = successfully_completed\n",
        "    self.final_exit_status = final_exit_status\n",
        "    self.total_cells_processed_by_run.append(num_cells_popped)\n",
        "    self.terrain = terrain\n",
        "    self.times_per_iteration.append(time_for_iteration)\n",
        "\n",
        "  def logs(self):\n",
        "    return {\n",
        "        \"grid\": self.grid,\n",
        "        \"knowledge\": self.knowledge_snaps,\n",
        "        \"visited\": self.visited_snaps,\n",
        "        \"start_end\": self.start_end_snaps,\n",
        "        \"solns\": self.sol_snaps,\n",
        "        \"moves\": self.moves,\n",
        "        \"examinations\": self.examinations,\n",
        "        \"successfully_completed\": self.successfully_completed,\n",
        "        \"final_exit_status\": self.final_exit_status,\n",
        "        \"terrain\": self.terrain\n",
        "    }\n",
        "\n",
        "  def path_followed(self):\n",
        "    \"\"\" Returns the actual path followed (planning + execution) \"\"\"\n",
        "\n",
        "    # If the paths followed and solutions don't match\n",
        "    assert len(self.sol_snaps) == len(self.start_end_snaps), \\\n",
        "      \"More steps for A* than elements in start_end.\"\n",
        "    \n",
        "    full_path = []\n",
        "    for i in range(len(self.start_end_snaps)):\n",
        "\n",
        "      # Get index of end node in path\n",
        "      _, end_node = self.start_end_snaps[i]\n",
        "      end_index = self.sol_snaps[i].index(end_node)\n",
        "\n",
        "      # Clip the array according to end index and append to parent array\n",
        "      clipped_array = self.sol_snaps[i][:end_index]\n",
        "      full_path += clipped_array\n",
        "\n",
        "    return full_path\n",
        "\n",
        "  def total_cells_processed(self):\n",
        "    \"\"\" Returns total cells processed by the run \"\"\"\n",
        "    return sum(self.total_cells_processed_by_run)\n",
        "\n",
        "  def total_backtracked_cells(self):\n",
        "    \"\"\" Returns total number of backtracked cells \"\"\"\n",
        "    flat_list = [item for sublist in self.backtracks for item in sublist]\n",
        "    return len(flat_list)\n",
        "\n",
        "  def search(self, start, original_goal, grid, heuristic_type,\n",
        "             max_steps_astar=None, max_steps_repeated=None, random_sample=False):\n",
        "\n",
        "    # Exit condition\n",
        "    if max_steps_repeated is None:\n",
        "      max_steps_repeated = sys.maxsize\n",
        "\n",
        "    # Save original goal\n",
        "    self.original_goal = original_goal\n",
        "\n",
        "    # Initialize visited matrix, knowledge matrix and probability grid\n",
        "    knowledge = np.zeros(grid.shape)\n",
        "    terrain_knowledge = np.full(knowledge.shape, 0.5)\n",
        "    probability_grid = np.full(grid.shape, 1/(grid.shape[0] * grid.shape[1]))\n",
        "\n",
        "    planned_path = []\n",
        "    last_open_cell = None\n",
        "    replan_goal = False\n",
        "    self.iteration = 0\n",
        "\n",
        "    while not self.successfully_completed:\n",
        "      iter_start_time = time.time()\n",
        "\n",
        "      # If number of steps have been exceeded for Repeated A*\n",
        "      if self.moves > max_steps_repeated:\n",
        "        self._update_state(None, None, (None, None), None, None, False,\n",
        "                           \"FAILED_STEPS_REP\", 0, None, time.time() - iter_start_time)\n",
        "        \n",
        "        self.iteration += 1\n",
        "        return\n",
        "\n",
        "      if random_sample:\n",
        "        if np.random.randint(1, 10) == 7:\n",
        "          return\n",
        "\n",
        "      # Initialize empty visited array for this run of A* search\n",
        "      visited = np.zeros(grid.shape)\n",
        "\n",
        "      # Find the next goal\n",
        "      goal = find_goal_8(start, probability_grid, knowledge, terrain_knowledge, alpha=self.alpha)\n",
        "\n",
        "      # Run A* search algorithm once\n",
        "      planned_path, exit_status, num_cells_popped = \\\n",
        "        a_star_search_new(start, goal, grid, heuristic_type, \n",
        "                          visited, knowledge, max_steps=max_steps_astar, \n",
        "                          epsilon=self.epsilon)\n",
        "\n",
        "      # If Goal is known to be blocked\n",
        "      if exit_status == \"BLOCKED_GOAL\":\n",
        "        probability_grid = update_on_blocked(probability_grid, goal, knowledge, grid)\n",
        "        continue\n",
        "\n",
        "      # If no path can be found      \n",
        "      if exit_status == \"FAILED_NOPATH\":\n",
        "        knowledge[goal[0]][goal[1]] = 1\n",
        "        probability_grid = update_on_blocked(probability_grid, goal, knowledge, grid)\n",
        "\n",
        "        self._update_state(knowledge, visited, (start, None), planned_path, \n",
        "                           self.moves, False, exit_status , num_cells_popped, \n",
        "                           self.examinations, grid[original_goal[0]][original_goal[1]][1], \n",
        "                           time.time() - iter_start_time)\n",
        "        \n",
        "        self.iteration += 1\n",
        "        continue\n",
        "\n",
        "      # If num of steps were exceeded for one run of A*\n",
        "      elif exit_status == \"FAILED_STEPS\":\n",
        "        self._update_state(knowledge, visited, (start, None), planned_path, \n",
        "                           self.moves, False, exit_status, num_cells_popped, \n",
        "                           self.examinations, grid[original_goal[0]][original_goal[1]][1], \n",
        "                           time.time() - iter_start_time)\n",
        "        \n",
        "        self.iteration += 1\n",
        "        return\n",
        "\n",
        "      # Move robot along the grid on the planned path and record environment\n",
        "      final_node, knowledge, moves, last_open_cell, probability_grid, num_examine,terrain_knowledge = move_and_record(start, goal, grid, \n",
        "                                                                planned_path, knowledge, probability_grid, original_goal,terrain_knowledge,\n",
        "                                                                nbhd_type=self.move_nbhd_type)\n",
        "\n",
        "      # If we were able to reach the goal successfully\n",
        "      if final_node == original_goal :\n",
        "        self._update_state(knowledge, visited, (start, final_node), \n",
        "                           planned_path, self.moves + moves, True, \n",
        "                           \"SUCCESS\", num_cells_popped, \n",
        "                           self.examinations + num_examine, grid[original_goal[0]][original_goal[1]][1], \n",
        "                           time.time() - iter_start_time)\n",
        "        \n",
        "        self.iteration += 1\n",
        "        continue\n",
        "        \n",
        "\n",
        "      # If we were not able to reach the goal successfully, repeat until possible\n",
        "      self._update_state(knowledge, visited, (start, final_node), \n",
        "                         planned_path, self.moves + moves, False,\n",
        "                         \"RUNNING\", num_cells_popped, \n",
        "                         self.examinations + num_examine, grid[original_goal[0]][original_goal[1]][1], \n",
        "                         time.time() - iter_start_time)\n",
        "      \n",
        "      if self.escape_tunnels and last_open_cell is not None and final_node != last_open_cell:\n",
        "        t0 = time.time()\n",
        "        start = last_open_cell\n",
        "\n",
        "        loc_idx = planned_path.index(last_open_cell)\n",
        "        backtrack = reversed(planned_path[loc_idx:])\n",
        "\n",
        "        self.backtracks.append(backtrack)\n",
        "      else:\n",
        "        start = final_node\n",
        "\n",
        "      self.iteration += 1\n",
        "\n",
        "    # We were able to reach successfully\n",
        "    return"
      ],
      "execution_count": null,
      "outputs": []
    },
    {
      "cell_type": "code",
      "metadata": {
        "id": "NsLiXmObfSFk"
      },
      "source": [
        "#@title Test Repeated A* Random\n",
        "\n",
        "def test_repeated_a_star_search_random(grid_shape, block_prob, heuristic_type=\"euclidean\", \n",
        "                                       move_nbhd_type=\"directional\", solvable=True, \n",
        "                                       epsilon=1., alpha=0.5, escape_tunnels=False, \n",
        "                                       random_sample=False):\n",
        "  \"\"\" For custom testing of the repeated A* search algorithm. \"\"\"\n",
        "\n",
        "  grid = None\n",
        "  goal_position = (0,0)\n",
        "\n",
        "  if solvable:\n",
        "    is_solvable = False\n",
        "    num_tries = 0\n",
        "\n",
        "    while not is_solvable:\n",
        "      num_tries += 1\n",
        "\n",
        "      grid, goal_position = generate_gridworld(grid_shape, \n",
        "                                               block_prob=block_prob)\n",
        "      \n",
        "      knowledge = tuple_2d_array_2_np_array(grid)[0].copy()\n",
        "      _, exit_status, _ = a_star_search_new((0, 0), goal_position, grid, heuristic_type, np.zeros(grid.shape), knowledge)\n",
        "\n",
        "      if exit_status == \"SUCCESS\":\n",
        "        is_solvable = True\n",
        "  else:\n",
        "    grid, goal_position = generate_gridworld(grid_shape, block_prob=block_prob)\n",
        "\n",
        "  t0 = time.time()\n",
        "\n",
        "  repeated_a_star = RepeatedAStar(grid, move_nbhd_type=move_nbhd_type, epsilon=epsilon, alpha=alpha, escape_tunnels=escape_tunnels)\n",
        "  repeated_a_star.search((0, 0), goal_position , grid, heuristic_type, random_sample=random_sample)\n",
        "\n",
        "  time_taken = time.time() - t0\n",
        "\n",
        "  return repeated_a_star, time_taken"
      ],
      "execution_count": null,
      "outputs": []
    },
    {
      "cell_type": "code",
      "metadata": {
        "id": "EF4fbVWB44yA",
        "cellView": "form"
      },
      "source": [
        "#@title Test Repeated A* Custom\n",
        "\n",
        "def test_repeated_a_star_search_custom(move_nbhd_type=\"directional\", epsilon=1., alpha=0.5, escape_tunnels=False):\n",
        "  \"\"\" For custom testing of the repeated A* search algorithm. \"\"\"\n",
        "  grid =  [[(0, 0.5), (0, 0.2), (0, 0.2), (0, 0.8), (1, 0.5)],\n",
        "          [(1, 0.5), (0, 0.2) ,(1, 0.5), (1, 0.2) ,(0, 0.2)],\n",
        "          [(0, 0.5) ,(0, 0.2), (0, 0.5), (0, 0.2) ,(1, 0.2)],\n",
        "          [(0, 0.8), (0, 0.8), (0, 0.5) ,(1, 0.2), (0, 0.5)],\n",
        "          [(0, 0.2) ,(0, 0.5), (0, 0.8) ,(0, 0.2), (1, 0.8)]]\n",
        "\n",
        "  grid = np.array(grid)\n",
        "  print(grid.shape)\n",
        "  print(grid)\n",
        "\n",
        "  repeated_a_star = RepeatedAStar(grid, move_nbhd_type=move_nbhd_type, epsilon=epsilon, alpha=alpha, escape_tunnels=escape_tunnels)\n",
        "  repeated_a_star.search((0, 0), (grid.shape[0]-1, grid.shape[1]-1), grid, \"manhattan\")\n",
        "\n",
        "  return repeated_a_star\n"
      ],
      "execution_count": null,
      "outputs": []
    },
    {
      "cell_type": "code",
      "metadata": {
        "colab": {
          "base_uri": "https://localhost:8080/"
        },
        "id": "pdHJbGJyi5ue",
        "outputId": "96160953-4fa2-453d-ca68-e5e766c60767"
      },
      "source": [
        "NUM_ITERS = 50\n",
        "DIM_ROWS, DIM_COLS, P = 20, 20, 0.3\n",
        "HEURISTIC_FN = \"manhattan\"\n",
        "ALPHA = 0.1\n",
        "SAVE = False\n",
        "RANDOM_SAMPLE = False\n",
        "\n",
        "times, statuses = [], []\n",
        "moves, examinations, terrains = [], [], []\n",
        "for _ in tqdm(range(NUM_ITERS)):\n",
        "\n",
        "  ras_test, time_taken = test_repeated_a_star_search_random((DIM_ROWS, DIM_COLS), P, HEURISTIC_FN, alpha=ALPHA, random_sample=RANDOM_SAMPLE)\n",
        "\n",
        "  if RANDOM_SAMPLE:\n",
        "    break\n",
        "\n",
        "  times.append(time_taken)\n",
        "  statuses.append(ras_test.successfully_completed)\n",
        "  moves.append(ras_test.moves)\n",
        "  examinations.append(ras_test.examinations)\n",
        "  terrains.append(ras_test.terrain)\n",
        "\n",
        "df_alpha_01 = pd.DataFrame({\"moves\": moves, \n",
        "                            \"examinations\": examinations, \n",
        "                            \"total_cost\": np.add(moves,examinations), \n",
        "                            \"terrains\": terrains})\n",
        "\n",
        "if SAVE:\n",
        "  fname = \"agent8_\" + str(DIM_ROWS) + \"x\" + str(DIM_COLS) +  \"_alpha\" + str(ALPHA) + \".csv\"\n",
        "  df_alpha_01.to_csv(fname)\n",
        "  print(\"\\nSaved as:\", fname)"
      ],
      "execution_count": null,
      "outputs": [
        {
          "output_type": "stream",
          "name": "stderr",
          "text": [
            "100%|██████████| 50/50 [00:30<00:00,  1.66it/s]\n"
          ]
        }
      ]
    },
    {
      "cell_type": "code",
      "metadata": {
        "id": "DrpnrIgU7sxd"
      },
      "source": [
        "og_grid = tuple_2d_array_2_np_array(ras_test.grid)[0]"
      ],
      "execution_count": null,
      "outputs": []
    },
    {
      "cell_type": "code",
      "metadata": {
        "colab": {
          "base_uri": "https://localhost:8080/"
        },
        "id": "n6YMsdS88HRJ",
        "outputId": "c752bd73-566f-4158-b82c-b2ff495dba91"
      },
      "source": [
        "path_followed = ras_test.path_followed()\n",
        "pretty_print(visualize_grid(path_followed, og_grid))"
      ],
      "execution_count": null,
      "outputs": [
        {
          "output_type": "stream",
          "name": "stdout",
          "text": [
            "0   0   0   0   1   0   0   0   0   0   0   0   1   0   0   0   0   0   0   1   1   0   0   0   1   0   0   0   0   0   0   0   0   1   0   1   0   0   0   0   \n",
            "1   0   0   0   0   1   0   1   1   1   1   0   1   0   0   0   1   0   1   1   0   0   0   0   0   0   0   0   0   1   0   0   1   0   1   0   0   0   0   0   \n",
            "1   1   0   0   0   0   0   0   0   1   0   1   0   0   0   1   0   0   1   0   0   0   0   1   1   0   1   0   0   0   0   0   1   0   0   0   0   1   0   1   \n",
            "0   0   0   0   0   0   0   1   0   0   0   0   0   0   0   0   0   0   0   0   0   0   0   1   1   0   1   0   0   0   0   0   1   0   0   1   0   1   1   0   \n",
            "0   0   0   1   1   0   0   0   0   0   1   0   0   0   0   1   0   0   1   0   0   0   0   0   0   1   0   1   0   0   0   0   0   0   0   1   0   0   1   0   \n",
            "0   0   1   0   0   0   0   0   0   1   0   0   0   0   0   0   1   0   0   0   0   0   0   0   0   1   1   0   0   0   0   0   0   0   1   1   0   0   1   0   \n",
            "0   0   0   1   1   0   0   1   1   0   0   1   0   0   0   0   1   0   0   0   0   0   0   0   0   1   0   0   1   1   1   0   0   0   1   0   0   0   1   0   \n",
            "1   0   1   0   0   1   0   0   0   0   0   0   1   1   0   0   1   0   1   1   1   0   1   0   0   1   0   0   0   1   1   0   0   0   0   0   0   0   1   0   \n",
            "0   0   0   0   0   0   1   1   0   0   0   0   0   0   0   1   0   0   0   0   0   1   0   0   0   0   0   0   0   0   0   1   0   1   0   1   1   1   0   1   \n",
            "1   1   0   1   0   1   1   1   1   0   0   0   0   1   0   0   0   0   0   0   0   0   0   0   0   0   1   1   0   1   1   1   0   1   0   0   0   0   0   0   \n",
            "0   0   1   0   0   0   0   0   0   0   0   0   0   1   1   0   0   0   0   0   1   0   0   0   1   0   0   0   1   0   0   0   0   0   0   1   1   0   0   0   \n",
            "0   0   0   0   0   0   0   1   1   0   0   0   0   0   0   1   1   0   1   0   0   1   0   0   1   0   0   0   1   1   1   1   0   0   0   0   0   0   0   0   \n",
            "0   0   0   0   0   0   0   0   0   1   0   1   0   0   0   0   0   1   0   1   0   0   0   0   0   1   0   0   1   1   0   0   1   0   1   0   0   1   0   1   \n",
            "1   0   0   0   0   0   0   1   0   1   0   1   0   0   0   0   0   0   0   0   0   0   1   1   0   0   0   0   1   0   0   0   0   0   0   0   1   0   0   0   \n",
            "1   1   0   0   0   0   0   0   0   0   1   0   1   0   1   1   0   0   1   0   1   1   1   0   0   0   0   0   0   0   0   0   0   0   0   0   1   0   0   0   \n",
            "0   0   1   0   1   0   0   0   1   0   0   0   0   0   0   1   0   1   0   0   1   0   0   0   0   0   0   1   0   0   0   0   1   0   0   0   0   0   0   0   \n",
            "0   1   0   1   0   1   0   0   0   0   0   1   0   0   0   0   1   0   0   1   1   0   0   0   1   0   1   0   0   0   1   0   0   1   0   0   0   1   0   1   \n",
            "0   0   1   0   0   0   0   0   0   0   0   0   0   1   1   0   1   0   0   0   0   0   0   0   0   0   0   0   0   0   0   0   0   0   0   1   0   0   0   1   \n",
            "0   0   1   0   0   1   0   0   0   0   0   0   0   0   0   1   0   1   0   1   1   1   0   0   0   1   1   0   0   1   1   1   0   1   0   0   0   0   0   0   \n",
            "0   0   0   0   0   0   0   0   1   1   0   0   0   1   0   1   0   1   0   0   0   0   1   0   0   0   0   0   0   0   0   0   0   1   1   0   1   0   0   1   \n",
            "0   1   0   0   0   0   1   0   0   1   0   0   1   1   0   0   0   0   0   0   0   0   0   0   0   0   1   0   0   0   0   0   1   0   1   0   0   1   0   1   \n",
            "0   0   0   0   0   1   0   1   1   1   0   0   0   0   0   0   1   1   1   0   0   0   0   0   1   0   0   0   0   1   0   0   0   0   0   1   1   0   0   0   \n",
            "0   0   0   0   0   0   1   0   0   0   1   0   0   0   0   0   0   0   0   1   0   0   0   0   0   1   0   0   1   0   0   0   0   0   1   1   0   0   1   0   \n",
            "1   1   1   1   0   0   0   0   0   0   1   1   1   1   0   0   0   1   0   0   0   1   0   1   1   0   0   0   0   0   0   0   0   0   0   1   0   0   0   0   \n",
            "0   1   1   0   1   1   1   0   1   1   0   0   0   1   0   1   0   0   0   0   0   1   0   1   0   0   1   0   1   0   0   0   0   0   1   1   0   0   1   1   \n",
            "0   1   0   0   0   1   0   0   0   0   0   0   0   1   0   0   0   0   0   1   0   0   0   0   0   1   1   1   0   0   1   0   0   1   0   0   0   0   0   1   \n",
            "0   0   1   1   1   1   0   0   1   1   1   1   1   0   0   1   1   0   1   0   1   0   0   1   1   0   0   1   0   0   0   0   0   1   0   0   0   0   1   1   \n",
            "0   0   1   0   0   1   1   1   1   0   0   0   1   1   0   0   0   0   0   0   0   1   0   0   0   0   1   1   0   1   0   0   0   0   0   0   0   0   1   0   \n",
            "1   0   0   0   0   0   1   0   0   0   0   0   0   0   0   1   0   1   0   0   0   0   0   0   0   0   1   1   1   0   0   0   0   0   0   0   0   1   1   0   \n",
            "1   1   0   0   0   1   1   0   0   1   0   0   0   0   1   0   0   0   0   1   0   1   1   1   0   1   1   0   0   0   0   0   0   0   0   0   0   0   0   0   \n",
            "1   1   0   1   1   0   0   0   0   0   0   1   0   0   0   0   0   0   0   0   1   0   0   1   0   0   0   1   0   0   0   1   1   0   0   0   0   0   0   1   \n",
            "0   0   0   0   1   0   0   0   0   0   0   1   0   0   1   0   1   1   0   0   0   0   1   0   0   0   0   0   0   0   1   1   0   1   0   0   1   1   0   0   \n",
            "1   0   1   0   0   0   0   0   0   0   0   0   0   0   0   1   0   1   0   0   0   0   1   1   0   0   0   1   0   0   0   0   0   1   0   0   1   0   0   1   \n",
            "0   1   0   0   1   1   0   0   0   1   0   1   0   1   1   0   1   0   1   0   1   0   0   0   0   0   0   0   0   0   1   0   0   1   1   0   0   0   1   0   \n",
            "0   1   0   1   0   0   0   1   1   0   1   1   0   1   0   0   0   1   0   0   0   1   0   0   1   1   0   0   1   0   1   0   0   0   0   1   0   1   1   0   \n",
            "0   1   1   1   1   0   1   0   0   0   1   1   0   0   1   1   0   1   0   1   0   0   0   0   0   0   1   1   0   0   0   0   1   0   1   0   0   1   1   1   \n",
            "1   0   1   0   1   1   0   0   1   0   1   1   0   0   0   0   0   0   0   1   0   0   0   0   0   0   1   0   0   0   0   0   0   1   0   0   0   1   0   0   \n",
            "1   1   1   1   1   0   1   0   0   0   0   0   0   0   1   0   0   0   0   0   0   0   1   0   0   1   1   0   1   0   1   1   0   0   1   0   1   0   0   0   \n",
            "0   0   0   0   0   0   1   0   0   0   0   0   1   0   1   1   1   0   0   0   1   0   0   1   1   0   0   0   0   0   0   1   0   0   1   1   0   1   0   1   \n",
            "0   0   0   0   0   0   0   1   0   0   1   0   0   0   0   0   0   0   0   0   1   1   0   1   0   0   0   1   1   0   0   0   1   1   0   0   0   0   0   0   \n"
          ]
        }
      ]
    },
    {
      "cell_type": "code",
      "metadata": {
        "colab": {
          "base_uri": "https://localhost:8080/"
        },
        "id": "3kSM_SH97_jm",
        "outputId": "35afe77b-a757-426c-ad8a-7f06a8db1679"
      },
      "source": [
        "pretty_print(ras_test.knowledge_snaps[-1].astype(int))"
      ],
      "execution_count": null,
      "outputs": [
        {
          "output_type": "stream",
          "name": "stdout",
          "text": [
            "   0   0   0   0   0   0   0   0   0   0   0   0   0   0   0   0   0   0   0   0   0   0   0   0   0   0   0   0   0   0   0   0   0   0   0   0   0   0   0   0\n",
            "   0   0   0   0   0   0   0   0   0   0   0   0   0   0   0   0   0   0   0   0   0   0   0   0   0   0   0   0   0   0   0   0   0   0   0   0   0   0   0   0\n",
            "   0   0   0   0   0   0   0   0   0   0   0   0   0   0   0   0   0   0   0   0   0   0   0   0   0   0   0   0   0   0   0   0   0   0   0   0   0   0   0   0\n",
            "   0   0   0   0   0   0   0   0   0   0   0   0   0   0   0   0   0   0   0   0   0   0   0   0   0   0   0   0   0   0   0   0   0   0   0   0   0   0   0   0\n",
            "   0   0   0   0   0   0   0   0   0   0   0   0   0   0   0   0   0   0   0   0   0   0   0   0   0   0   0   0   0   0   0   0   0   0   0   0   0   0   0   0\n",
            "   0   0   0   0   0   0   0   0   0   0   0   0   0   0   0   0   0   0   0   0   0   0   0   0   0   0   0   0   0   0   0   0   0   0   0   0   0   0   0   0\n",
            "   0   0   0   0   0   0   0   0   0   0   0   0   0   0   0   0   0   0   0   0   0   0   0   0   0   0   0   0   0   0   0   0   0   0   0   0   0   0   0   0\n",
            "   0   0   0   0   0   0   0   0   0   0   0   0   0   0   0   0   0   0   0   0   0   0   0   0   0   0   0   0   0   0   0   0   0   0   0   0   0   0   0   0\n",
            "   0   0   0   0   0   0   0   0   0   0   0   0   0   0   0   0   0   0   0   0   0   0   0   0   0   0   0   0   0   0   0   0   0   0   0   0   0   0   0   0\n",
            "   0   0   0   0   0   0   0   0   0   0   0   0   0   0   0   0   0   0   0   0   0   0   0   0   0   0   0   0   0   0   0   0   0   0   0   0   0   0   0   0\n",
            "   0   0   0   0   0   0   0   0   0   0   0   0   0   0   0   0   0   0   0   0   0   0   0   0   0   0   0   0   0   0   0   0   0   0   0   0   0   0   0   0\n",
            "   0   0   0   0   0   0   0   0   0   0   0   0   0   0   0   0   0   0   0   0   0   0   0   0   0   0   0   0   0   0   0   0   0   0   0   0   0   0   0   0\n",
            "   0   0   0   0   0   0   0   0   0   0   0   0   0   0   0   0   0   0   0   0   0   0   0   0   0   0   0   0   0   0   0   0   0   0   0   0   0   0   0   0\n",
            "   0   0   0   0   0   0   0   0   0   0   0   0   0   0   0   0   0   0   0   0   0   0   0   0   0   0   0   0   0   0   0   0   0   0   0   0   0   0   0   0\n",
            "   0   0   0   0   0   0   0   0   0   0   0   0   0   0   0   0   0   0   0   0   0   0   0   0   0   0   0   0   0   0   0   0   0   0   0   0   0   0   0   0\n",
            "   0   0   0   0   0   0   0   0   0   0   0   0   0   0   0   0   0   0   0   0   0   0   0   0   0   0   0   0   0   0   0   0   0   0   0   0   0   0   0   0\n",
            "   0   0   0   0   0   0   0   0   0   0   0   0   0   0   0   0   0   0   0   0   0   0   0   0   0   0   0   0   0   0   0   0   0   0   0   0   0   0   0   0\n",
            "   0   0   0   0   0   0   0   0   0   0   0   0   0   0   0   0   0   0   0   0   0   0   0   0   0   0   0   0   0   0   0   0   0   0   0   0   0   0   0   0\n",
            "   0   0   0   0   0   0   0   0   0   0   0   0   0   0   0   0   0   0   0   0   0   0   0   0   0   0   0   0   0   0   0   0   0   0   0   0   0   0   0   0\n",
            "   0   0   0   0   0   0   0   0   0   0   0   0   0   0   0   0   0   0   0   0   0   0   0   0   0   0   0   0   0   0   0   0   0   0   0   0   0   0   0   0\n",
            "   0   0   0   0   0   0   0   0   0   0   0   0   0   0   0   0   0   0   0   0   0   0   0   0   0   0   0   0   0   0   0   0   0   0   0   0   0   0   0   0\n",
            "   0   0   0   0   0   0   0   0   0   0   0   0   0   0   0   0   0   0   0   0   0   0   0   0   0   0   0   0   0   0   0   0   0   0   0   0   0   0   0   0\n",
            "   0   0   0   0   0   0   0   0   0   0   0   0   0   0   0   0   0   0   0   0   0   0   0   0   0   0   0   0   0   0   0   0   0   0   0   0   0   0   0   0\n",
            "   0   0   0   0   0   0   0   0   0   0   0   0   0   0   0   0   0   0   0   0   0   0   0   0   0   0   0   0   0   0   0   0   0   0   0   0   0   0   0   0\n",
            "   0   0   0   0   0   0   0   0   0   0   0   0   0   0   0   0   0   0   0   0   0   0   0   0   0   0   0   0   0   0   0   0   0   0   0   0   0   0   0   0\n",
            "   0   0   0   0   0   0   0   0   0   0   0   0   0   0   0   0   0   0   0   0   0   0   0   0   0   0   0   0   0   0   0   0   0   0   0   0   0   0   0   0\n",
            "   0   0   0   0   0   0   0   0   0   0   0   0   0   0   0   0   0   0   0   0   0   0   0   0   0   0   0   0   0   0   0   0   0   0   0   0   0   0   0   0\n",
            "   0   0   0   0   0   0   0   0   0   0   0   0   0   0   0   0   0   0   0   0   0   0   0   0   0   0   0   0   0   0   0   0   0   0   0   0   0   0   0   0\n",
            "   0   0   0   0   0   0   0   0   0   0   0   0   0   0   0   0   0   0   0   0   0   0   0   0   0   0   0   0   0   0   0   0   0   0   0   0   0   0   0   0\n",
            "   0   0   0   0   0   0   0   0   0   0   0   0   0   0   0   0   0   0   0   0   0   0   0   0   0   0   0   0   0   0   0   0   0   0   0   0   0   0   0   0\n",
            "   0   0   0   0   0   0   0   0   0   0   0   0   0   0   0   0   0   0   0   0   0   0   0   0   0   0   0   0   0   0   0   0   0   0   0   0   0   0   0   0\n",
            "   0   0   0   0   0   0   0   0   0   0   0   0   0   0   0   0   0   0   0   0   0   0   0   0   0   0   0   0   0   0   0   0   0   0   0   0   0   0   0   0\n",
            "   0   0   0   0   0   0   0   0   0   0   0   0   0   0   0   0   0   0   0   0   0   0   0   0   0   0   0   0   0   0   0   0   0   0   0   0   0   0   0   0\n",
            "   0   0   0   0   0   0   0   0   0   0   0   0   0   0   0   0   0   0   0   0   0   0   0   0   0   0   0   0   0   0   0   0   0   0   0   0   0   0   0   0\n",
            "   0   0   0   0   0   0   0   0   0   0   0   0   0   0   0   0   0   0   0   0   0   0   0   0   0   0   0   0   0   0   0   0   0   0   0   0   0   0   0   0\n",
            "   0   0   0   0   0   0   0   0   0   0   0   0   0   0   0   0   0   0   0   0   0   0   0   0   0   0   0   0   0   0   0   0   0   0   0   0   0   0   0   0\n",
            "   0   0   0   0   0   0   0   0   0   0   0   0   0   0   0   0   0   0   0   0   0   0   0   0   0   0   0   0   0   0   0   0   0   0   0   0   0   0   0   0\n",
            "   0   0   0   0   0   0   0   0   0   0   0   0   0   0   0   0   0   0   0   0   0   0   0   0   0   0   0   0   0   0   0   0   0   0   0   0   0   0   0   0\n",
            "   0   0   0   0   0   0   0   0   0   0   0   0   0   0   0   0   0   0   0   0   0   0   0   0   0   0   0   0   0   0   0   0   0   0   0   0   0   0   0   0\n",
            "   0   0   0   0   0   0   0   0   0   0   0   0   0   0   0   0   0   0   0   0   0   0   0   0   0   0   0   0   0   0   0   0   0   0   0   0   0   0   0   0\n"
          ]
        }
      ]
    },
    {
      "cell_type": "code",
      "metadata": {
        "id": "WBtVF2Vm9m7u"
      },
      "source": [
        "a6_2020 = pd.read_csv(\"Agent6_res20.csv\")\n",
        "a6_3030 = pd.read_csv(\"Agent6_res30.csv\")\n",
        "a6_4040 = pd.read_csv(\"Agent6_res40.csv\")\n",
        "a6_5050 = pd.read_csv(\"Agent6_res50.csv\")"
      ],
      "execution_count": null,
      "outputs": []
    },
    {
      "cell_type": "code",
      "metadata": {
        "id": "6LEL1_il-NzI"
      },
      "source": [
        "a6_2020['total_cost'] = a6_2020['Moves'] + a6_2020['Examinations']\n",
        "a6_3030['total_cost'] = a6_3030['Moves'] + a6_3030['Examinations']\n",
        "a6_4040['total_cost'] = a6_4040['Moves'] + a6_4040['Examinations']\n",
        "a6_5050['total_cost'] = a6_5050['Moves'] + a6_5050['Examinations']"
      ],
      "execution_count": null,
      "outputs": []
    },
    {
      "cell_type": "code",
      "metadata": {
        "id": "kRf_sbpq-peD"
      },
      "source": [
        "def hyp_test(x1, x2, test_type='Z'):\n",
        "  if TEST_TYPE == \"Z\":\n",
        "    score, p_value = ztest(x1, x2, alternative='smaller')\n",
        "  elif TEST_TYPE == \"t\":\n",
        "    score, p_value = ttest_ind(x1, x2, alternative='smaller')\n",
        "  else:\n",
        "    raise ValueError(\"Only can do Z or t test.\")\n",
        "\n",
        "  print(\"Mean of x1 =\", np.mean(x1))\n",
        "  print(\"Mean of x2 =\", np.mean(x2))\n",
        "  print(\"Z/t score =\", score)\n",
        "  print(\"P value =\", p_value)"
      ],
      "execution_count": null,
      "outputs": []
    },
    {
      "cell_type": "code",
      "metadata": {
        "colab": {
          "base_uri": "https://localhost:8080/"
        },
        "id": "FWq3l2KO-3Kn",
        "outputId": "355c839c-6881-42d3-93aa-b14a3f345dda"
      },
      "source": [
        "hyp_test(df_alpha_01['total_cost'], a6_2020['total_cost'])"
      ],
      "execution_count": null,
      "outputs": [
        {
          "output_type": "stream",
          "name": "stdout",
          "text": [
            "Mean of x1 = 318.38\n",
            "Mean of x2 = 392.62\n",
            "Z/t score = -1.703395472259519\n",
            "P value = 0.04424704223200459\n"
          ]
        }
      ]
    },
    {
      "cell_type": "code",
      "metadata": {
        "colab": {
          "base_uri": "https://localhost:8080/"
        },
        "id": "ozQZDgzi-jmn",
        "outputId": "7f354e6b-475c-497f-9cc6-751d139f91a6"
      },
      "source": [
        "hyp_test(df_alpha_30['total_cost'], a6_3030['total_cost'])"
      ],
      "execution_count": null,
      "outputs": [
        {
          "output_type": "stream",
          "name": "stdout",
          "text": [
            "Mean of x1 = 693.6\n",
            "Mean of x2 = 936.72\n",
            "Z/t score = -2.295330314487258\n",
            "P value = 0.01085710079785948\n"
          ]
        }
      ]
    },
    {
      "cell_type": "code",
      "metadata": {
        "colab": {
          "base_uri": "https://localhost:8080/"
        },
        "id": "CHMeWxOUBfyR",
        "outputId": "c96043b9-593e-4aa5-b343-9edebc52fe27"
      },
      "source": [
        "hyp_test(df_alpha_40['total_cost'], a6_4040['total_cost'])"
      ],
      "execution_count": null,
      "outputs": [
        {
          "output_type": "stream",
          "name": "stdout",
          "text": [
            "Mean of x1 = 1241.42\n",
            "Mean of x2 = 1344.6\n",
            "Z/t score = -0.6378203367180927\n",
            "P value = 0.26179531983407267\n"
          ]
        }
      ]
    },
    {
      "cell_type": "code",
      "metadata": {
        "id": "qGc6P7i-i5n0"
      },
      "source": [
        "df_alpha_01.to_csv(\"Agent_8_working_20x20.csv\")"
      ],
      "execution_count": null,
      "outputs": []
    },
    {
      "cell_type": "code",
      "metadata": {
        "colab": {
          "base_uri": "https://localhost:8080/"
        },
        "id": "4noUbO48i5g4",
        "outputId": "ffaeccce-be8c-4386-c2ea-50dc6f450e56"
      },
      "source": [
        "STATISTIC = 'total_cost'\n",
        "TEST_TYPE = \"Z\"\n",
        "\n",
        "x1 = df_alpha_01[STATISTIC]\n",
        "x2 = a7_2020\n",
        "\n",
        "if TEST_TYPE == \"Z\":\n",
        "  score, p_value = ztest(x1, x2, alternative='smaller')\n",
        "elif TEST_TYPE == \"t\":\n",
        "  score, p_value = ttest_ind(x1, x2, alternative='smaller')\n",
        "else:\n",
        "  raise ValueError(\"Only can do Z or t test.\")\n",
        "\n",
        "print(\"Mean of x1 =\", np.mean(x1))\n",
        "print(\"Mean of x2 =\", np.mean(x2))\n",
        "print(\"Z/t score =\", score)\n",
        "print(\"P value =\", p_value)"
      ],
      "execution_count": null,
      "outputs": [
        {
          "output_type": "stream",
          "name": "stdout",
          "text": [
            "Mean of x1 = 318.38\n",
            "Mean of x2 = 408.5\n",
            "Z/t score = -2.0113608573978676\n",
            "P value = 0.022143677332211703\n"
          ]
        }
      ]
    },
    {
      "cell_type": "code",
      "metadata": {
        "colab": {
          "base_uri": "https://localhost:8080/"
        },
        "id": "ZL5m96ml_SPd",
        "outputId": "0c880971-ac88-412f-ec78-56c87e2ec676"
      },
      "source": [
        "NUM_ITERS = 50\n",
        "DIM_ROWS, DIM_COLS, P = 30, 30, 0.3\n",
        "HEURISTIC_FN = \"manhattan\"\n",
        "ALPHA = 0.1\n",
        "SAVE = False\n",
        "RANDOM_SAMPLE = False\n",
        "\n",
        "times, statuses = [], []\n",
        "moves, examinations, terrains = [], [], []\n",
        "for _ in tqdm(range(NUM_ITERS)):\n",
        "\n",
        "  ras_test, time_taken = test_repeated_a_star_search_random((DIM_ROWS, DIM_COLS), P, HEURISTIC_FN, alpha=ALPHA, random_sample=RANDOM_SAMPLE)\n",
        "\n",
        "  if RANDOM_SAMPLE:\n",
        "    break\n",
        "\n",
        "  times.append(time_taken)\n",
        "  statuses.append(ras_test.successfully_completed)\n",
        "  moves.append(ras_test.moves)\n",
        "  examinations.append(ras_test.examinations)\n",
        "  terrains.append(ras_test.terrain)\n",
        "\n",
        "df_alpha_30 = pd.DataFrame({\"moves\": moves, \n",
        "                            \"examinations\": examinations, \n",
        "                            \"total_cost\": np.add(moves,examinations), \n",
        "                            \"terrains\": terrains})\n",
        "\n",
        "if SAVE:\n",
        "  fname = \"agent8_\" + str(DIM_ROWS) + \"x\" + str(DIM_COLS) +  \"_alpha\" + str(ALPHA) + \".csv\"\n",
        "  df_alpha_30.to_csv(fname)\n",
        "  print(\"\\nSaved as:\", fname)"
      ],
      "execution_count": null,
      "outputs": [
        {
          "output_type": "stream",
          "name": "stderr",
          "text": [
            "100%|██████████| 50/50 [02:11<00:00,  2.64s/it]\n"
          ]
        }
      ]
    },
    {
      "cell_type": "code",
      "metadata": {
        "colab": {
          "base_uri": "https://localhost:8080/"
        },
        "id": "tUgHaK0aAcon",
        "outputId": "9f061967-8825-49d0-84f6-a96aca461f15"
      },
      "source": [
        "STATISTIC = 'total_cost'\n",
        "TEST_TYPE = \"Z\"\n",
        "\n",
        "x1 = df_alpha_30[STATISTIC]\n",
        "x2 = a7_3030\n",
        "\n",
        "if TEST_TYPE == \"Z\":\n",
        "  score, p_value = ztest(x1, x2, alternative='smaller')\n",
        "elif TEST_TYPE == \"t\":\n",
        "  score, p_value = ttest_ind(x1, x2, alternative='smaller')\n",
        "else:\n",
        "  raise ValueError(\"Only can do Z or t test.\")\n",
        "\n",
        "print(\"Mean of x1 =\", np.mean(x1))\n",
        "print(\"Mean of x2 =\", np.mean(x2))\n",
        "print(\"Z/t score =\", score)\n",
        "print(\"P value =\", p_value)"
      ],
      "execution_count": null,
      "outputs": [
        {
          "output_type": "stream",
          "name": "stdout",
          "text": [
            "Mean of x1 = 693.6\n",
            "Mean of x2 = 747.8\n",
            "Z/t score = -0.488146197895652\n",
            "P value = 0.31272314514545396\n"
          ]
        }
      ]
    },
    {
      "cell_type": "code",
      "metadata": {
        "id": "O7XD-eNsw4lQ"
      },
      "source": [
        "df_alpha_30.to_csv(\"Agent_8_working_30x30.csv\")"
      ],
      "execution_count": null,
      "outputs": []
    },
    {
      "cell_type": "code",
      "metadata": {
        "colab": {
          "base_uri": "https://localhost:8080/"
        },
        "id": "6ZV7agYABZ1t",
        "outputId": "16fcbd2c-61b0-4601-bd92-81a5512e1816"
      },
      "source": [
        "NUM_ITERS = 50\n",
        "DIM_ROWS, DIM_COLS, P = 40, 40, 0.3\n",
        "HEURISTIC_FN = \"manhattan\"\n",
        "ALPHA = 0.1\n",
        "SAVE = False\n",
        "RANDOM_SAMPLE = False\n",
        "\n",
        "times, statuses = [], []\n",
        "moves, examinations, terrains = [], [], []\n",
        "for _ in tqdm(range(NUM_ITERS)):\n",
        "\n",
        "  ras_test, time_taken = test_repeated_a_star_search_random((DIM_ROWS, DIM_COLS), P, HEURISTIC_FN, alpha=ALPHA, random_sample=RANDOM_SAMPLE)\n",
        "\n",
        "  if RANDOM_SAMPLE:\n",
        "    break\n",
        "\n",
        "  times.append(time_taken)\n",
        "  statuses.append(ras_test.successfully_completed)\n",
        "  moves.append(ras_test.moves)\n",
        "  examinations.append(ras_test.examinations)\n",
        "  terrains.append(ras_test.terrain)\n",
        "\n",
        "df_alpha_40 = pd.DataFrame({\"moves\": moves, \n",
        "                            \"examinations\": examinations, \n",
        "                            \"total_cost\": np.add(moves,examinations), \n",
        "                            \"terrains\": terrains})\n",
        "\n",
        "if SAVE:\n",
        "  fname = \"agent8_\" + str(DIM_ROWS) + \"x\" + str(DIM_COLS) +  \"_alpha\" + str(ALPHA) + \".csv\"\n",
        "  df_alpha_40.to_csv(fname)\n",
        "  print(\"\\nSaved as:\", fname)"
      ],
      "execution_count": null,
      "outputs": [
        {
          "output_type": "stream",
          "name": "stderr",
          "text": [
            "100%|██████████| 50/50 [06:48<00:00,  8.16s/it]\n"
          ]
        }
      ]
    },
    {
      "cell_type": "code",
      "metadata": {
        "colab": {
          "base_uri": "https://localhost:8080/"
        },
        "id": "VIN22rYUDJ5s",
        "outputId": "79dec9c2-683e-47ac-a568-06d4b04b111e"
      },
      "source": [
        "STATISTIC = 'total_cost'\n",
        "TEST_TYPE = \"Z\"\n",
        "\n",
        "x1 = df_alpha_40[STATISTIC]\n",
        "x2 = a7_4040\n",
        "\n",
        "if TEST_TYPE == \"Z\":\n",
        "  score, p_value = ztest(x1, x2, alternative='smaller')\n",
        "elif TEST_TYPE == \"t\":\n",
        "  score, p_value = ttest_ind(x1, x2, alternative='smaller')\n",
        "else:\n",
        "  raise ValueError(\"Only can do Z or t test.\")\n",
        "\n",
        "print(\"Mean of x1 =\", np.mean(x1))\n",
        "print(\"Mean of x2 =\", np.mean(x2))\n",
        "print(\"Z/t score =\", score)\n",
        "print(\"P value =\", p_value)"
      ],
      "execution_count": null,
      "outputs": [
        {
          "output_type": "stream",
          "name": "stdout",
          "text": [
            "Mean of x1 = 1241.42\n",
            "Mean of x2 = 1494.42\n",
            "Z/t score = -1.4651244958426137\n",
            "P value = 0.07144347728247306\n"
          ]
        }
      ]
    },
    {
      "cell_type": "code",
      "metadata": {
        "id": "rYcklNrODcoY"
      },
      "source": [
        "df_alpha_40.to_csv(\"Agent_8_working_40x40.csv\")"
      ],
      "execution_count": null,
      "outputs": []
    },
    {
      "cell_type": "code",
      "metadata": {
        "id": "iiN_qqfeKH4_"
      },
      "source": [
        "df_alpha_100.to_csv(\"Agent_8_working_100x100.csv\")"
      ],
      "execution_count": null,
      "outputs": []
    },
    {
      "cell_type": "code",
      "metadata": {
        "colab": {
          "base_uri": "https://localhost:8080/",
          "height": 206
        },
        "id": "V4uuTwCTKVnX",
        "outputId": "333fb322-b062-4f2a-bb67-1bd05e29fbd3"
      },
      "source": [
        "df_alpha_100"
      ],
      "execution_count": null,
      "outputs": [
        {
          "output_type": "execute_result",
          "data": {
            "text/html": [
              "<div>\n",
              "<style scoped>\n",
              "    .dataframe tbody tr th:only-of-type {\n",
              "        vertical-align: middle;\n",
              "    }\n",
              "\n",
              "    .dataframe tbody tr th {\n",
              "        vertical-align: top;\n",
              "    }\n",
              "\n",
              "    .dataframe thead th {\n",
              "        text-align: right;\n",
              "    }\n",
              "</style>\n",
              "<table border=\"1\" class=\"dataframe\">\n",
              "  <thead>\n",
              "    <tr style=\"text-align: right;\">\n",
              "      <th></th>\n",
              "      <th>moves</th>\n",
              "      <th>examinations</th>\n",
              "      <th>total_cost</th>\n",
              "      <th>terrains</th>\n",
              "    </tr>\n",
              "  </thead>\n",
              "  <tbody>\n",
              "    <tr>\n",
              "      <th>0</th>\n",
              "      <td>11311</td>\n",
              "      <td>5999</td>\n",
              "      <td>17310</td>\n",
              "      <td>0.2</td>\n",
              "    </tr>\n",
              "    <tr>\n",
              "      <th>1</th>\n",
              "      <td>11138</td>\n",
              "      <td>5945</td>\n",
              "      <td>17083</td>\n",
              "      <td>0.2</td>\n",
              "    </tr>\n",
              "    <tr>\n",
              "      <th>2</th>\n",
              "      <td>1481</td>\n",
              "      <td>917</td>\n",
              "      <td>2398</td>\n",
              "      <td>0.5</td>\n",
              "    </tr>\n",
              "    <tr>\n",
              "      <th>3</th>\n",
              "      <td>6871</td>\n",
              "      <td>3924</td>\n",
              "      <td>10795</td>\n",
              "      <td>0.2</td>\n",
              "    </tr>\n",
              "    <tr>\n",
              "      <th>4</th>\n",
              "      <td>4940</td>\n",
              "      <td>2911</td>\n",
              "      <td>7851</td>\n",
              "      <td>0.8</td>\n",
              "    </tr>\n",
              "  </tbody>\n",
              "</table>\n",
              "</div>"
            ],
            "text/plain": [
              "   moves  examinations  total_cost  terrains\n",
              "0  11311          5999       17310       0.2\n",
              "1  11138          5945       17083       0.2\n",
              "2   1481           917        2398       0.5\n",
              "3   6871          3924       10795       0.2\n",
              "4   4940          2911        7851       0.8"
            ]
          },
          "metadata": {},
          "execution_count": 75
        }
      ]
    },
    {
      "cell_type": "code",
      "metadata": {
        "id": "D0enDiv6XtiI",
        "colab": {
          "base_uri": "https://localhost:8080/"
        },
        "outputId": "8f8f76ca-daca-4a6f-c055-48648f844c8c"
      },
      "source": [
        "N = 100\n",
        "\n",
        "\n",
        "times = []\n",
        "for _ in tqdm(range(N)):\n",
        "  ras_test, time_taken = test_repeated_a_star_search_random((15, 15), 0.3, \"manhattan\")\n",
        "\n",
        "  times.append(time_taken)\n",
        "\n",
        "  #print(\"time_taken =\", time_taken)\n",
        "\n",
        "  #print(\"Exit status : \", ras_test.final_exit_status)\n",
        "  # print(\"Path length : \",len(ras_test.path_followed()))\n",
        "  #print(\"Steps taken : \",ras_test.moves)"
      ],
      "execution_count": null,
      "outputs": [
        {
          "output_type": "stream",
          "name": "stderr",
          "text": [
            "100%|██████████| 100/100 [01:30<00:00,  1.10it/s]\n"
          ]
        }
      ]
    },
    {
      "cell_type": "code",
      "metadata": {
        "colab": {
          "base_uri": "https://localhost:8080/",
          "height": 284
        },
        "id": "Gvq2DnhnvasH",
        "outputId": "246cfb63-3edf-409f-b874-813b6581f4a8"
      },
      "source": [
        "df = pd.DataFrame({\"times\": times})\n",
        "df.boxplot()"
      ],
      "execution_count": null,
      "outputs": [
        {
          "output_type": "execute_result",
          "data": {
            "text/plain": [
              "<matplotlib.axes._subplots.AxesSubplot at 0x7f60c2ac04d0>"
            ]
          },
          "metadata": {},
          "execution_count": 214
        },
        {
          "output_type": "display_data",
          "data": {
            "image/png": "[encoded data removed]",
            "text/plain": [
              "<Figure size 432x288 with 1 Axes>"
            ]
          },
          "metadata": {
            "needs_background": "light"
          }
        }
      ]
    },
    {
      "cell_type": "code",
      "metadata": {
        "colab": {
          "base_uri": "https://localhost:8080/"
        },
        "id": "1urM3zpeKuhI",
        "outputId": "3320fe01-2891-444c-dc3b-9c6753d7a75f"
      },
      "source": [
        "unique_vals = sorted(np.unique(ras_test.prob_grid))\n",
        "replace_dict = {unique_vals[i]: i for i in range(len(unique_vals))}\n",
        "\n",
        "new_prob_grid = np.zeros(ras_test.prob_grid.shape)\n",
        "\n",
        "for i in range(ras_test.prob_grid.shape[0]):\n",
        "  for j in range(ras_test.prob_grid.shape[1]):\n",
        "    new_prob_grid[i][j] = replace_dict[ras_test.prob_grid[i][j]]\n",
        "\n",
        "pretty_print(new_prob_grid.astype(int))"
      ],
      "execution_count": null,
      "outputs": [
        {
          "output_type": "stream",
          "name": "stdout",
          "text": [
            "   5   5   5   5   5   5   5   5   5   5   5   5   5   5   5\n",
            "   1   3   5   5   5   5   5   5   5   5   5   5   5   5   5\n",
            "   0   3   5   5   5   5   5   5   5   5   5   5   5   5   5\n",
            "   2   3   5   5   5   5   5   5   5   5   5   5   5   5   5\n",
            "   2   3   0   5   5   5   5   5   5   5   5   5   5   5   5\n",
            "   3   3   5   5   5   5   5   5   5   5   5   5   5   5   5\n",
            "   4   1   5   5   5   5   5   5   5   5   5   5   5   5   5\n",
            "   5   5   5   5   5   5   5   5   5   5   5   5   5   5   5\n",
            "   5   5   5   5   5   5   5   5   5   5   5   5   5   5   5\n",
            "   5   5   5   5   5   5   5   5   5   5   5   5   5   5   5\n",
            "   5   5   5   5   5   5   5   5   5   5   5   5   5   5   5\n",
            "   5   5   5   5   5   5   5   5   5   5   5   5   5   5   5\n",
            "   5   5   5   5   5   5   5   5   5   5   5   5   5   5   5\n",
            "   5   5   5   5   5   5   5   5   5   5   5   5   5   5   5\n",
            "   5   5   5   5   5   5   5   5   5   5   5   5   5   5   5\n"
          ]
        }
      ]
    },
    {
      "cell_type": "code",
      "metadata": {
        "colab": {
          "base_uri": "https://localhost:8080/"
        },
        "id": "CMMlaOZirPuN",
        "outputId": "17bcffca-38de-48d8-9cfd-85576a13f455"
      },
      "source": [
        "ras_test.iteration"
      ],
      "execution_count": null,
      "outputs": [
        {
          "output_type": "execute_result",
          "data": {
            "text/plain": [
              "14"
            ]
          },
          "metadata": {},
          "execution_count": 190
        }
      ]
    },
    {
      "cell_type": "code",
      "metadata": {
        "colab": {
          "base_uri": "https://localhost:8080/"
        },
        "id": "swVzYGASrXO6",
        "outputId": "10c639ef-3e37-4e4b-a509-3c798260f863"
      },
      "source": [
        "ras_test.path_followed()"
      ],
      "execution_count": null,
      "outputs": [
        {
          "output_type": "execute_result",
          "data": {
            "text/plain": [
              "[(0, 0),\n",
              " (1, 0),\n",
              " (1, 1),\n",
              " (2, 1),\n",
              " (3, 1),\n",
              " (3, 0),\n",
              " (4, 0),\n",
              " (4, 1),\n",
              " (5, 1),\n",
              " (6, 1),\n",
              " (6, 0),\n",
              " (5, 0)]"
            ]
          },
          "metadata": {},
          "execution_count": 191
        }
      ]
    },
    {
      "cell_type": "code",
      "metadata": {
        "colab": {
          "base_uri": "https://localhost:8080/"
        },
        "id": "4MwBkf5nlajE",
        "outputId": "3addba4d-5130-4fe9-ecd3-1fc122a69943"
      },
      "source": [
        "gridworld = tuple_2d_array_2_np_array(ras_test.grid)[0].astype(str)\n",
        "gridworld[ras_test.original_goal[0]][[ras_test.original_goal[1]]] = \"$\"\n",
        "gridworld[ras_test.last_start[0]][[ras_test.last_start[1]]] = \"S\"\n",
        "gridworld[ras_test.last_goal[0]][[ras_test.last_goal[1]]] = \"G\"\n",
        "\n",
        "pretty_print(gridworld)"
      ],
      "execution_count": null,
      "outputs": [
        {
          "output_type": "stream",
          "name": "stdout",
          "text": [
            "0   0   0   0   0   1   0   0   1   0   0   1   1   0   1   \n",
            "0   0   $   0   0   0   1   0   0   0   0   0   0   1   1   \n",
            "1   0   0   0   0   1   1   0   0   0   0   0   0   1   0   \n",
            "0   0   0   1   0   1   0   1   0   1   1   0   1   0   0   \n",
            "0   0   1   1   1   0   0   0   0   0   1   0   0   0   0   \n",
            "0   0   0   0   1   0   0   0   0   0   1   0   0   1   0   \n",
            "S   0   1   0   0   1   0   0   0   1   0   0   0   0   0   \n",
            "G   0   0   0   1   0   1   0   0   0   0   0   0   0   0   \n",
            "0   0   1   0   0   0   0   0   0   0   0   0   0   1   0   \n",
            "0   0   0   0   0   0   0   0   1   1   0   0   0   0   0   \n",
            "0   0   0   0   0   1   0   1   0   0   0   0   0   1   1   \n",
            "0   1   0   0   1   0   0   0   0   0   0   0   0   1   0   \n",
            "0   1   0   0   1   0   0   1   1   0   0   0   0   0   0   \n",
            "0   0   1   0   0   0   0   1   1   0   1   1   0   0   1   \n",
            "0   0   0   1   0   0   0   0   0   0   0   1   0   0   0   \n"
          ]
        }
      ]
    },
    {
      "cell_type": "code",
      "metadata": {
        "colab": {
          "base_uri": "https://localhost:8080/"
        },
        "id": "DkrBk-N-rsTm",
        "outputId": "ac267027-bb6b-4c64-aeff-c36857a19d6d"
      },
      "source": [
        "pretty_print(tuple_2d_array_2_np_array(ras_test.grid)[0].astype(str))"
      ],
      "execution_count": null,
      "outputs": [
        {
          "output_type": "stream",
          "name": "stdout",
          "text": [
            "0   0   0   0   0   1   0   0   1   0   0   1   1   0   1   \n",
            "0   0   0   0   0   0   1   0   0   0   0   0   0   1   1   \n",
            "1   0   0   0   0   1   1   0   0   0   0   0   0   1   0   \n",
            "0   0   0   1   0   1   0   1   0   1   1   0   1   0   0   \n",
            "0   0   1   1   1   0   0   0   0   0   1   0   0   0   0   \n",
            "0   0   0   0   1   0   0   0   0   0   1   0   0   1   0   \n",
            "0   0   1   0   0   1   0   0   0   1   0   0   0   0   0   \n",
            "1   0   0   0   1   0   1   0   0   0   0   0   0   0   0   \n",
            "0   0   1   0   0   0   0   0   0   0   0   0   0   1   0   \n",
            "0   0   0   0   0   0   0   0   1   1   0   0   0   0   0   \n",
            "0   0   0   0   0   1   0   1   0   0   0   0   0   1   1   \n",
            "0   1   0   0   1   0   0   0   0   0   0   0   0   1   0   \n",
            "0   1   0   0   1   0   0   1   1   0   0   0   0   0   0   \n",
            "0   0   1   0   0   0   0   1   1   0   1   1   0   0   1   \n",
            "0   0   0   1   0   0   0   0   0   0   0   1   0   0   0   \n"
          ]
        }
      ]
    },
    {
      "cell_type": "code",
      "metadata": {
        "colab": {
          "base_uri": "https://localhost:8080/"
        },
        "id": "u4ixF2XBolFF",
        "outputId": "5bc70237-775c-4938-f783-05a0952da5da"
      },
      "source": [
        "pretty_print(tuple_2d_array_2_np_array(ras_test.knowledge_snaps[-1])[0])"
      ],
      "execution_count": null,
      "outputs": [
        {
          "output_type": "stream",
          "name": "stdout",
          "text": [
            "   0   0   0   0   0   0   0   0   0   0   0   0   0   0   0\n",
            "   0   0   0   0   0   0   0   0   0   0   0   0   0   0   0\n",
            "   1   0   0   0   0   0   0   0   0   0   0   0   0   0   0\n",
            "   0   0   0   0   0   0   0   0   0   0   0   0   0   0   0\n",
            "   0   0   1   0   0   0   0   0   0   0   0   0   0   0   0\n",
            "   0   0   0   0   0   0   0   0   0   0   0   0   0   0   0\n",
            "   0   0   1   0   0   0   0   0   0   0   0   0   0   0   0\n",
            "   1   0   0   0   0   0   0   0   0   0   0   0   0   0   0\n",
            "   0   0   0   0   0   0   0   0   0   0   0   0   0   0   0\n",
            "   0   0   0   0   0   0   0   0   0   0   0   0   0   0   0\n",
            "   0   0   0   0   0   0   0   0   0   0   0   0   0   0   0\n",
            "   0   0   0   0   0   0   0   0   0   0   0   0   0   0   0\n",
            "   0   0   0   0   0   0   0   0   0   0   0   0   0   0   0\n",
            "   0   0   0   0   0   0   0   0   0   0   0   0   0   0   0\n",
            "   0   0   0   0   0   0   0   0   0   0   0   0   0   0   0\n"
          ]
        }
      ]
    }
  ]
}