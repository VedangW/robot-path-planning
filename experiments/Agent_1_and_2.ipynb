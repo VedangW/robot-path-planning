{
  "nbformat": 4,
  "nbformat_minor": 0,
  "metadata": {
    "colab": {
      "name": "Algorithm Assignment 1 - CS 520.ipynb",
      "provenance": [],
      "collapsed_sections": []
    },
    "kernelspec": {
      "name": "python3",
      "display_name": "Python 3"
    },
    "language_info": {
      "name": "python"
    }
  },
  "cells": [
    {
      "cell_type": "code",
      "metadata": {
        "id": "8ZnqcTHaiXFg"
      },
      "source": [
        "# Utils\n",
        "import time\n",
        "from tqdm import tqdm\n",
        "\n",
        "# Data Structures\n",
        "import heapq\n",
        "\n",
        "# Data Manipulation and computations\n",
        "import numpy as np\n",
        "import pandas as pd\n",
        "import scipy.spatial.distance as dist\n",
        "\n",
        "# Visualization\n",
        "import matplotlib.pyplot as plt\n",
        "%matplotlib inline\n",
        "import seaborn as sns"
      ],
      "execution_count": null,
      "outputs": []
    },
    {
      "cell_type": "code",
      "metadata": {
        "id": "As2fde5Q__K5"
      },
      "source": [
        "class Node:\n",
        "  \n",
        "  def __init__(self, parent=None, position=None, recency_factor=None):\n",
        "    \"\"\" \n",
        "    Represents a Node in the A* search tree. \n",
        "    \n",
        "    Parameters\n",
        "    ----------\n",
        "    parent: Node\n",
        "      Node for the neighbouring cell from which this node was discovered\n",
        "    position: (int, int)\n",
        "      Coordinates of the cell.\n",
        "    recency_factor: int\n",
        "      Represents how recently this node was created. Used for breaking ties in\n",
        "      the priority queue.\n",
        "    \"\"\"\n",
        "\n",
        "    self.parent = parent\n",
        "    self.position = position\n",
        "    self.recency_factor = recency_factor\n",
        "\n",
        "    self.g = 0\n",
        "    self.h = 0\n",
        "    self.f = 0\n",
        "  \n",
        "  def __eq__(self, other):\n",
        "    \"\"\" \n",
        "    For Node comparison. \n",
        "    \n",
        "    Parameters\n",
        "    ----------\n",
        "    other: Node\n",
        "      The object with which this instance needs to be compared.\n",
        "    \"\"\"\n",
        "\n",
        "    # In case 'other' is not a Node\n",
        "    if type(self) != type(other):\n",
        "      return False\n",
        "\n",
        "    return self.position == other.position\n",
        "  \n",
        "  def __lt__(self, other):\n",
        "    \"\"\" \n",
        "    For heap comparison. \n",
        "    \n",
        "    Parameters\n",
        "    ----------\n",
        "    other: Node\n",
        "      The object with which this instance needs to be compared.\n",
        "    \"\"\"\n",
        "\n",
        "    if self.f < other.f:  # If priority is less\n",
        "      return True\n",
        "    elif self.f == other.f:  # If tie, check recency\n",
        "      if self.recency_factor > other.recency_factor:\n",
        "        return True\n",
        "    \n",
        "    return False\n",
        "\n",
        "\n",
        "  def __gt__(self, other):\n",
        "    \"\"\"\n",
        "    For heap comparison. \n",
        "    \n",
        "    Parameters\n",
        "    ----------\n",
        "    other: Node\n",
        "      The object with which this instance needs to be compared.\n",
        "    \"\"\"\n",
        "\n",
        "    if self.f > other.f:  # If priority is more\n",
        "      return True\n",
        "    elif self.f == other.f:  # If tie, check recency\n",
        "      if self.recency_factor < other.recency_factor:\n",
        "        return True\n",
        "    \n",
        "    return False\n",
        "\n",
        "\n",
        "\n",
        "def is_unvisited_and_unblocked(coords, state):\n",
        "  \"\"\"\n",
        "  Checks if a cell is not blocked and not yet visited.\n",
        "  \n",
        "  Parameters\n",
        "  ----------\n",
        "  coords: (int, int)\n",
        "    Coordinates of the cell to check\n",
        "  state: (2D np.array, 2D np.array, 2D np.array)\n",
        "    The elements are passed in the following order:\n",
        "      `knowledge` - Represents the knowledge of the agent. knowledge[x][y] = 1 if\n",
        "        the agent knows there exists a block at position (x, y) and is 0 otherwise.\n",
        "      `visited` - Represents which nodes the agent has already expanded. visited[x][y] = 1 if\n",
        "        the agent has already expanded Node at (x, y) and 0 otherwise.\n",
        "      `in_fringe` - Represents if the node is in the fringe already. in_fringe[x][y] = 1\n",
        "        if Node at (x, y) is already in the fringe and 0 otherwise.\n",
        "\n",
        "  Returns\n",
        "  -------\n",
        "  True if not blocked and not visited else False\n",
        "  \"\"\"\n",
        "\n",
        "  # Get coordinates\n",
        "  x, y = coords\n",
        "  knowledge, visited, _ = state\n",
        "\n",
        "  # Return false if cell is blocked or already visited\n",
        "  if knowledge[x][y] != 0 or visited[x][y] != 0:\n",
        "    return False\n",
        "\n",
        "  return True\n",
        "\n",
        "def neighbourhood(coords, num_rows, num_cols, nbhd_type=\"compass\", parent_coords=None):\n",
        "  \"\"\"\n",
        "  Returns the possible neighbours of a cell. Doesn't check for visited or blocked nodes.\n",
        "  Assumes the grid is between `(0, 0)` to `(num_rows-1, num_cols-1)`. \n",
        "\n",
        "  Parameters\n",
        "  ----------\n",
        "  coords: (int, int)\n",
        "    Coordinates of the cell\n",
        "  num_rows: int\n",
        "    No. of rows in the grid.\n",
        "  num_cols: int\n",
        "    No. of columns in the grid.\n",
        "  nbhd_type: str\n",
        "    `compass` - the agent can see in all 4 directions (up, down, left, right)\n",
        "    `directional` - the agent can only see in the direction in which it is moving\n",
        "  parent_coords: (int, int)\n",
        "    Coordinates of the parent cell, required if `nbhd_type` is `directional`.\n",
        "\n",
        "  Returns\n",
        "  -------\n",
        "  possible_cells: List[(int, int)]\n",
        "    List of coordinates for the possible neighbours\n",
        "  \"\"\"\n",
        "\n",
        "  if nbhd_type == \"compass\":\n",
        "\n",
        "    # Get possible cells\n",
        "    x, y = coords\n",
        "    possible_cells = [(x+1, y), (x, y+1), (x-1, y), (x, y-1)]\n",
        "\n",
        "    # Remove cells outside boundaries\n",
        "    possible_cells = [cell for cell in possible_cells if cell[0] >= 0 and cell[1] >= 0 and cell[0] <= num_rows-1 and cell[1] <= num_cols-1]\n",
        "\n",
        "    return possible_cells\n",
        "  \n",
        "  elif nbhd_type == \"directional\":\n",
        "\n",
        "    if parent_coords is None:\n",
        "      raise ValueError(\"Parent coords cannot be none if nbhd_type == 'directional'.\")\n",
        "\n",
        "    # Find the possible neighbouring node in the field of view\n",
        "    cell = tuple(np.array(coords) + (np.array(coords) - np.array(parent_coords)))\n",
        "\n",
        "    # Check if the node is valid\n",
        "    possible_cells = [cell] if cell[0] >= 0 and cell[1] >= 0 and cell[0] <= num_rows-1 and cell[1] <= num_cols-1 else []\n",
        "\n",
        "    return possible_cells\n",
        "  \n",
        "  raise ValueError(\"nbhd type can only be from ['compass', 'directional'], not\", nbhd_type)\n",
        "\n",
        "def get_valid_children(coords, parent, num_rows, num_cols, state):\n",
        "  \"\"\"\n",
        "  Gets valid children for a cell, based on position, known blockages and visited\n",
        "  neighbours.\n",
        "\n",
        "  Parameters\n",
        "  ----------\n",
        "  coords: (int, int)\n",
        "    Coordinates of the cell\n",
        "  parent: Node\n",
        "    Parent of the cell for which the neighbours need to be created\n",
        "  num_rows: int\n",
        "    No. of rows in the grid.\n",
        "  num_cols: int\n",
        "    No. of columns in the grid.\n",
        "  state: (2D np.array, 2D np.array, 2D np.array)\n",
        "    The elements are passed in the following order:\n",
        "      `knowledge` - Represents the knowledge of the agent. knowledge[x][y] = 1 if\n",
        "        the agent knows there exists a block at position (x, y) and is 0 otherwise.\n",
        "      `visited` - Represents which nodes the agent has already expanded. visited[x][y] = 1 if\n",
        "        the agent has already expanded Node at (x, y) and 0 otherwise.\n",
        "      `in_fringe` - Represents if the node is in the fringe already. in_fringe[x][y] = 1\n",
        "        if Node at (x, y) is already in the fringe and 0 otherwise.\n",
        "\n",
        "  Returns\n",
        "  -------\n",
        "  valid_children: List[(int, int)]\n",
        "    List of the possible coordinates of the children.\n",
        "  \"\"\"\n",
        "\n",
        "  # Get all possible children\n",
        "  nbhd = neighbourhood(coords, num_rows, num_cols)\n",
        "\n",
        "  # Don't add the parent to the list of valid children\n",
        "  if parent is not None:\n",
        "    nbhd = [x for x in nbhd if x != parent.position]\n",
        "\n",
        "  # Remove known blocked and visited cells\n",
        "  valid_children = [cell for cell in nbhd if is_unvisited_and_unblocked(cell, state)]\n",
        "\n",
        "  return valid_children"
      ],
      "execution_count": null,
      "outputs": []
    },
    {
      "cell_type": "code",
      "metadata": {
        "id": "09iMnJ-VEWND"
      },
      "source": [
        "def generate_gridworld(shape, block_prob):\n",
        "  \"\"\"\n",
        "  Parameters\n",
        "  ----------\n",
        "  shape: (int, int)\n",
        "    Number of rows and columns in the required gridworld\n",
        "  block_prob: float\n",
        "    Each cell is blocked with a probability p = block_prob\n",
        "\n",
        "  Returns\n",
        "  -------\n",
        "  grid_world: 2D np.array\n",
        "    Grid with each cell blocked with a probability `block_prob`.\n",
        "  \"\"\"\n",
        "\n",
        "  num_rows, num_cols = shape\n",
        "\n",
        "  # Randomly sample a 2D array with each cell being either 1 or 0 with prob as block_prob\n",
        "  grid_world = np.random.choice([1, 0], (num_rows, num_cols), p=[block_prob, 1-block_prob])\n",
        "\n",
        "  # Exclude start and end cells\n",
        "  grid_world[0][0] = 0\n",
        "  grid_world[num_rows-1][num_cols-1] = 0\n",
        "\n",
        "  return grid_world"
      ],
      "execution_count": null,
      "outputs": []
    },
    {
      "cell_type": "code",
      "metadata": {
        "id": "Fj79g7OXFdLE"
      },
      "source": [
        "def grid_path(current_node):\n",
        "    \"\"\" \n",
        "    Recursively finds the path from the leaf to the root node in the A* search tree. \n",
        "    \n",
        "    Parameters\n",
        "    ----------\n",
        "    current_node: Node\n",
        "      Node in the A* search tree.\n",
        "\n",
        "    Returns\n",
        "    -------\n",
        "    planned_path: List[(int, int)]\n",
        "      Path from the root node to this leaf node\n",
        "    \"\"\"\n",
        "\n",
        "    path = []\n",
        "\n",
        "    # Recursively travel up to the root\n",
        "    current = current_node\n",
        "\n",
        "    while current != None:\n",
        "      path.append(current.position)\n",
        "      current = current.parent\n",
        "\n",
        "    # Reverse and return\n",
        "    return path[::-1]\n",
        "  \n",
        "def heuristic(name, start, end):\n",
        "    \"\"\" \n",
        "    Returns the heuristic (distance) between the start and end cells. \n",
        "\n",
        "    Parameters\n",
        "    ----------\n",
        "    name: str\n",
        "      Can be `'euclidean'`, `'manhattan'`, or `'chebyshev'`.\n",
        "    start: (int, int)\n",
        "      Coordinates of the start cell\n",
        "    end: (int, int)\n",
        "      Coordinates of the end cell\n",
        "\n",
        "    Returns\n",
        "    -------\n",
        "    distance: float or int\n",
        "      Distance based on which heuristic is being used.\n",
        "    \"\"\"\n",
        "\n",
        "    if name == \"euclidean\":\n",
        "      return dist.euclidean(start, end)\n",
        "    elif name == \"manhattan\":\n",
        "      return dist.cityblock(start, end)\n",
        "    elif name == \"chebyshev\":\n",
        "      return dist.chebyshev(start, end)\n",
        "\n",
        "    # If heuristic is unknown, raise error\n",
        "    raise NotImplementedError(\"Unknown heuristic:\", name)\n",
        "\n",
        "\n",
        "def a_star_search(start, goal, grid, heuristic_type, \n",
        "                  visited, knowledge, max_steps=None, \n",
        "                  epsilon=1.):\n",
        "  \"\"\" \n",
        "  Executes A* search on a grid.\n",
        "\n",
        "  Parameters\n",
        "  ----------\n",
        "  start: (int, int)\n",
        "    Coordinates of the start cell.\n",
        "  goal: (int, int)\n",
        "    Coordinates of the goal cell.\n",
        "  grid: 2D np.array\n",
        "    Represents the original grid on which A* needs to be executed\n",
        "  heuristic_type: str\n",
        "    Type of heuristic to use. Can be `'euclidean'`, `'manhattan'`, or `'chebyshev'`\n",
        "  visited: 2D np.array\n",
        "    Represents which nodes the agent has already expanded. visited[x][y] = 1 if\n",
        "    the agent has already expanded Node at (x, y) and 0 otherwise.\n",
        "  knowledge: 2D np.array\n",
        "    Represents the knowledge of the agent. knowledge[x][y] = 1 if\n",
        "    the agent knows there exists a block at position (x, y) and is 0 otherwise.\n",
        "  max_steps: int or None\n",
        "    Max. number of times we pop a Node from the Fringe\n",
        "  epsilon: float\n",
        "    Weight given to the heuristic function while calculating the priority f. Used as:\n",
        "    f(n) = g(n) + epsilon*h(n)\n",
        "\n",
        "  Returns\n",
        "  -------\n",
        "  planned_path: List[(int, int)]\n",
        "    List of cells to traverse from the start node to end node\n",
        "  exit_status: str\n",
        "    `\"SUCCESS\"` - If A* was successfully completed\n",
        "    `\"FAILED_NOPATH\"` - If no path can be found from the start to the goal cells\n",
        "    `\"FAILED_STEPS\"` - Max. number of steps was reached and path not found\n",
        "  num_cells_popped: int\n",
        "    Total number of nodes popped from the fringe throughout the search process.\n",
        "  \n",
        "  TODO\n",
        "  ----\n",
        "  - num_cells_popped == steps? Remove num_cells_popped and use steps instead\n",
        "  - Remove the `grid` parameter since this is not required\n",
        "  - Implement a separate `Fringe` class\n",
        "  \"\"\"\n",
        "\n",
        "  start_node = Node(position=start)\n",
        "  goal_node = Node(position=goal)\n",
        "\n",
        "  # Implementing priority queue using heap\n",
        "  fringe = []\n",
        "  in_fringe = np.zeros(grid.shape)\n",
        "  heapq.heapify(fringe)\n",
        "\n",
        "  # Initialize tracking parameters\n",
        "  recency_counter = 0\n",
        "  num_cells_popped = 0\n",
        "\n",
        "  # Add start node to the fringe\n",
        "  start_node.recency_factor = recency_counter\n",
        "  heapq.heappush(fringe, start_node)\n",
        "  in_fringe[start[0]][start[1]] = 1\n",
        "  recency_counter += 1\n",
        "  \n",
        "  # Stopping condition\n",
        "  if max_steps is None:\n",
        "    max_steps = grid.shape[0]**2 * grid.shape[1]**2\n",
        "\n",
        "  steps = 0\n",
        "  exit_status = \"FAILED_NOPATH\"\n",
        "\n",
        "  # Start\n",
        "  while fringe:\n",
        "    \n",
        "    steps += 1\n",
        "\n",
        "    # Pop the current node from the fringe\n",
        "    current_node = heapq.heappop(fringe)\n",
        "    num_cells_popped += 1\n",
        "    curr_x, curr_y = current_node.position\n",
        "\n",
        "    # Visit the current node and note that it is out of the fringe\n",
        "    visited[curr_x][curr_y] = 1\n",
        "    in_fringe[curr_x][curr_y] = 0\n",
        "\n",
        "    # Check and return path if we have reached the goal node\n",
        "    if current_node == goal_node:\n",
        "      exit_status = \"SUCCESS\"\n",
        "      return grid_path(current_node), exit_status, num_cells_popped\n",
        "\n",
        "    # Stopping condition\n",
        "    if steps > max_steps:\n",
        "      exit_status = \"FAILED_STEPS\"\n",
        "      return grid_path(current_node), exit_status, num_cells_popped\n",
        "\n",
        "    # Create children\n",
        "    children = get_valid_children(current_node.position, current_node.parent, grid.shape[0], grid.shape[1], (knowledge, visited, in_fringe))\n",
        "    children = [Node(current_node, x) for x in children]\n",
        "\n",
        "    # Set parameters for each child\n",
        "    for i in range(len(children)):\n",
        "      children[i].g = current_node.g + 1\n",
        "      children[i].h = heuristic(heuristic_type, children[i].position, goal)\n",
        "      children[i].f = children[i].g + epsilon*children[i].h\n",
        "      children[i].recency_factor = recency_counter\n",
        "\n",
        "      heapq.heappush(fringe, children[i])\n",
        "      in_fringe[children[i].position[0]][children[i].position[1]] = 1\n",
        "\n",
        "      recency_counter += 1\n",
        "\n",
        "  return [], exit_status, num_cells_popped"
      ],
      "execution_count": null,
      "outputs": []
    },
    {
      "cell_type": "code",
      "metadata": {
        "id": "ASHDzF2blpKm"
      },
      "source": [
        "def visualize_grid(sol, grid):\n",
        "  \"\"\"\n",
        "  Visualize grid with the solution on top of it, marked by `*`.\n",
        "\n",
        "  Parameters\n",
        "  ----------\n",
        "  sol: List[(int, int)]\n",
        "    List of cells in the path from the start to end node\n",
        "  grid: 2D np.array\n",
        "    Grid on which to superimpose the solution\n",
        "\n",
        "  Returns\n",
        "  -------\n",
        "  vis_grid: 2D np.array\n",
        "    The grid to visualize. Use with `pretty_print`.\n",
        "  \"\"\"\n",
        "\n",
        "  # Create copy of the original grid\n",
        "  vis_grid = grid.copy().astype(str)\n",
        "\n",
        "  # Mark path on grid\n",
        "  for cell in sol:\n",
        "    vis_grid[cell[0]][cell[1]] = \"*\"\n",
        "\n",
        "  return vis_grid\n",
        "\n",
        "def pretty_print(A):\n",
        "  \"\"\"\n",
        "  Prints a 2D np.array with good visual clarity\n",
        "  \n",
        "  Parameters\n",
        "  ----------\n",
        "  A: 2D np.array\n",
        "    The grid to visualize\n",
        "  \"\"\"\n",
        "  print('\\n'.join([''.join(['{:4}'.format(item) for item in row]) for row in A]))"
      ],
      "execution_count": null,
      "outputs": []
    },
    {
      "cell_type": "code",
      "metadata": {
        "id": "R3XJckbeuRvT"
      },
      "source": [
        "def test_a_star_search_custom():\n",
        "  grid = [[0, 1, 0, 1, 0, 0, 1, 0, 0, 0],\n",
        "          [0, 1, 0, 1, 1, 0, 1, 0, 0, 0],\n",
        "          [0, 1, 1, 1, 0, 0, 0, 0, 1, 0],\n",
        "          [0, 1, 0, 0, 0, 1, 0, 1, 1, 0],\n",
        "          [0, 1, 0, 1, 1, 0, 1, 1, 0, 0],\n",
        "          [0, 1, 0, 1, 0, 0, 1, 0, 0, 1],\n",
        "          [0, 1, 0, 1, 0, 0, 0, 0, 0, 0],\n",
        "          [0, 1, 0, 1, 1, 0, 1, 0, 0, 1],\n",
        "          [0, 0, 0, 1, 1, 0, 1, 0, 0, 0],\n",
        "          [1, 1, 0, 1, 0, 0, 0, 0, 1, 0]]\n",
        "\n",
        "  grid = np.array(grid)\n",
        "\n",
        "  visited = np.zeros(grid.shape)\n",
        "  blocked = grid.copy()\n",
        "\n",
        "  sol = a_star_search((0, 0), (grid.shape[0]-1, grid.shape[1]-1), grid, \"euclidean\", visited, blocked)\n",
        "\n",
        "  pretty_print(grid)\n",
        "  print(\"\\n\")\n",
        "  pretty_print(visualize_grid(sol, grid))"
      ],
      "execution_count": null,
      "outputs": []
    },
    {
      "cell_type": "code",
      "metadata": {
        "id": "YNFR9ZiF7eZx"
      },
      "source": [
        "grid = np.array([[0, 0, 0, 0, 0, 0, 1, 0, 1, 0, 0, 1, 0, 1, 0],\n",
        "              [1, 1, 1, 0, 0, 1, 0, 0, 1, 1, 0, 0, 0, 0, 0],\n",
        "              [0, 1, 0, 0, 0, 1, 1, 1, 0, 1, 0, 0, 0, 0, 0],\n",
        "              [1, 0, 0, 1, 1, 1, 0, 0, 0, 0, 0, 0, 0, 1, 0],\n",
        "              [0, 0, 0, 0, 0, 0, 0, 0, 0, 0, 1, 1, 0, 0, 1],\n",
        "              [0, 0, 0, 0, 0, 0, 1, 0, 0, 0, 0, 0, 0, 0, 0],\n",
        "              [1, 0, 0, 0, 0, 0, 1, 0, 0, 1, 0, 0, 1, 1, 0],\n",
        "              [0, 0, 1, 1, 1, 0, 0, 0, 1, 1, 1, 0, 0, 0, 0],\n",
        "              [0, 0, 1, 1, 0, 1, 0, 1, 0, 0, 0, 0, 1, 0, 0],\n",
        "              [0, 0, 0, 0, 0, 0, 0, 1, 0, 0, 0, 0, 1, 0, 0],\n",
        "              [0, 0, 0, 1, 1, 0, 0, 0, 0, 1, 0, 0, 0, 1, 0],\n",
        "              [0, 1, 0, 0, 1, 0, 0, 0, 0, 1, 0, 0, 0, 0, 0],\n",
        "              [1, 0, 0, 0, 0, 0, 1, 0, 0, 0, 1, 1, 0, 1, 0],\n",
        "              [1, 0, 0, 0, 1, 0, 0, 1, 0, 0, 0, 1, 1, 0, 0],\n",
        "              [1, 1, 0, 0, 0, 0, 1, 0, 0, 0, 0, 0, 1, 0, 1]])\n",
        "\n",
        "\n",
        "\n",
        "knowledge = np.array([[0, 0, 0, 0, 0, 0, 1, 0, 1, 0, 0, 1, 0, 0, 0],\n",
        "                    [0, 0, 1, 0, 0, 1, 0, 0, 1, 1, 0, 0, 0, 0, 0],\n",
        "                    [0, 1, 0, 0, 0, 1, 1, 1, 0, 1, 0, 0, 0, 0, 0],\n",
        "                    [1, 0, 0, 1, 1, 1, 0, 0, 0, 0, 0, 0, 0, 0, 0],\n",
        "                    [0, 0, 0, 0, 0, 0, 0, 0, 0, 0, 0, 0, 0, 0, 0],\n",
        "                    [0, 0, 0, 0, 0, 0, 1, 0, 0, 0, 0, 0, 0, 0, 0],\n",
        "                    [0, 0, 0, 0, 0, 0, 0, 0, 0, 0, 0, 0, 0, 0, 0],\n",
        "                    [0, 0, 0, 0, 0, 0, 0, 0, 0, 0, 0, 0, 0, 0, 0],\n",
        "                    [0, 0, 0, 0, 0, 0, 0, 0, 0, 0, 0, 0, 0, 0, 0],\n",
        "                    [0, 0, 0, 0, 0, 0, 0, 0, 0, 0, 0, 0, 0, 0, 0],\n",
        "                    [0, 0, 0, 0, 0, 0, 0, 0, 0, 0, 0, 0, 0, 0, 0],\n",
        "                    [0, 0, 0, 0, 0, 0, 0, 0, 0, 0, 0, 0, 0, 0, 0],\n",
        "                    [0, 0, 0, 0, 0, 0, 0, 0, 0, 0, 0, 0, 0, 0, 0],\n",
        "                    [0, 0, 0, 0, 0, 0, 0, 0, 0, 0, 0, 0, 0, 0, 0],\n",
        "                    [0, 0, 0, 0, 0, 0, 0, 0, 0, 0, 0, 0, 0, 0, 0]])"
      ],
      "execution_count": null,
      "outputs": []
    },
    {
      "cell_type": "code",
      "metadata": {
        "colab": {
          "base_uri": "https://localhost:8080/"
        },
        "id": "C1lOiqQg7cqS",
        "outputId": "739b1a41-0bd8-4fbb-bc2f-bdc711f20730"
      },
      "source": [
        "a_star_search((0, 9), (0, 7), grid, \"manhattan\", np.zeros(grid.shape), knowledge)"
      ],
      "execution_count": null,
      "outputs": [
        {
          "output_type": "execute_result",
          "data": {
            "text/plain": [
              "([(0, 9),\n",
              "  (0, 10),\n",
              "  (1, 10),\n",
              "  (2, 10),\n",
              "  (3, 10),\n",
              "  (3, 9),\n",
              "  (3, 8),\n",
              "  (3, 7),\n",
              "  (4, 7),\n",
              "  (5, 7),\n",
              "  (6, 7),\n",
              "  (7, 7),\n",
              "  (8, 7),\n",
              "  (8, 6),\n",
              "  (9, 6),\n",
              "  (10, 6),\n",
              "  (10, 5),\n",
              "  (11, 5),\n",
              "  (11, 4),\n",
              "  (11, 3),\n",
              "  (11, 2),\n",
              "  (11, 1),\n",
              "  (11, 0),\n",
              "  (12, 0)],\n",
              " 'FAILED_STEPS',\n",
              " 50626)"
            ]
          },
          "metadata": {},
          "execution_count": 13
        }
      ]
    },
    {
      "cell_type": "code",
      "metadata": {
        "id": "6fSEa2UP2O38"
      },
      "source": [
        "def is_open_cell(cell, knowledge):\n",
        "  \"\"\"\n",
        "  Checks if a cell is open, i.e., has 3 or more unblocked neighbours.\n",
        "\n",
        "  Parameters\n",
        "  ----------\n",
        "  cell: (int, int)\n",
        "    Coordinates of the cell for which to check\n",
        "  knowledge: 2D np.array\n",
        "    Represents the knowledge of the agent. knowledge[x][y] = 1 if\n",
        "    the agent knows there exists a block at position (x, y) and is 0 otherwise.\n",
        "  \"\"\"\n",
        "\n",
        "  # Get neighbourhood of the cell\n",
        "  nbhd = neighbourhood(cell, knowledge.shape[0], knowledge.shape[1])\n",
        "\n",
        "  # Retain only the unblocked ones\n",
        "  unblocked = [nbr for nbr in nbhd if knowledge[nbr[0]][nbr[1]] != 1]\n",
        "\n",
        "  # Check length of unblocked cells\n",
        "  if len(unblocked) >= 3:\n",
        "    return True\n",
        "\n",
        "  return False"
      ],
      "execution_count": null,
      "outputs": []
    },
    {
      "cell_type": "code",
      "metadata": {
        "colab": {
          "base_uri": "https://localhost:8080/"
        },
        "id": "E_IMM-513NM0",
        "outputId": "5b076ab7-27b1-4a5e-96c5-abcc14d40cc1"
      },
      "source": [
        "grid = [[0, 0, 0, 1, 0, 0, 1, 0, 0, 0],\n",
        "        [0, 1, 0, 1, 1, 0, 1, 0, 0, 0],\n",
        "        [0, 1, 1, 1, 0, 0, 0, 0, 1, 0],\n",
        "        [0, 1, 0, 0, 0, 1, 0, 1, 1, 0],\n",
        "        [0, 1, 0, 1, 1, 0, 1, 1, 0, 0],\n",
        "        [0, 1, 0, 1, 0, 0, 1, 0, 0, 1],\n",
        "        [0, 1, 0, 1, 0, 0, 0, 0, 0, 0],\n",
        "        [0, 1, 0, 1, 1, 0, 1, 0, 0, 1],\n",
        "        [0, 0, 0, 1, 1, 0, 1, 0, 0, 0],\n",
        "        [1, 1, 0, 1, 0, 0, 0, 0, 1, 0]]\n",
        "\n",
        "grid = np.array(grid)\n",
        "\n",
        "is_open_cell((0, 1), grid)"
      ],
      "execution_count": null,
      "outputs": [
        {
          "output_type": "execute_result",
          "data": {
            "text/plain": [
              "False"
            ]
          },
          "metadata": {},
          "execution_count": 8
        }
      ]
    },
    {
      "cell_type": "code",
      "metadata": {
        "id": "xqkQfLXKuMrl"
      },
      "source": [
        "def move_and_record(start, goal, grid, planned_path, knowledge, nbhd_type=\"compass\"):\n",
        "  \"\"\"\n",
        "  Moves the robot along the path and records the environment as it travels.\n",
        "  If a block is encountered, returns the last unblocked location.\n",
        "\n",
        "  Parameters\n",
        "  ----------\n",
        "  start: (int, int)\n",
        "    The start coordinates in the grid. Between (0, 0) and \n",
        "    (grid.shape[0]-1, grid.shape[1]-1).\n",
        "  goal: (int, int) \n",
        "    The goal coordinates in the grid. Limits are similar to start.\n",
        "  planned_path: List[(int, int)]\n",
        "    List of coordinates (including start and end) to visit.\n",
        "  knowledge: 2D np.array\n",
        "    Represents the knowledge of the agent. knowledge[x][y] = 1 if\n",
        "    the agent knows there exists a block at position (x, y) and is 0 otherwise.\n",
        "  nbhd_type: str\n",
        "    `'compass'` if the agent can see in all 4 directions while moving and\n",
        "    `'directional'` if the agent can see only in the direction it is moving in\n",
        "  \n",
        "  Returns\n",
        "  -------\n",
        "  final_node: (int, int)\n",
        "    The last unblocked node visited or the goal node.\n",
        "  knowledge: 2D np.array\n",
        "    Updated knowledge array.\n",
        "  steps: int\n",
        "    Number of steps taken along the path.\n",
        "  last_open_cell: (int, int)\n",
        "    The last cell seen with no. of unblocked neighbours >= 3\n",
        "  \"\"\"\n",
        "\n",
        "  if not planned_path:  # Planned path is empty\n",
        "    raise ValueError(\"Planned path cannot be empty.\")\n",
        "\n",
        "  if planned_path[0] != start:  # Planned path and start don't coincide\n",
        "    raise ValueError(\"Planned path doesn't start with 'start'! planned_path[0] =\", \n",
        "                     planned_path[0], \"start =\", start)\n",
        "\n",
        "  steps = 0\n",
        "  last_open_cell = None\n",
        "\n",
        "  # Start moving\n",
        "  for i in range(len(planned_path)):\n",
        "    cell = planned_path[i]\n",
        "\n",
        "    # If cell is blocked, return the last known location\n",
        "    if grid[cell[0]][cell[1]] == 1:\n",
        "      knowledge[cell[0]][cell[1]] = 1\n",
        "      return planned_path[i-1], knowledge, steps, last_open_cell\n",
        "\n",
        "    # Find all neighbouring cells and update knowledge\n",
        "    parent_coords = planned_path[i-1] if i-1 > 0 else tuple(np.array(cell) - (np.array(planned_path[i+1]) - np.array(cell)))\n",
        "    nbhd = neighbourhood(cell, grid.shape[0], grid.shape[1], nbhd_type=nbhd_type, parent_coords=parent_coords)\n",
        "\n",
        "    # 'See' the whole neighbourhood\n",
        "    for nbr in nbhd:\n",
        "      knowledge[nbr[0]][nbr[1]] = grid[nbr[0]][nbr[1]]\n",
        "\n",
        "    # If this cell is open, update last_open_cell\n",
        "    if is_open_cell(cell, knowledge):\n",
        "      last_open_cell = cell\n",
        "\n",
        "    steps += 1\n",
        "\n",
        "  return planned_path[i], knowledge, steps, last_open_cell"
      ],
      "execution_count": null,
      "outputs": []
    },
    {
      "cell_type": "code",
      "metadata": {
        "id": "_vfSr4cTzNOg"
      },
      "source": [
        "class RepeatedAStar:\n",
        "\n",
        "  def __init__(self, grid, move_nbhd_type=\"compass\", epsilon=1., \n",
        "               escape_tunnels=False):\n",
        "    \"\"\" \n",
        "    Implements the Repeated A* algorithm on a grid-world. \n",
        "    \n",
        "    Parameters\n",
        "    ----------\n",
        "    grid: 2D np.array\n",
        "      The grid world on which we need to implement the algorithm\n",
        "    move_nbhd_type: str\n",
        "      Can be 'compass' (see in all 4 directions in the execution phase) \n",
        "      or 'directional' (see in only the direction of the movement \n",
        "      in the execution phase)\n",
        "    epsilon: float\n",
        "      Weight with which the heuristic function is multiplied, as:\n",
        "      f(n) = g(n) + epsilon*h(n)\n",
        "    escape_tunnels: bool\n",
        "      Set to true to restart A* from the start of a tunnel by backtracking\n",
        "      instead of dead-ends\n",
        "    \"\"\"\n",
        "\n",
        "    # Logging\n",
        "    self.knowledge_snaps = []\n",
        "    self.visited_snaps = []\n",
        "    self.start_end_snaps = []\n",
        "    self.sol_snaps = []\n",
        "    self.step = 0\n",
        "    self.successfully_completed = False\n",
        "    self.final_exit_status = None\n",
        "    self.grid = grid\n",
        "    self.total_cells_processed_by_run = []\n",
        "    self.backtracks = []\n",
        "\n",
        "    # Algorithm parameters\n",
        "    self.epsilon = epsilon\n",
        "    self.move_nbhd_type = move_nbhd_type\n",
        "    self.escape_tunnels = escape_tunnels\n",
        "\n",
        "  def _update_state(self, knowledge, visited, path_end_points, soln, \n",
        "                    step, successfully_completed, final_exit_status, \n",
        "                    num_cells_popped):\n",
        "    \"\"\" \n",
        "    Updates the state (logging variables) after each run of the planning + execution phases. \n",
        "    \n",
        "    Parameters\n",
        "    ----------\n",
        "    knowledge: 2D np.array\n",
        "      Represents the knowledge of the agent. knowledge[x][y] = 1 if\n",
        "      the agent knows there exists a block at position (x, y) and is 0 otherwise.\n",
        "    visited: 2D np.array\n",
        "      Represents which nodes the agent has already expanded. visited[x][y] = 1 if\n",
        "      the agent has already expanded Node at (x, y) and 0 otherwise.\n",
        "    path_end_points: ((int, int), (int, int))\n",
        "      Start and end points for 1 run of A* search\n",
        "    soln: List[(int, int)]\n",
        "      Planned path from the start node to the end node for 1 run of A* search\n",
        "    step: int\n",
        "      The step number for repeated A* search\n",
        "    successfully_completed: bool\n",
        "      If goal node has been reached by repeated A* search\n",
        "    final_exit_status: str\n",
        "      `\"SUCCESS\"` - If A* was successfully completed\n",
        "      `\"RUNNING\"` - If Repeated A* search is still running\n",
        "      `\"FAILED_NOPATH\"` - A* search could not find a path between the start and end nodes\n",
        "      `\"FAILED_STEPS\"` - No. of steps in 1 run of A* search exceeded max steps\n",
        "      `\"FAILED_STEPS_REP\"` - No. of steps for repeated A* search exceeded max steps\n",
        "    num_cells_popped: int\n",
        "      Number of cells popped during one run of A* search\n",
        "\n",
        "\n",
        "    TODO\n",
        "    ----\n",
        "    - Add backtracks to the final path\n",
        "    \"\"\"\n",
        "    \n",
        "    self.knowledge_snaps.append(knowledge)\n",
        "    self.visited_snaps.append(visited)\n",
        "    self.start_end_snaps.append(path_end_points)\n",
        "    self.sol_snaps.append(soln)\n",
        "    self.step = step\n",
        "    self.successfully_completed = successfully_completed\n",
        "    self.final_exit_status = final_exit_status\n",
        "    self.total_cells_processed_by_run.append(num_cells_popped)\n",
        "\n",
        "  def logs(self):\n",
        "    \"\"\"\n",
        "    Fetches all the logging parameters\n",
        "\n",
        "    Returns\n",
        "    -------\n",
        "    log: Dict[str, Any]\n",
        "      All logging vars added to a dictionary\n",
        "    \"\"\"\n",
        "    return {\n",
        "        \"grid\": self.grid,\n",
        "        \"knowledge\": self.knowledge_snaps,\n",
        "        \"visited\": self.visited_snaps,\n",
        "        \"start_end\": self.start_end_snaps,\n",
        "        \"solns\": self.sol_snaps,\n",
        "        \"num_steps\": self.step,\n",
        "        \"successfully_completed\": self.successfully_completed,\n",
        "        \"final_exit_status\": self.final_exit_status\n",
        "    }\n",
        "\n",
        "  def path_followed(self):\n",
        "    \"\"\" Returns the actual path followed (planning + execution) \"\"\"\n",
        "\n",
        "    # If the paths followed and solutions don't match\n",
        "    assert len(self.sol_snaps) == len(self.start_end_snaps), \\\n",
        "      \"More steps for A* than elements in start_end.\"\n",
        "    \n",
        "    full_path = []\n",
        "    for i in range(len(self.start_end_snaps)):\n",
        "\n",
        "      # Get index of end node in path\n",
        "      _, end_node = self.start_end_snaps[i]\n",
        "      end_index = self.sol_snaps[i].index(end_node)\n",
        "\n",
        "      # Clip the array according to end index and append to parent array\n",
        "      clipped_array = self.sol_snaps[i][:end_index]\n",
        "      full_path += clipped_array\n",
        "\n",
        "    return full_path\n",
        "\n",
        "  def total_cells_processed(self):\n",
        "    \"\"\"\n",
        "    Returns total number of Nodes popped from the Fringe across each run of A* search.\n",
        "    \"\"\"\n",
        "    \n",
        "    return sum(self.total_cells_processed_by_run)\n",
        "\n",
        "  def total_backtracked_cells(self):\n",
        "    \"\"\" \n",
        "    Returns total number of cells backtracked to the start of a tunnel.\n",
        "    \"\"\"\n",
        "\n",
        "    flat_list = [item for sublist in self.backtracks for item in sublist]\n",
        "    return len(flat_list)\n",
        "\n",
        "  def search(self, start, goal, grid, heuristic_type, \n",
        "             max_steps_astar=None, max_steps_repeated=None):\n",
        "    \"\"\"\n",
        "    Performs the repeated search on a grid.\n",
        "\n",
        "    Parameters\n",
        "    ----------\n",
        "    start: (int, int)\n",
        "      Coordinates of the start node\n",
        "    goal: (int, int)\n",
        "      Coordinates of the goal node\n",
        "    grid: 2D np.array\n",
        "      Original gridworld on which to perform grid search\n",
        "    heuristic_type: str\n",
        "      Can be `'euclidean'`, `'manhattan'`, or `'chebyshev'`\n",
        "    max_steps_astar: int\n",
        "      Max. no. of steps for 1 run of A* search\n",
        "    max_steps_repeated: int\n",
        "      Max. no. of steps for 1 run of Repeated A* search\n",
        "    \"\"\"\n",
        "\n",
        "    # Exit condition\n",
        "    if max_steps_repeated is None:\n",
        "      max_steps_repeated = grid.shape[0]*grid.shape[1]\n",
        "\n",
        "    # Initialize visited matrix, knowledge matrix and planned_path array\n",
        "    knowledge = np.zeros(grid.shape)\n",
        "    \n",
        "    # Start\n",
        "    while not self.successfully_completed:\n",
        "\n",
        "      # If number of steps have been exceeded for Repeated A*\n",
        "      if self.step > max_steps_repeated:\n",
        "        self._update_state(None, None, (None, None),\n",
        "                           None, self.step, False,\n",
        "                           \"FAILED_STEPS_REP\", 0)\n",
        "        return\n",
        "\n",
        "      visited = np.zeros(grid.shape)\n",
        "\n",
        "      # Run A* search algorithm once\n",
        "      planned_path, exit_status, num_cells_popped = \\\n",
        "        a_star_search(start, goal, grid, heuristic_type, \n",
        "                      visited, knowledge, max_steps=max_steps_astar, \n",
        "                      epsilon=self.epsilon)\n",
        "\n",
        "      # If no path can be found\n",
        "      if exit_status == \"FAILED_NOPATH\":\n",
        "        self._update_state(knowledge, visited, (start, None), \n",
        "                           planned_path, self.step + 1, False, \n",
        "                           exit_status, num_cells_popped)\n",
        "        return\n",
        "\n",
        "      # If num of steps were exceeded for one run of A*\n",
        "      elif exit_status == \"FAILED_STEPS\":\n",
        "        self._update_state(knowledge, visited, (start, None), \n",
        "                           planned_path, self.step + 1, False, \n",
        "                           exit_status, num_cells_popped)\n",
        "        return\n",
        "\n",
        "      # Move robot along the grid on the planned path and record environment\n",
        "      final_node, knowledge, _, last_open_cell = move_and_record(start, goal, grid, \n",
        "                                                                planned_path, knowledge, \n",
        "                                                                nbhd_type=self.move_nbhd_type)\n",
        "\n",
        "      # If we were able to reach the goal successfully\n",
        "      if final_node == goal:\n",
        "        self._update_state(knowledge, visited, (start, final_node), \n",
        "                           planned_path, self.step + 1, True, \n",
        "                           \"SUCCESS\", num_cells_popped)\n",
        "        continue\n",
        "\n",
        "      # If we were not able to reach the goal successfully, repeat until possible\n",
        "      self._update_state(knowledge, visited, (start, final_node), \n",
        "                         planned_path, self.step + 1, False,\n",
        "                         \"RUNNING\", num_cells_popped)\n",
        "      \n",
        "      # Backtracking to the start of tunnels if this parameter is set, else start from end of last path\n",
        "      if self.escape_tunnels and last_open_cell is not None and final_node != last_open_cell:\n",
        "        start = last_open_cell\n",
        "\n",
        "        loc_idx = planned_path.index(last_open_cell)\n",
        "        backtrack = reversed(planned_path[loc_idx:])\n",
        "\n",
        "        self.backtracks.append(backtrack)\n",
        "      else:\n",
        "        start = final_node\n",
        "\n",
        "    # We were able to reach successfully\n",
        "    return"
      ],
      "execution_count": null,
      "outputs": []
    },
    {
      "cell_type": "code",
      "metadata": {
        "colab": {
          "base_uri": "https://localhost:8080/"
        },
        "id": "1hgaILIJH7ck",
        "outputId": "1ec828a3-af18-4a78-a156-ad59f4375ec7"
      },
      "source": [
        "l = [1, 2, 3, 4, 5, 6, 7]\n",
        "\n",
        "last_open_cell = 3\n",
        "loc_idx = l.index(last_open_cell)\n",
        "backtrack = list(reversed(l[loc_idx:]))\n",
        "\n",
        "backtrack"
      ],
      "execution_count": null,
      "outputs": [
        {
          "output_type": "execute_result",
          "data": {
            "text/plain": [
              "[7, 6, 5, 4, 3]"
            ]
          },
          "metadata": {},
          "execution_count": 36
        }
      ]
    },
    {
      "cell_type": "code",
      "metadata": {
        "id": "EF4fbVWB44yA"
      },
      "source": [
        "def test_repeated_a_star_search_custom(move_nbhd_type=\"compass\", epsilon=1., escape_tunnels=False):\n",
        "  \"\"\" \n",
        "  For custom testing of the repeated A* search algorithm. The default grid presents\n",
        "  a particularly difficult case for A* search. \n",
        "  \n",
        "  Parameters\n",
        "  ----------\n",
        "  move_nbhd_type: str\n",
        "    `'compass'` - Agent can see in all 4 directions while moving\n",
        "    `'directional'` - Agent can only see in the direction it is moving\n",
        "  epsilon: float\n",
        "    Weight given to the heuristic function. Used as:\n",
        "    f(n) = g(n) * epsilon*h(n)\n",
        "  escape_tunnels: bool\n",
        "    Escape tunnels before restarting A* search\n",
        "  \"\"\"\n",
        "  grid = [[0, 1, 0, 1, 0, 0, 1, 0, 0, 0],\n",
        "          [0, 1, 0, 1, 1, 0, 1, 0, 0, 0],\n",
        "          [0, 1, 1, 1, 0, 0, 0, 0, 1, 0],\n",
        "          [0, 1, 0, 0, 0, 1, 0, 1, 1, 0],\n",
        "          [0, 1, 0, 1, 1, 0, 1, 1, 0, 0],\n",
        "          [0, 1, 0, 1, 0, 0, 1, 0, 0, 1],\n",
        "          [0, 1, 0, 1, 0, 0, 0, 0, 0, 0],\n",
        "          [0, 1, 0, 1, 1, 0, 1, 0, 0, 1],\n",
        "          [0, 0, 0, 1, 1, 0, 1, 0, 0, 0],\n",
        "          [1, 1, 0, 1, 0, 0, 0, 0, 1, 0]]\n",
        "\n",
        "  grid = np.array(grid)\n",
        "\n",
        "  # Run Repeated A* on the grid\n",
        "  repeated_a_star = RepeatedAStar(grid, move_nbhd_type=move_nbhd_type, epsilon=epsilon, escape_tunnels=escape_tunnels)\n",
        "  repeated_a_star.search((0, 0), (grid.shape[0]-1, grid.shape[1]-1), grid, \"euclidean\")\n",
        "\n",
        "  # Return the completed R.A* object\n",
        "  return repeated_a_star\n",
        "\n",
        "def test_repeated_a_star_search_random(grid_shape, block_prob, \n",
        "                                       heuristic_type=\"euclidean\", \n",
        "                                       move_nbhd_type=\"compass\", \n",
        "                                       solvable=True, \n",
        "                                       epsilon=1., \n",
        "                                       escape_tunnels=False):\n",
        "  \"\"\" \n",
        "  For random testing of the repeated A* search algorithm. \n",
        "  \n",
        "  Parameters\n",
        "  ----------\n",
        "  grid_shape: (int, int)\n",
        "    Shape of the randomly generated gridworld\n",
        "  block_prob: float\n",
        "    Each cell in the randomly generated gridworld will be blocked with p = block_prob\n",
        "  heuristic_type: str\n",
        "    Can be `'euclidean'`, `'manhattan'`, or `'chebyshev'`\n",
        "  move_nbhd_type: str\n",
        "    `'compass'` - Agent can see in all 4 directions while moving\n",
        "    `'directional'` - Agent can only see in the direction it is moving\n",
        "  solvable: bool\n",
        "    Set to True if the randomly generated gridworld has to be solvable \n",
        "  epsilon: float\n",
        "    Weight given to the heuristic function. Used as:\n",
        "    f(n) = g(n) * epsilon*h(n)\n",
        "  escape_tunnels: bool\n",
        "    Escape tunnels before restarting A* search\n",
        "  \"\"\"\n",
        "\n",
        "  grid = None\n",
        "\n",
        "  # If the grid needs to be solvable\n",
        "  if solvable:\n",
        "    is_solvable = False\n",
        "\n",
        "    # Keep generating random gridworlds until a solvable one comes up\n",
        "    while not is_solvable:\n",
        "\n",
        "      # Generate and check solvability of gridworld\n",
        "      grid = generate_gridworld(grid_shape, block_prob=block_prob)\n",
        "      _, exit_status, _ = a_star_search((0, 0), \n",
        "                                        (grid.shape[0]-1, grid.shape[1]-1), \n",
        "                                        grid, \n",
        "                                        heuristic_type, \n",
        "                                        np.zeros(grid.shape), \n",
        "                                        grid.copy())\n",
        "\n",
        "      # If gridworld is solvable, break out of loop\n",
        "      if exit_status == \"SUCCESS\":\n",
        "        is_solvable = True\n",
        "  else:\n",
        "    # Else generate a random gridworld\n",
        "    grid = generate_gridworld(grid_shape, block_prob=block_prob)\n",
        "\n",
        "  t0 = time.time()\n",
        "\n",
        "  # Run Repeated A* on the grid\n",
        "  repeated_a_star = RepeatedAStar(grid, move_nbhd_type=move_nbhd_type, epsilon=epsilon, escape_tunnels=escape_tunnels)\n",
        "  repeated_a_star.search((0, 0), (grid.shape[0]-1, grid.shape[1]-1), grid, heuristic_type)\n",
        "\n",
        "  time_taken = time.time() - t0\n",
        "\n",
        "  # Return the completed R.A* object and the time taken\n",
        "  return repeated_a_star, time_taken"
      ],
      "execution_count": null,
      "outputs": []
    },
    {
      "cell_type": "code",
      "metadata": {
        "colab": {
          "base_uri": "https://localhost:8080/"
        },
        "id": "g7ZJh5eLwsHB",
        "outputId": "1e76b1e3-3f86-4c9f-f62c-f642949c27d9"
      },
      "source": [
        "NUM_ITERS = 100\n",
        "DIM_ROWS, DIM_COLS, P = 101, 101, 0.2\n",
        "HEURISTIC_FN = \"manhattan\"\n",
        "\n",
        "times, statuses = [], []\n",
        "for _ in tqdm(range(NUM_ITERS)):\n",
        "\n",
        "  t0 = time.time()\n",
        "\n",
        "  ras_test, _ = test_repeated_a_star_search_random((DIM_ROWS, DIM_COLS), P, HEURISTIC_FN)\n",
        "\n",
        "  time_taken = time.time() - t0\n",
        "\n",
        "  times.append(time_taken)\n",
        "  statuses.append(ras_test.successfully_completed)"
      ],
      "execution_count": null,
      "outputs": [
        {
          "output_type": "stream",
          "name": "stderr",
          "text": [
            "100%|██████████| 100/100 [00:46<00:00,  2.17it/s]\n"
          ]
        }
      ]
    },
    {
      "cell_type": "code",
      "metadata": {
        "colab": {
          "base_uri": "https://localhost:8080/",
          "height": 265
        },
        "id": "_RNAuyIazdJI",
        "outputId": "83bee5bd-aa9e-490a-d235-639425e09b65"
      },
      "source": [
        "pd.DataFrame({\"times\": times}).boxplot()\n",
        "plt.show()"
      ],
      "execution_count": null,
      "outputs": [
        {
          "output_type": "display_data",
          "data": {
            "image/png": "[encoded data removed]",
            "text/plain": [
              "<Figure size 432x288 with 1 Axes>"
            ]
          },
          "metadata": {
            "needs_background": "light"
          }
        }
      ]
    },
    {
      "cell_type": "markdown",
      "metadata": {
        "id": "CBI172HZQPDz"
      },
      "source": [
        "### Questions"
      ]
    },
    {
      "cell_type": "markdown",
      "metadata": {
        "id": "PKJc8mJfmk0W"
      },
      "source": [
        "**Question 4:** Solvability A gridworld is solvable if it has a clear path from start to goal nodes. How does solvability depend on p? Given dim = 101, how does solvability depend on p? For a range of p values, estimate the probability that a maze will be solvable by generating multiple environments and checking them for solvability. Plot density vs solvability, and try to identify as accurately as you can the threshold p0 where for p < p0, most mazes are solvable, but p > p0, most mazes are not solvable. Is A* the best search algorithm to use here, to test for solvability? Note for this problem you may assume that the entire gridworld is known, and hence only needs to be searched once each."
      ]
    },
    {
      "cell_type": "code",
      "metadata": {
        "id": "HSeE5IrTmjhR"
      },
      "source": [
        "#Finding threshold probability p0 for solvability\n",
        "res=[]\n",
        "prob=[]\n",
        "for i in range(0,100):\n",
        "  count=0\n",
        "  prob.append((i/100))\n",
        "  for j in range(100):\n",
        "    grid=generate_gridworld((101,101),i/100)\n",
        "    visited = np.zeros(grid.shape)\n",
        "    blocked = grid.copy()\n",
        "    sol, exit_status = a_star_search((0, 0), (grid.shape[0]-1, grid.shape[1]-1), grid, \"manhattan\", visited, blocked)\n",
        "    if exit_status==\"SUCCESS\":\n",
        "      count+=1\n",
        "  count/=10    \n",
        "  res.append(count)\n",
        "\n",
        "print(res)"
      ],
      "execution_count": null,
      "outputs": []
    },
    {
      "cell_type": "code",
      "metadata": {
        "id": "LBPfLEO1msY_"
      },
      "source": [
        "plt.plot(prob,res)"
      ],
      "execution_count": null,
      "outputs": []
    },
    {
      "cell_type": "code",
      "metadata": {
        "id": "rkAAMY89mwdq"
      },
      "source": [
        "for i in range(len(res)):\n",
        "  if res[i]==5.1:\n",
        "    print(i)\n",
        "arr=[]\n",
        "\n",
        "for i in range(100):\n",
        "  arr.append(i/100)\n",
        "\n",
        "plt.xlabel(\"Probabilty\")\n",
        "plt.ylabel(\"Solvability\")\n",
        "plt.annotate(\"p0\",xy=(0.29,5.1),)\n",
        "plt.show()"
      ],
      "execution_count": null,
      "outputs": []
    },
    {
      "cell_type": "markdown",
      "metadata": {
        "id": "8miAD1hSm7p9"
      },
      "source": [
        "**Question 5:** Heuristics a) Among environments that are solvable, is one heuristic uniformly better than the other for running A∗? Consider the following heuristics:\n",
        "\n",
        "– Euclidean Distance $d((x1, y1), (x2, y2)) = ((x1 − x2)^{2} + (y1 − y2))^{0.5}$ (1)\n",
        "\n",
        "– Manhattan Distance $d((x1, y1), (x2, y2)) = |x1 − x2| + |y1 − y2|$ (2)\n",
        "\n",
        "– Chebyshev Distance $d((x1, y1), (x2, y2)) = max(|x1 − x2|, |y1 − y2|)$ (3)\n",
        "\n",
        "How can they be compared? Plot the relevant data and justify your conclusions. Again, you may take each gridworld as known, and thus only search once."
      ]
    },
    {
      "cell_type": "code",
      "metadata": {
        "id": "el5pJUf0m06a"
      },
      "source": [
        "# For comparison of heuristics\n",
        "\n",
        "ans=[]\n",
        "ans2=[]\n",
        "num_visited = []\n",
        "count=0\n",
        "for i in range(100):\n",
        "  grid=generate_gridworld((101,101),0.28)\n",
        "  visited = np.zeros(grid.shape)\n",
        "  blocked = grid.copy()\n",
        "  sol, exit_status = a_star_search((0, 0), (grid.shape[0]-1, grid.shape[1]-1), grid, \"manhattan\", visited, blocked)\n",
        "  visited = np.zeros(grid.shape)\n",
        "  if exit_status==\"SUCCESS\":\n",
        "    count+=1\n",
        "    num_visited_in_iter = []\n",
        "\n",
        "    t0=time.time()\n",
        "    sol, exit_status = a_star_search((0, 0), (grid.shape[0]-1, grid.shape[1]-1), grid, \"chebyshev\", visited, blocked)\n",
        "    num_visited_in_iter.append(num_nodes_visited(visited))\n",
        "    visited = np.zeros(grid.shape)\n",
        "    \n",
        "    t1=time.time()\n",
        "    sol2, exit_status2 = a_star_search((0, 0), (grid.shape[0]-1, grid.shape[1]-1), grid, \"manhattan\", visited, blocked)\n",
        "    num_visited_in_iter.append(num_nodes_visited(visited))\n",
        "    visited = np.zeros(grid.shape)\n",
        "    \n",
        "\n",
        "    t2=time.time()\n",
        "    sol3, exit_status3 = a_star_search((0, 0), (grid.shape[0]-1, grid.shape[1]-1), grid, \"euclidean\", visited, blocked)\n",
        "    num_visited_in_iter.append(num_nodes_visited(visited))\n",
        "\n",
        "    num_visited.append(num_visited_in_iter)\n",
        "\n",
        "    if i == 100:\n",
        "      visited = np.zeros(grid.shape)\n",
        "    t3=time.time()\n",
        "    ans2.append([len(sol),len(sol2),len(sol3)])\n",
        "    temp=[t1-t0,t2-t1,t3-t2]\n",
        "    ans.append(temp)"
      ],
      "execution_count": null,
      "outputs": []
    },
    {
      "cell_type": "code",
      "metadata": {
        "id": "qks2qwm1nL7F"
      },
      "source": [
        "num_nodes_visited = lambda vis: np.where(vis > 0.)[0].shape[0]"
      ],
      "execution_count": null,
      "outputs": []
    },
    {
      "cell_type": "code",
      "metadata": {
        "id": "h622J5R_nNlo"
      },
      "source": [
        "print(np.mean(ans2,axis=0))\n",
        "print(np.mean(num_visited,axis=0))\n",
        "print(np.sum(ans,axis=0))\n",
        "print(count)"
      ],
      "execution_count": null,
      "outputs": []
    },
    {
      "cell_type": "code",
      "metadata": {
        "id": "N6i78-ZUnPQ5"
      },
      "source": [
        "objects = ('Chebyshev', 'Manhattan', 'Euclidean')\n",
        "y_pos = np.arange(len(objects))\n",
        "performance = np.mean(num_visited,axis=0)\n",
        "\n",
        "plt.bar(y_pos, performance, align='center', alpha=0.5)\n",
        "plt.xticks(y_pos, objects)\n",
        "plt.ylabel('Nodes Processed')\n",
        "plt.title('Heuristic')\n",
        "\n",
        "plt.show()"
      ],
      "execution_count": null,
      "outputs": []
    },
    {
      "cell_type": "code",
      "metadata": {
        "id": "K0tdTDl8nRrd"
      },
      "source": [
        "objects = ('Chebyshev', 'Manhattan', 'Euclidean')\n",
        "y_pos = np.arange(len(objects))\n",
        "performance = np.sum(ans,axis=0)\n",
        "\n",
        "plt.bar(y_pos, performance, align='center', alpha=0.5)\n",
        "plt.xticks(y_pos, objects)\n",
        "plt.ylabel('Time taken(579 mazes)')\n",
        "plt.title('Heuristic')\n",
        "\n",
        "plt.show()"
      ],
      "execution_count": null,
      "outputs": []
    },
    {
      "cell_type": "markdown",
      "metadata": {
        "id": "6HAWLlyKUd2U"
      },
      "source": [
        "**Question 6**: Performance Taking dim = 101, for a range of density p values from $0$ to $min(p0 , 0.33)$, and the heuristic chosen as best in Q5, repeatedly generate gridworlds and solve them using Repeated Forward A*. Use as the field of view each immediately adjacent cell in the compass directions. Generate plots of the following data:\n",
        "\n",
        "* Density vs Average Trajectory Length\n",
        "* Density vs Average (Length of Trajectory / Length of Shortest Path in Final Discovered Gridworld)\n",
        "* Density vs Average (Length of Shortest Path in Final Discovered Gridworld / Length of Shortest Path in Full Gridworld)\n",
        "* Density vs Average Number of Cells Processed by Repeated A*\n",
        "\n",
        "Discuss your results. Are they as you expected? Explain."
      ]
    },
    {
      "cell_type": "code",
      "metadata": {
        "id": "7aGr4AQjhaJ0"
      },
      "source": [
        "def block_undiscovered_nodes(path, knowledge):\n",
        "  new_knowledge = np.ones(knowledge.shape)\n",
        "\n",
        "  for cell in path:\n",
        "    new_knowledge[cell[0]][cell[1]] = 0\n",
        "\n",
        "    nbhd = neighbourhood(cell, knowledge.shape[0], knowledge.shape[1])\n",
        "    \n",
        "    for nbr in nbhd:\n",
        "      new_knowledge[nbr[0]][nbr[1]] = knowledge[nbr[0]][nbr[1]]\n",
        "\n",
        "  return new_knowledge"
      ],
      "execution_count": null,
      "outputs": []
    },
    {
      "cell_type": "code",
      "metadata": {
        "colab": {
          "base_uri": "https://localhost:8080/"
        },
        "id": "r6c0yH0PikDq",
        "outputId": "31db4351-1fe0-43da-ba27-52fe571c2bfe"
      },
      "source": [
        "ras, _ = test_repeated_a_star_search_random((15, 15), 0.2, \"manhattan\")\n",
        "\n",
        "pretty_print(ras.grid)"
      ],
      "execution_count": null,
      "outputs": [
        {
          "output_type": "stream",
          "name": "stdout",
          "text": [
            "   0   0   0   0   0   1   0   0   1   0   0   0   0   1   1\n",
            "   0   1   1   1   0   0   0   1   0   0   0   0   0   1   0\n",
            "   0   0   1   0   0   1   0   0   0   0   0   0   0   0   0\n",
            "   1   1   1   0   1   1   1   0   0   0   0   1   0   0   0\n",
            "   1   0   0   0   0   0   0   0   0   1   1   0   1   0   0\n",
            "   0   1   1   0   0   0   0   0   1   0   0   0   0   0   0\n",
            "   1   0   0   0   0   1   0   0   0   0   0   0   0   0   1\n",
            "   0   0   0   0   0   0   0   0   0   0   0   0   0   1   0\n",
            "   0   1   0   0   0   0   0   0   0   0   0   1   0   1   0\n",
            "   0   1   1   1   0   0   0   1   0   0   0   0   0   0   1\n",
            "   0   0   0   0   0   0   0   0   0   0   0   1   0   1   0\n",
            "   0   0   1   0   0   0   0   0   1   0   0   0   0   1   0\n",
            "   0   0   0   0   1   0   0   0   0   0   0   0   0   0   0\n",
            "   0   0   0   0   0   0   1   1   0   0   1   0   0   0   0\n",
            "   0   0   0   0   0   0   0   1   0   0   0   1   0   1   0\n"
          ]
        }
      ]
    },
    {
      "cell_type": "code",
      "metadata": {
        "colab": {
          "base_uri": "https://localhost:8080/"
        },
        "id": "EcPkB1KZi3p9",
        "outputId": "94ec3a55-819c-41eb-b2a0-20414d9adc4f"
      },
      "source": [
        "pretty_print(block_undiscovered_nodes(ras.path_followed(), ras.knowledge_snaps[-1]).astype(int))"
      ],
      "execution_count": null,
      "outputs": [
        {
          "output_type": "stream",
          "name": "stdout",
          "text": [
            "   0   0   0   0   0   1   0   1   1   1   1   1   1   1   1\n",
            "   0   1   1   1   0   0   0   1   0   0   0   0   0   1   0\n",
            "   1   1   1   1   0   1   0   0   0   0   0   0   0   0   0\n",
            "   1   1   1   1   1   1   1   0   0   0   0   1   0   0   0\n",
            "   1   1   1   1   1   1   1   1   1   1   1   1   1   0   0\n",
            "   1   1   1   1   1   1   1   1   1   1   1   1   0   0   0\n",
            "   1   1   1   1   1   1   1   1   1   1   1   0   0   0   1\n",
            "   1   1   1   1   1   1   1   1   1   1   1   0   0   1   1\n",
            "   1   1   1   1   1   1   1   1   1   1   1   1   0   1   1\n",
            "   1   1   1   1   1   1   1   1   1   1   1   0   0   0   1\n",
            "   1   1   1   1   1   1   1   1   1   1   1   1   0   1   1\n",
            "   1   1   1   1   1   1   1   1   1   1   1   0   0   1   0\n",
            "   1   1   1   1   1   1   1   1   1   1   1   0   0   0   0\n",
            "   1   1   1   1   1   1   1   1   1   1   1   1   0   0   0\n",
            "   1   1   1   1   1   1   1   1   1   1   1   1   1   1   0\n"
          ]
        }
      ]
    },
    {
      "cell_type": "code",
      "metadata": {
        "id": "TsrTVROrUcOR"
      },
      "source": [
        "def q6(num_iters, dim_rows, dim_cols, densities, heuristic_fn):\n",
        "\n",
        "  mean_traj_lengths, mean_num_cells_processed, mean_metric_2, mean_metric_3 = [], [], [], []\n",
        "\n",
        "  for i in tqdm(range(len(densities))):\n",
        "    p = densities[i]\n",
        "\n",
        "    traj_lengths, traj_lengths_by_sp_final_discs, sp_final_disc_by_sp_fulls, num_cells_processed = [], [], [], []\n",
        "\n",
        "    for i in range(num_iters):\n",
        "\n",
        "      ras, _ = test_repeated_a_star_search_random((dim_rows, dim_cols), p, heuristic_fn)\n",
        "\n",
        "      new_knowledge = block_undiscovered_nodes(ras.path_followed(), ras.knowledge_snaps[-1])\n",
        "\n",
        "      shortest_path_final_discovered, exit_status_final_discovered, _ = \\\n",
        "        a_star_search((0, 0), (ras.grid.shape[0]-1, ras.grid.shape[1]-1), \n",
        "                      ras.grid.copy(), heuristic_fn, np.zeros(ras.grid.shape), \n",
        "                      new_knowledge)\n",
        "\n",
        "      shortest_path_full, exit_status_full, _ = \\\n",
        "        a_star_search((0, 0), (ras.grid.shape[0]-1, ras.grid.shape[1]-1), \n",
        "                      ras.grid.copy(), heuristic_fn, np.zeros(ras.grid.shape), \n",
        "                      ras.grid.copy())\n",
        "\n",
        "      trajectory_length = len(ras.path_followed())  # Metric 1\n",
        "      traj_length_by_sp_final_disc = trajectory_length/len(shortest_path_final_discovered)  # Metric 2\n",
        "      sp_final_disc_by_sp_full = len(shortest_path_final_discovered)/len(shortest_path_full)  # Metric 3\n",
        "      total_cells_processed = ras.total_cells_processed()  # Metric 4\n",
        "\n",
        "      traj_lengths.append(trajectory_length)\n",
        "      traj_lengths_by_sp_final_discs.append(traj_length_by_sp_final_disc)\n",
        "      sp_final_disc_by_sp_fulls.append(sp_final_disc_by_sp_full)\n",
        "      num_cells_processed.append(total_cells_processed)\n",
        "\n",
        "    mean_traj_lengths.append(np.mean(traj_lengths))\n",
        "    mean_num_cells_processed.append(np.mean(num_cells_processed))\n",
        "    mean_metric_2.append(np.mean(traj_lengths_by_sp_final_discs))\n",
        "    mean_metric_3.append(np.mean(sp_final_disc_by_sp_fulls))\n",
        "\n",
        "  df_res = pd.DataFrame({\"p\": densities, \n",
        "                         \"mean_trajectory_lengths\": mean_traj_lengths, \n",
        "                         \"mean_metric_2\": mean_metric_2, \n",
        "                         \"mean_metric_3\": mean_metric_3,\n",
        "                         \"mean_num_cells_processed\": mean_num_cells_processed,})\n",
        "  \n",
        "  return df_res"
      ],
      "execution_count": null,
      "outputs": []
    },
    {
      "cell_type": "code",
      "metadata": {
        "colab": {
          "base_uri": "https://localhost:8080/"
        },
        "id": "vNsv8qzMUrvh",
        "outputId": "3bc77b2f-dc4e-4ded-f4d0-8c71eb1a4994"
      },
      "source": [
        "NUM_ITERS = 25\n",
        "DIM_ROWS, DIM_COLS, P0 = 101, 101, 0.29\n",
        "DENSITIES = np.arange(0., min(P0, 0.33), 0.01)\n",
        "HEURISTIC_FN = \"manhattan\"\n",
        "\n",
        "df = q6(NUM_ITERS, DIM_ROWS, DIM_COLS, DENSITIES, HEURISTIC_FN)"
      ],
      "execution_count": null,
      "outputs": [
        {
          "output_type": "stream",
          "name": "stderr",
          "text": [
            "100%|██████████| 29/29 [04:53<00:00, 10.13s/it]\n"
          ]
        }
      ]
    },
    {
      "cell_type": "code",
      "metadata": {
        "colab": {
          "base_uri": "https://localhost:8080/",
          "height": 959
        },
        "id": "_3_NboWmXNmz",
        "outputId": "d9d5b03d-2a5f-48b9-b92d-56c3764cc457"
      },
      "source": [
        "df"
      ],
      "execution_count": null,
      "outputs": [
        {
          "output_type": "execute_result",
          "data": {
            "text/html": [
              "<div>\n",
              "<style scoped>\n",
              "    .dataframe tbody tr th:only-of-type {\n",
              "        vertical-align: middle;\n",
              "    }\n",
              "\n",
              "    .dataframe tbody tr th {\n",
              "        vertical-align: top;\n",
              "    }\n",
              "\n",
              "    .dataframe thead th {\n",
              "        text-align: right;\n",
              "    }\n",
              "</style>\n",
              "<table border=\"1\" class=\"dataframe\">\n",
              "  <thead>\n",
              "    <tr style=\"text-align: right;\">\n",
              "      <th></th>\n",
              "      <th>p</th>\n",
              "      <th>mean_trajectory_lengths</th>\n",
              "      <th>mean_metric_2</th>\n",
              "      <th>mean_metric_3</th>\n",
              "      <th>mean_num_cells_processed</th>\n",
              "    </tr>\n",
              "  </thead>\n",
              "  <tbody>\n",
              "    <tr>\n",
              "      <th>0</th>\n",
              "      <td>0.00</td>\n",
              "      <td>200.00</td>\n",
              "      <td>0.995025</td>\n",
              "      <td>1.000000</td>\n",
              "      <td>201.00</td>\n",
              "    </tr>\n",
              "    <tr>\n",
              "      <th>1</th>\n",
              "      <td>0.01</td>\n",
              "      <td>202.08</td>\n",
              "      <td>1.002570</td>\n",
              "      <td>1.002786</td>\n",
              "      <td>381.56</td>\n",
              "    </tr>\n",
              "    <tr>\n",
              "      <th>2</th>\n",
              "      <td>0.02</td>\n",
              "      <td>204.40</td>\n",
              "      <td>1.009281</td>\n",
              "      <td>1.007562</td>\n",
              "      <td>583.60</td>\n",
              "    </tr>\n",
              "    <tr>\n",
              "      <th>3</th>\n",
              "      <td>0.03</td>\n",
              "      <td>206.72</td>\n",
              "      <td>1.014670</td>\n",
              "      <td>1.013532</td>\n",
              "      <td>858.04</td>\n",
              "    </tr>\n",
              "    <tr>\n",
              "      <th>4</th>\n",
              "      <td>0.04</td>\n",
              "      <td>209.04</td>\n",
              "      <td>1.019292</td>\n",
              "      <td>1.020299</td>\n",
              "      <td>1048.52</td>\n",
              "    </tr>\n",
              "    <tr>\n",
              "      <th>5</th>\n",
              "      <td>0.05</td>\n",
              "      <td>211.76</td>\n",
              "      <td>1.024868</td>\n",
              "      <td>1.027861</td>\n",
              "      <td>1310.24</td>\n",
              "    </tr>\n",
              "    <tr>\n",
              "      <th>6</th>\n",
              "      <td>0.06</td>\n",
              "      <td>212.32</td>\n",
              "      <td>1.028437</td>\n",
              "      <td>1.027065</td>\n",
              "      <td>1520.40</td>\n",
              "    </tr>\n",
              "    <tr>\n",
              "      <th>7</th>\n",
              "      <td>0.07</td>\n",
              "      <td>216.88</td>\n",
              "      <td>1.042791</td>\n",
              "      <td>1.034627</td>\n",
              "      <td>1680.16</td>\n",
              "    </tr>\n",
              "    <tr>\n",
              "      <th>8</th>\n",
              "      <td>0.08</td>\n",
              "      <td>220.00</td>\n",
              "      <td>1.051348</td>\n",
              "      <td>1.040995</td>\n",
              "      <td>1908.24</td>\n",
              "    </tr>\n",
              "    <tr>\n",
              "      <th>9</th>\n",
              "      <td>0.09</td>\n",
              "      <td>222.56</td>\n",
              "      <td>1.052690</td>\n",
              "      <td>1.051343</td>\n",
              "      <td>2177.24</td>\n",
              "    </tr>\n",
              "    <tr>\n",
              "      <th>10</th>\n",
              "      <td>0.10</td>\n",
              "      <td>225.52</td>\n",
              "      <td>1.069196</td>\n",
              "      <td>1.049353</td>\n",
              "      <td>2386.68</td>\n",
              "    </tr>\n",
              "    <tr>\n",
              "      <th>11</th>\n",
              "      <td>0.11</td>\n",
              "      <td>228.56</td>\n",
              "      <td>1.071838</td>\n",
              "      <td>1.060896</td>\n",
              "      <td>2602.80</td>\n",
              "    </tr>\n",
              "    <tr>\n",
              "      <th>12</th>\n",
              "      <td>0.12</td>\n",
              "      <td>236.64</td>\n",
              "      <td>1.095736</td>\n",
              "      <td>1.074826</td>\n",
              "      <td>2916.64</td>\n",
              "    </tr>\n",
              "    <tr>\n",
              "      <th>13</th>\n",
              "      <td>0.13</td>\n",
              "      <td>238.80</td>\n",
              "      <td>1.102773</td>\n",
              "      <td>1.077214</td>\n",
              "      <td>3126.32</td>\n",
              "    </tr>\n",
              "    <tr>\n",
              "      <th>14</th>\n",
              "      <td>0.14</td>\n",
              "      <td>242.88</td>\n",
              "      <td>1.118062</td>\n",
              "      <td>1.080796</td>\n",
              "      <td>3336.80</td>\n",
              "    </tr>\n",
              "    <tr>\n",
              "      <th>15</th>\n",
              "      <td>0.15</td>\n",
              "      <td>243.68</td>\n",
              "      <td>1.113738</td>\n",
              "      <td>1.088358</td>\n",
              "      <td>3769.48</td>\n",
              "    </tr>\n",
              "    <tr>\n",
              "      <th>16</th>\n",
              "      <td>0.16</td>\n",
              "      <td>253.76</td>\n",
              "      <td>1.153669</td>\n",
              "      <td>1.093532</td>\n",
              "      <td>3880.32</td>\n",
              "    </tr>\n",
              "    <tr>\n",
              "      <th>17</th>\n",
              "      <td>0.17</td>\n",
              "      <td>259.12</td>\n",
              "      <td>1.154339</td>\n",
              "      <td>1.115821</td>\n",
              "      <td>4163.72</td>\n",
              "    </tr>\n",
              "    <tr>\n",
              "      <th>18</th>\n",
              "      <td>0.18</td>\n",
              "      <td>262.24</td>\n",
              "      <td>1.164853</td>\n",
              "      <td>1.118607</td>\n",
              "      <td>4741.28</td>\n",
              "    </tr>\n",
              "    <tr>\n",
              "      <th>19</th>\n",
              "      <td>0.19</td>\n",
              "      <td>270.48</td>\n",
              "      <td>1.203422</td>\n",
              "      <td>1.116566</td>\n",
              "      <td>5162.60</td>\n",
              "    </tr>\n",
              "    <tr>\n",
              "      <th>20</th>\n",
              "      <td>0.20</td>\n",
              "      <td>271.92</td>\n",
              "      <td>1.196948</td>\n",
              "      <td>1.128870</td>\n",
              "      <td>4906.72</td>\n",
              "    </tr>\n",
              "    <tr>\n",
              "      <th>21</th>\n",
              "      <td>0.21</td>\n",
              "      <td>284.40</td>\n",
              "      <td>1.242606</td>\n",
              "      <td>1.136915</td>\n",
              "      <td>5281.32</td>\n",
              "    </tr>\n",
              "    <tr>\n",
              "      <th>22</th>\n",
              "      <td>0.22</td>\n",
              "      <td>286.80</td>\n",
              "      <td>1.241362</td>\n",
              "      <td>1.148356</td>\n",
              "      <td>5962.04</td>\n",
              "    </tr>\n",
              "    <tr>\n",
              "      <th>23</th>\n",
              "      <td>0.23</td>\n",
              "      <td>297.52</td>\n",
              "      <td>1.289107</td>\n",
              "      <td>1.148856</td>\n",
              "      <td>6363.88</td>\n",
              "    </tr>\n",
              "    <tr>\n",
              "      <th>24</th>\n",
              "      <td>0.24</td>\n",
              "      <td>305.60</td>\n",
              "      <td>1.293797</td>\n",
              "      <td>1.173814</td>\n",
              "      <td>6414.40</td>\n",
              "    </tr>\n",
              "    <tr>\n",
              "      <th>25</th>\n",
              "      <td>0.25</td>\n",
              "      <td>307.04</td>\n",
              "      <td>1.304201</td>\n",
              "      <td>1.167866</td>\n",
              "      <td>6882.64</td>\n",
              "    </tr>\n",
              "    <tr>\n",
              "      <th>26</th>\n",
              "      <td>0.26</td>\n",
              "      <td>333.68</td>\n",
              "      <td>1.374509</td>\n",
              "      <td>1.205663</td>\n",
              "      <td>7685.60</td>\n",
              "    </tr>\n",
              "    <tr>\n",
              "      <th>27</th>\n",
              "      <td>0.27</td>\n",
              "      <td>335.76</td>\n",
              "      <td>1.381102</td>\n",
              "      <td>1.202813</td>\n",
              "      <td>8087.64</td>\n",
              "    </tr>\n",
              "    <tr>\n",
              "      <th>28</th>\n",
              "      <td>0.28</td>\n",
              "      <td>345.76</td>\n",
              "      <td>1.409751</td>\n",
              "      <td>1.207202</td>\n",
              "      <td>8250.52</td>\n",
              "    </tr>\n",
              "  </tbody>\n",
              "</table>\n",
              "</div>"
            ],
            "text/plain": [
              "       p  mean_trajectory_lengths  ...  mean_metric_3  mean_num_cells_processed\n",
              "0   0.00                   200.00  ...       1.000000                    201.00\n",
              "1   0.01                   202.08  ...       1.002786                    381.56\n",
              "2   0.02                   204.40  ...       1.007562                    583.60\n",
              "3   0.03                   206.72  ...       1.013532                    858.04\n",
              "4   0.04                   209.04  ...       1.020299                   1048.52\n",
              "5   0.05                   211.76  ...       1.027861                   1310.24\n",
              "6   0.06                   212.32  ...       1.027065                   1520.40\n",
              "7   0.07                   216.88  ...       1.034627                   1680.16\n",
              "8   0.08                   220.00  ...       1.040995                   1908.24\n",
              "9   0.09                   222.56  ...       1.051343                   2177.24\n",
              "10  0.10                   225.52  ...       1.049353                   2386.68\n",
              "11  0.11                   228.56  ...       1.060896                   2602.80\n",
              "12  0.12                   236.64  ...       1.074826                   2916.64\n",
              "13  0.13                   238.80  ...       1.077214                   3126.32\n",
              "14  0.14                   242.88  ...       1.080796                   3336.80\n",
              "15  0.15                   243.68  ...       1.088358                   3769.48\n",
              "16  0.16                   253.76  ...       1.093532                   3880.32\n",
              "17  0.17                   259.12  ...       1.115821                   4163.72\n",
              "18  0.18                   262.24  ...       1.118607                   4741.28\n",
              "19  0.19                   270.48  ...       1.116566                   5162.60\n",
              "20  0.20                   271.92  ...       1.128870                   4906.72\n",
              "21  0.21                   284.40  ...       1.136915                   5281.32\n",
              "22  0.22                   286.80  ...       1.148356                   5962.04\n",
              "23  0.23                   297.52  ...       1.148856                   6363.88\n",
              "24  0.24                   305.60  ...       1.173814                   6414.40\n",
              "25  0.25                   307.04  ...       1.167866                   6882.64\n",
              "26  0.26                   333.68  ...       1.205663                   7685.60\n",
              "27  0.27                   335.76  ...       1.202813                   8087.64\n",
              "28  0.28                   345.76  ...       1.207202                   8250.52\n",
              "\n",
              "[29 rows x 5 columns]"
            ]
          },
          "metadata": {},
          "execution_count": 45
        }
      ]
    },
    {
      "cell_type": "code",
      "metadata": {
        "colab": {
          "base_uri": "https://localhost:8080/",
          "height": 279
        },
        "id": "6LkY56uTWQSj",
        "outputId": "3aec775e-d7d0-4ef8-8835-05f92b00c97c"
      },
      "source": [
        "sns.lineplot(data=df, x=\"p\", y=\"mean_trajectory_lengths\")\n",
        "plt.show()"
      ],
      "execution_count": null,
      "outputs": [
        {
          "output_type": "display_data",
          "data": {
            "image/png": "[encoded data removed]",
            "text/plain": [
              "<Figure size 432x288 with 1 Axes>"
            ]
          },
          "metadata": {
            "needs_background": "light"
          }
        }
      ]
    },
    {
      "cell_type": "code",
      "metadata": {
        "colab": {
          "base_uri": "https://localhost:8080/",
          "height": 279
        },
        "id": "K7A4HSKOO2JV",
        "outputId": "2f545593-f039-4b64-cd83-c134353b09b8"
      },
      "source": [
        "sns.lineplot(data=df, x=\"p\", y=\"mean_metric_2\")\n",
        "plt.show()"
      ],
      "execution_count": null,
      "outputs": [
        {
          "output_type": "display_data",
          "data": {
            "image/png": "[encoded data removed]",
            "text/plain": [
              "<Figure size 432x288 with 1 Axes>"
            ]
          },
          "metadata": {
            "needs_background": "light"
          }
        }
      ]
    },
    {
      "cell_type": "code",
      "metadata": {
        "colab": {
          "base_uri": "https://localhost:8080/",
          "height": 279
        },
        "id": "cT4UpMzQaOJU",
        "outputId": "8a4ef9a3-e930-457d-c1c0-920e77727934"
      },
      "source": [
        "sns.lineplot(data=df, x=\"p\", y=\"mean_metric_3\")\n",
        "plt.show()"
      ],
      "execution_count": null,
      "outputs": [
        {
          "output_type": "display_data",
          "data": {
            "image/png": "[encoded data removed]",
            "text/plain": [
              "<Figure size 432x288 with 1 Axes>"
            ]
          },
          "metadata": {
            "needs_background": "light"
          }
        }
      ]
    },
    {
      "cell_type": "code",
      "metadata": {
        "colab": {
          "base_uri": "https://localhost:8080/",
          "height": 279
        },
        "id": "-6efoFMPaQOB",
        "outputId": "f941d3d1-eff7-4349-aeb9-ff7ecd1bd28b"
      },
      "source": [
        "sns.lineplot(data=df, x=\"p\", y=\"mean_num_cells_processed\")\n",
        "plt.show()"
      ],
      "execution_count": null,
      "outputs": [
        {
          "output_type": "display_data",
          "data": {
            "image/png": "[encoded data removed]",
            "text/plain": [
              "<Figure size 432x288 with 1 Axes>"
            ]
          },
          "metadata": {
            "needs_background": "light"
          }
        }
      ]
    },
    {
      "cell_type": "code",
      "metadata": {
        "id": "ThOa-BkR6ckU"
      },
      "source": [
        "df.to_csv(\"q6_metrics.csv\")"
      ],
      "execution_count": null,
      "outputs": []
    },
    {
      "cell_type": "markdown",
      "metadata": {
        "id": "XoAsmOUJaZvP"
      },
      "source": [
        "**Question 7: Performance Part 2** Generate and analyze the same data as in Q6, except using only the cell in the direction of attempted motion as the field of view. In other words, the agent may attempt to move in a given direction, and only discovers obstacles by bumping into them. How does the reduced field of view impact the performance of the algorithm?"
      ]
    },
    {
      "cell_type": "code",
      "metadata": {
        "id": "uyTyb40BsvHp"
      },
      "source": [
        "def q7(num_iters, dim_rows, dim_cols, densities, heuristic_fn):\n",
        "\n",
        "  mean_traj_lengths, mean_num_cells_processed, mean_metric_2, mean_metric_3 = [], [], [], []\n",
        "\n",
        "  for i in tqdm(range(len(densities))):\n",
        "    p = densities[i]\n",
        "\n",
        "    traj_lengths, traj_lengths_by_sp_final_discs, sp_final_disc_by_sp_fulls, num_cells_processed = [], [], [], []\n",
        "\n",
        "    for i in range(num_iters):\n",
        "\n",
        "      ras, _ = test_repeated_a_star_search_random((dim_rows, dim_cols), p, heuristic_fn, move_nbhd_type=\"directional\")\n",
        "\n",
        "      new_knowledge = block_undiscovered_nodes(ras.path_followed(), ras.knowledge_snaps[-1])\n",
        "\n",
        "      shortest_path_final_discovered, exit_status_final_discovered, _ = \\\n",
        "        a_star_search((0, 0), (ras.grid.shape[0]-1, ras.grid.shape[1]-1), \n",
        "                      ras.grid.copy(), heuristic_fn, np.zeros(ras.grid.shape), \n",
        "                      new_knowledge)\n",
        "\n",
        "      shortest_path_full, exit_status_full, _ = \\\n",
        "        a_star_search((0, 0), (ras.grid.shape[0]-1, ras.grid.shape[1]-1), \n",
        "                      ras.grid.copy(), heuristic_fn, np.zeros(ras.grid.shape), \n",
        "                      ras.grid.copy())\n",
        "\n",
        "      trajectory_length = len(ras.path_followed())  # Metric 1\n",
        "      traj_length_by_sp_final_disc = trajectory_length/len(shortest_path_final_discovered)  # Metric 2\n",
        "      sp_final_disc_by_sp_full = len(shortest_path_final_discovered)/len(shortest_path_full)  # Metric 3\n",
        "      total_cells_processed = ras.total_cells_processed()  # Metric 4\n",
        "\n",
        "      traj_lengths.append(trajectory_length)\n",
        "      traj_lengths_by_sp_final_discs.append(traj_length_by_sp_final_disc)\n",
        "      sp_final_disc_by_sp_fulls.append(sp_final_disc_by_sp_full)\n",
        "      num_cells_processed.append(total_cells_processed)\n",
        "\n",
        "    mean_traj_lengths.append(np.mean(traj_lengths))\n",
        "    mean_num_cells_processed.append(np.mean(num_cells_processed))\n",
        "    mean_metric_2.append(np.mean(traj_lengths_by_sp_final_discs))\n",
        "    mean_metric_3.append(np.mean(sp_final_disc_by_sp_fulls))\n",
        "\n",
        "  df_res = pd.DataFrame({\"p\": densities, \n",
        "                         \"mean_trajectory_lengths\": mean_traj_lengths, \n",
        "                         \"mean_metric_2\": mean_metric_2, \n",
        "                         \"mean_metric_3\": mean_metric_3,\n",
        "                         \"mean_num_cells_processed\": mean_num_cells_processed,})\n",
        "  \n",
        "  return df_res"
      ],
      "execution_count": null,
      "outputs": []
    },
    {
      "cell_type": "code",
      "metadata": {
        "colab": {
          "base_uri": "https://localhost:8080/"
        },
        "id": "yUFeTiGyiByQ",
        "outputId": "f9952d52-21a3-440a-feb6-8deda01539d3"
      },
      "source": [
        "ras.grid"
      ],
      "execution_count": null,
      "outputs": [
        {
          "output_type": "execute_result",
          "data": {
            "text/plain": [
              "array([[0, 0, 0, 0, 0, 1, 0, 0, 1, 0, 0, 0, 0, 1, 1],\n",
              "       [0, 1, 1, 1, 0, 0, 0, 1, 0, 0, 0, 0, 0, 1, 0],\n",
              "       [0, 0, 1, 0, 0, 1, 0, 0, 0, 0, 0, 0, 0, 0, 0],\n",
              "       [1, 1, 1, 0, 1, 1, 1, 0, 0, 0, 0, 1, 0, 0, 0],\n",
              "       [1, 0, 0, 0, 0, 0, 0, 0, 0, 1, 1, 0, 1, 0, 0],\n",
              "       [0, 1, 1, 0, 0, 0, 0, 0, 1, 0, 0, 0, 0, 0, 0],\n",
              "       [1, 0, 0, 0, 0, 1, 0, 0, 0, 0, 0, 0, 0, 0, 1],\n",
              "       [0, 0, 0, 0, 0, 0, 0, 0, 0, 0, 0, 0, 0, 1, 0],\n",
              "       [0, 1, 0, 0, 0, 0, 0, 0, 0, 0, 0, 1, 0, 1, 0],\n",
              "       [0, 1, 1, 1, 0, 0, 0, 1, 0, 0, 0, 0, 0, 0, 1],\n",
              "       [0, 0, 0, 0, 0, 0, 0, 0, 0, 0, 0, 1, 0, 1, 0],\n",
              "       [0, 0, 1, 0, 0, 0, 0, 0, 1, 0, 0, 0, 0, 1, 0],\n",
              "       [0, 0, 0, 0, 1, 0, 0, 0, 0, 0, 0, 0, 0, 0, 0],\n",
              "       [0, 0, 0, 0, 0, 0, 1, 1, 0, 0, 1, 0, 0, 0, 0],\n",
              "       [0, 0, 0, 0, 0, 0, 0, 1, 0, 0, 0, 1, 0, 1, 0]])"
            ]
          },
          "metadata": {},
          "execution_count": 53
        }
      ]
    },
    {
      "cell_type": "code",
      "metadata": {
        "colab": {
          "base_uri": "https://localhost:8080/"
        },
        "id": "0fijkIJAiDn8",
        "outputId": "a2fdd9c0-ab06-4d72-cbba-8422102e32ec"
      },
      "source": [
        "pretty_print(ras.knowledge_snaps[-1].astype(int))"
      ],
      "execution_count": null,
      "outputs": [
        {
          "output_type": "stream",
          "name": "stdout",
          "text": [
            "   0   0   0   0   0   1   0   0   0   0   0   0   0   0   0\n",
            "   0   1   1   1   0   0   0   1   0   0   0   0   0   1   0\n",
            "   0   0   0   0   0   1   0   0   0   0   0   0   0   0   0\n",
            "   0   0   0   0   0   0   1   0   0   0   0   1   0   0   0\n",
            "   0   0   0   0   0   0   0   0   0   0   0   0   0   0   0\n",
            "   0   0   0   0   0   0   0   0   0   0   0   0   0   0   0\n",
            "   0   0   0   0   0   0   0   0   0   0   0   0   0   0   1\n",
            "   0   0   0   0   0   0   0   0   0   0   0   0   0   1   0\n",
            "   0   0   0   0   0   0   0   0   0   0   0   1   0   1   0\n",
            "   0   0   0   0   0   0   0   0   0   0   0   0   0   0   1\n",
            "   0   0   0   0   0   0   0   0   0   0   0   1   0   1   0\n",
            "   0   0   0   0   0   0   0   0   0   0   0   0   0   1   0\n",
            "   0   0   0   0   0   0   0   0   0   0   0   0   0   0   0\n",
            "   0   0   0   0   0   0   0   0   0   0   0   0   0   0   0\n",
            "   0   0   0   0   0   0   0   0   0   0   0   0   0   1   0\n"
          ]
        }
      ]
    },
    {
      "cell_type": "code",
      "metadata": {
        "colab": {
          "base_uri": "https://localhost:8080/"
        },
        "id": "Si_-A_ndiDqf",
        "outputId": "c80cdbfc-6fe3-4a7c-fbf0-71fd6a4feca8"
      },
      "source": [
        "pretty_print(visualize_grid(ras.path_followed(), ras.grid))"
      ],
      "execution_count": null,
      "outputs": [
        {
          "output_type": "stream",
          "name": "stdout",
          "text": [
            "*   *   *   *   *   1   0   0   1   0   0   0   0   1   1   \n",
            "0   1   1   1   *   *   *   1   0   0   0   0   0   1   0   \n",
            "0   0   1   0   0   1   *   *   *   *   *   *   *   *   *   \n",
            "1   1   1   0   1   1   1   0   0   0   0   1   0   0   *   \n",
            "1   0   0   0   0   0   0   0   0   1   1   0   1   0   *   \n",
            "0   1   1   0   0   0   0   0   1   0   0   0   0   *   *   \n",
            "1   0   0   0   0   1   0   0   0   0   0   0   *   *   1   \n",
            "0   0   0   0   0   0   0   0   0   0   0   0   *   1   0   \n",
            "0   1   0   0   0   0   0   0   0   0   0   1   *   1   0   \n",
            "0   1   1   1   0   0   0   1   0   0   0   0   *   *   1   \n",
            "0   0   0   0   0   0   0   0   0   0   0   1   *   1   0   \n",
            "0   0   1   0   0   0   0   0   1   0   0   0   *   1   0   \n",
            "0   0   0   0   1   0   0   0   0   0   0   0   *   *   *   \n",
            "0   0   0   0   0   0   1   1   0   0   1   0   0   0   *   \n",
            "0   0   0   0   0   0   0   1   0   0   0   1   0   1   0   \n"
          ]
        }
      ]
    },
    {
      "cell_type": "code",
      "metadata": {
        "colab": {
          "base_uri": "https://localhost:8080/"
        },
        "id": "CbkTZHD0Zp1w",
        "outputId": "c0162064-b696-4b24-dcbc-38c74e2c585b"
      },
      "source": [
        "NUM_ITERS = 25\n",
        "DIM_ROWS, DIM_COLS, P0 = 101, 101, 0.29\n",
        "DENSITIES = np.arange(0, min(P0, 0.33), 0.01)\n",
        "HEURISTIC_FN = \"manhattan\"\n",
        "\n",
        "df_q7 = q7(NUM_ITERS, DIM_ROWS, DIM_COLS, DENSITIES, HEURISTIC_FN)"
      ],
      "execution_count": null,
      "outputs": [
        {
          "output_type": "stream",
          "name": "stderr",
          "text": [
            "100%|██████████| 29/29 [05:37<00:00, 11.63s/it]\n"
          ]
        }
      ]
    },
    {
      "cell_type": "code",
      "metadata": {
        "colab": {
          "base_uri": "https://localhost:8080/",
          "height": 279
        },
        "id": "-kOSwJXdac6U",
        "outputId": "5f94c344-4417-42eb-c647-b68eee1c81c9"
      },
      "source": [
        "sns.lineplot(data=df_q7, x=\"p\", y=\"mean_trajectory_lengths\")\n",
        "plt.show()"
      ],
      "execution_count": null,
      "outputs": [
        {
          "output_type": "display_data",
          "data": {
            "image/png": "[encoded data removed]",
            "text/plain": [
              "<Figure size 432x288 with 1 Axes>"
            ]
          },
          "metadata": {
            "needs_background": "light"
          }
        }
      ]
    },
    {
      "cell_type": "code",
      "metadata": {
        "colab": {
          "base_uri": "https://localhost:8080/",
          "height": 279
        },
        "id": "70cBMl7XfXF0",
        "outputId": "916fe0e1-adfd-493b-c304-cbfce2c14703"
      },
      "source": [
        "sns.lineplot(data=df_q7, x=\"p\", y=\"mean_metric_2\")\n",
        "plt.show()"
      ],
      "execution_count": null,
      "outputs": [
        {
          "output_type": "display_data",
          "data": {
            "image/png": "[encoded data removed]",
            "text/plain": [
              "<Figure size 432x288 with 1 Axes>"
            ]
          },
          "metadata": {
            "needs_background": "light"
          }
        }
      ]
    },
    {
      "cell_type": "code",
      "metadata": {
        "colab": {
          "base_uri": "https://localhost:8080/",
          "height": 279
        },
        "id": "BI86oEs-fcuo",
        "outputId": "b47c985e-3a61-4ca2-e6ef-c9b48f4d0baa"
      },
      "source": [
        "sns.lineplot(data=df_q7, x=\"p\", y=\"mean_metric_3\")\n",
        "plt.show()"
      ],
      "execution_count": null,
      "outputs": [
        {
          "output_type": "display_data",
          "data": {
            "image/png": "[encoded data removed]",
            "text/plain": [
              "<Figure size 432x288 with 1 Axes>"
            ]
          },
          "metadata": {
            "needs_background": "light"
          }
        }
      ]
    },
    {
      "cell_type": "code",
      "metadata": {
        "colab": {
          "base_uri": "https://localhost:8080/",
          "height": 279
        },
        "id": "Y32R-H81fe05",
        "outputId": "899ecb9d-41c9-4ee0-9737-97e3c3551028"
      },
      "source": [
        "sns.lineplot(data=df_q7, x=\"p\", y=\"mean_num_cells_processed\")\n",
        "plt.show()"
      ],
      "execution_count": null,
      "outputs": [
        {
          "output_type": "display_data",
          "data": {
            "image/png": "[encoded data removed]",
            "text/plain": [
              "<Figure size 432x288 with 1 Axes>"
            ]
          },
          "metadata": {
            "needs_background": "light"
          }
        }
      ]
    },
    {
      "cell_type": "code",
      "metadata": {
        "colab": {
          "base_uri": "https://localhost:8080/",
          "height": 206
        },
        "id": "1-N95sTycBoV",
        "outputId": "592955d4-835a-48c7-91c7-aaff32b7ebab"
      },
      "source": [
        "df_q7.tail()"
      ],
      "execution_count": null,
      "outputs": [
        {
          "output_type": "execute_result",
          "data": {
            "text/html": [
              "<div>\n",
              "<style scoped>\n",
              "    .dataframe tbody tr th:only-of-type {\n",
              "        vertical-align: middle;\n",
              "    }\n",
              "\n",
              "    .dataframe tbody tr th {\n",
              "        vertical-align: top;\n",
              "    }\n",
              "\n",
              "    .dataframe thead th {\n",
              "        text-align: right;\n",
              "    }\n",
              "</style>\n",
              "<table border=\"1\" class=\"dataframe\">\n",
              "  <thead>\n",
              "    <tr style=\"text-align: right;\">\n",
              "      <th></th>\n",
              "      <th>p</th>\n",
              "      <th>mean_trajectory_lengths</th>\n",
              "      <th>mean_metric_2</th>\n",
              "      <th>mean_metric_3</th>\n",
              "      <th>mean_num_cells_processed</th>\n",
              "    </tr>\n",
              "  </thead>\n",
              "  <tbody>\n",
              "    <tr>\n",
              "      <th>24</th>\n",
              "      <td>0.24</td>\n",
              "      <td>290.08</td>\n",
              "      <td>1.291868</td>\n",
              "      <td>1.118209</td>\n",
              "      <td>7430.04</td>\n",
              "    </tr>\n",
              "    <tr>\n",
              "      <th>25</th>\n",
              "      <td>0.25</td>\n",
              "      <td>304.80</td>\n",
              "      <td>1.335724</td>\n",
              "      <td>1.131557</td>\n",
              "      <td>8482.24</td>\n",
              "    </tr>\n",
              "    <tr>\n",
              "      <th>26</th>\n",
              "      <td>0.26</td>\n",
              "      <td>323.68</td>\n",
              "      <td>1.358830</td>\n",
              "      <td>1.179791</td>\n",
              "      <td>9177.40</td>\n",
              "    </tr>\n",
              "    <tr>\n",
              "      <th>27</th>\n",
              "      <td>0.27</td>\n",
              "      <td>344.16</td>\n",
              "      <td>1.443673</td>\n",
              "      <td>1.176855</td>\n",
              "      <td>10652.88</td>\n",
              "    </tr>\n",
              "    <tr>\n",
              "      <th>28</th>\n",
              "      <td>0.28</td>\n",
              "      <td>359.44</td>\n",
              "      <td>1.472382</td>\n",
              "      <td>1.209029</td>\n",
              "      <td>10986.52</td>\n",
              "    </tr>\n",
              "  </tbody>\n",
              "</table>\n",
              "</div>"
            ],
            "text/plain": [
              "       p  mean_trajectory_lengths  ...  mean_metric_3  mean_num_cells_processed\n",
              "24  0.24                   290.08  ...       1.118209                   7430.04\n",
              "25  0.25                   304.80  ...       1.131557                   8482.24\n",
              "26  0.26                   323.68  ...       1.179791                   9177.40\n",
              "27  0.27                   344.16  ...       1.176855                  10652.88\n",
              "28  0.28                   359.44  ...       1.209029                  10986.52\n",
              "\n",
              "[5 rows x 5 columns]"
            ]
          },
          "metadata": {},
          "execution_count": 73
        }
      ]
    },
    {
      "cell_type": "code",
      "metadata": {
        "id": "-L5D5NSepFEK"
      },
      "source": [
        "df_q7.to_csv(\"q7_metrics.csv\")"
      ],
      "execution_count": null,
      "outputs": []
    },
    {
      "cell_type": "markdown",
      "metadata": {
        "id": "h4FKaEXYjLRO"
      },
      "source": [
        "**Question 8: Improvements** Repeated A-Star may suffer in that the best place to re-start A-Star from may not be where you currently are - for instance if you are at the dead end of a long hallway, you can save some effort by backtracking to the end of the hallway (recycling information you already have) before restarting the A-Star search. By changing where you restart the search process, can you cut down the overall runtime? What effect does this have on the overall trajectory (given that you have to travel between the current position and the new initial search position)?"
      ]
    },
    {
      "cell_type": "code",
      "metadata": {
        "colab": {
          "base_uri": "https://localhost:8080/"
        },
        "id": "8Ny7apBOjV0_",
        "outputId": "485d6e84-a1be-4c4b-d53b-2c099f37c3fc"
      },
      "source": [
        "NUM_ITERS = 100\n",
        "DIM_ROWS, DIM_COLS = 101, 101\n",
        "DENSITY = 0.2\n",
        "HEURISTIC_FN = \"manhattan\"\n",
        "\n",
        "times, num_cells_processed, paths, path_lengths, backtracks = [], [], [], [], []\n",
        "\n",
        "for i in tqdm(range(NUM_ITERS)):\n",
        "  \n",
        "  ras, time_taken = test_repeated_a_star_search_random((DIM_ROWS, DIM_COLS), DENSITY, HEURISTIC_FN, escape_tunnels=True)\n",
        "\n",
        "  try:\n",
        "    soln = ras.path_followed()\n",
        "  except:\n",
        "    continue\n",
        "\n",
        "  times.append(time_taken)\n",
        "  num_cells_processed.append(ras.total_cells_processed())\n",
        "\n",
        "  total_path_length = len(soln) + ras.total_backtracked_cells()\n",
        "\n",
        "  path_lengths.append(total_path_length)\n",
        "  paths.append(soln)\n",
        "  backtracks.append(ras.total_backtracked_cells())"
      ],
      "execution_count": null,
      "outputs": [
        {
          "output_type": "stream",
          "name": "stderr",
          "text": [
            "100%|██████████| 100/100 [00:44<00:00,  2.23it/s]\n"
          ]
        }
      ]
    },
    {
      "cell_type": "code",
      "metadata": {
        "id": "EzIaQByR8uVV"
      },
      "source": [
        "df_res = pd.DataFrame({ \"time_taken\": times, \n",
        "                       \"num_cells_processed\": num_cells_processed, \n",
        "                       \"path_length\": path_lengths,\n",
        "                       \"backtracked_cells\": backtracks})"
      ],
      "execution_count": null,
      "outputs": []
    },
    {
      "cell_type": "code",
      "metadata": {
        "colab": {
          "base_uri": "https://localhost:8080/",
          "height": 266
        },
        "id": "26Vtyk9fLJ9C",
        "outputId": "6fb668fe-da45-472a-e747-a436faa88076"
      },
      "source": [
        "df_res[['time_taken']].boxplot()\n",
        "plt.show()"
      ],
      "execution_count": null,
      "outputs": [
        {
          "output_type": "display_data",
          "data": {
            "image/png": "[encoded data removed]",
            "text/plain": [
              "<Figure size 432x288 with 1 Axes>"
            ]
          },
          "metadata": {
            "needs_background": "light"
          }
        }
      ]
    },
    {
      "cell_type": "code",
      "metadata": {
        "colab": {
          "base_uri": "https://localhost:8080/",
          "height": 266
        },
        "id": "fM544OruMDLw",
        "outputId": "3c42ee11-148a-4cd0-ecb0-aeba0565d8b4"
      },
      "source": [
        "df_res[['backtracked_cells']].boxplot()\n",
        "plt.show()"
      ],
      "execution_count": null,
      "outputs": [
        {
          "output_type": "display_data",
          "data": {
            "image/png": "[encoded data removed]",
            "text/plain": [
              "<Figure size 432x288 with 1 Axes>"
            ]
          },
          "metadata": {
            "needs_background": "light"
          }
        }
      ]
    },
    {
      "cell_type": "code",
      "metadata": {
        "id": "yOef4wrSMMXJ"
      },
      "source": [
        "t0 = time.time()\n",
        "ras1 = test_repeated_a_star_search_custom(escape_tunnels=True)\n",
        "t1 = time.time()\n",
        "# ras2 = test_repeated_a_star_search_custom(escape_tunnels=False)\n",
        "# t2 = time.time()"
      ],
      "execution_count": null,
      "outputs": []
    },
    {
      "cell_type": "code",
      "metadata": {
        "colab": {
          "base_uri": "https://localhost:8080/"
        },
        "id": "bogssbj_ctoi",
        "outputId": "3a91b7ef-8d75-44db-c9a0-7ab258e43815"
      },
      "source": [
        "t1 - t0, t2 - t1"
      ],
      "execution_count": null,
      "outputs": [
        {
          "output_type": "execute_result",
          "data": {
            "text/plain": [
              "(0.01132512092590332, 0.006374359130859375)"
            ]
          },
          "metadata": {},
          "execution_count": 121
        }
      ]
    },
    {
      "cell_type": "code",
      "metadata": {
        "colab": {
          "base_uri": "https://localhost:8080/"
        },
        "id": "r1WWBWM1MSFf",
        "outputId": "ad93ceae-cad3-460d-fb6e-36d2e2e83524"
      },
      "source": [
        "ras1.backtracks"
      ],
      "execution_count": null,
      "outputs": [
        {
          "output_type": "execute_result",
          "data": {
            "text/plain": [
              "[]"
            ]
          },
          "metadata": {},
          "execution_count": 122
        }
      ]
    },
    {
      "cell_type": "markdown",
      "metadata": {
        "id": "Tew2OH4ojbrg"
      },
      "source": [
        "**Question 9: Heuristics** A-Star can frequently be sped up by the use of inadmissible heuristics - for instance weighted heuristics or combinations of heuristics. These can cut down on runtime potentially at the cost of path length. Can this be applied here? What is the effect of weighted heuristics on runtime and overall trajectory? Try to reduce the runtime as much as possible without too much cost to trajectory length."
      ]
    },
    {
      "cell_type": "code",
      "metadata": {
        "colab": {
          "base_uri": "https://localhost:8080/"
        },
        "id": "vYGjrIxyjinI",
        "outputId": "aab3b0c0-97b6-4ae2-b651-2149089a5ce4"
      },
      "source": [
        "EPSILONS = np.arange(0, 10, 0.1)\n",
        "DIM_ROWS, DIM_COLS = 101, 101\n",
        "DENSITY = 0.2\n",
        "HEURISTIC_FN = \"manhattan\"\n",
        "\n",
        "grid = generate_gridworld((DIM_ROWS, DIM_COLS), DENSITY)\n",
        "\n",
        "times, num_cells_processed, paths, path_lengths = [], [], [], []\n",
        "\n",
        "for i in tqdm(range(len(EPSILONS))):\n",
        "  e = EPSILONS[i]\n",
        "\n",
        "  soln, exit_status, num_cells_popped = \\\n",
        "    a_star_search((0, 0), (grid.shape[0]-1, grid.shape[1]-1), grid, \n",
        "                  \"manhattan\", np.zeros(grid.shape), grid.copy(), epsilon=1.)\n",
        "    \n",
        "  if exit_status != \"SUCCESS\":\n",
        "    print(\"Unsolvable grid, rerun cell!\")\n",
        "    break\n",
        "\n",
        "  t0 = time.time()\n",
        "\n",
        "  soln, exit_status, num_cells_popped = \\\n",
        "    a_star_search((0, 0), (grid.shape[0]-1, grid.shape[1]-1), grid, \n",
        "                  \"manhattan\", np.zeros(grid.shape), grid.copy(), epsilon=e)  \n",
        "  \n",
        "  time_taken = time.time() - t0\n",
        "\n",
        "  times.append(time_taken)\n",
        "  num_cells_processed.append(num_cells_popped)\n",
        "  path_lengths.append(len(soln))\n",
        "  paths.append(soln)\n",
        "\n",
        "# print(len(EPSILONS))\n",
        "# print(len(times))\n",
        "# print(len(num_cells_processed))\n",
        "# print(len(path_lengths))\n",
        "\n",
        "df_res = pd.DataFrame({\"epsilon\": EPSILONS, \"time_taken\": times, \"num_cells_processed\": num_cells_processed, \"path_length\": path_lengths})"
      ],
      "execution_count": null,
      "outputs": [
        {
          "output_type": "stream",
          "name": "stderr",
          "text": [
            "100%|██████████| 100/100 [00:12<00:00,  8.07it/s]\n"
          ]
        }
      ]
    },
    {
      "cell_type": "code",
      "metadata": {
        "colab": {
          "base_uri": "https://localhost:8080/",
          "height": 280
        },
        "id": "0rYLA6OonOjt",
        "outputId": "8c0dc594-c5e3-4807-aeeb-83579736f527"
      },
      "source": [
        "fig, (ax1, ax2, ax3) = plt.subplots(ncols=3, )\n",
        "sns.lineplot(data=df_res, x=\"epsilon\", y=\"time_taken\", ax=ax1)\n",
        "sns.lineplot(data=df_res, x=\"epsilon\", y=\"num_cells_processed\", ax=ax2)\n",
        "sns.lineplot(data=df_res, x=\"epsilon\", y=\"path_length\", ax=ax3)\n",
        "plt.subplots_adjust(hspace = 2.5)\n",
        "plt.show()"
      ],
      "execution_count": null,
      "outputs": [
        {
          "output_type": "display_data",
          "data": {
            "image/png": "[encoded data removed]",
            "text/plain": [
              "<Figure size 432x288 with 3 Axes>"
            ]
          },
          "metadata": {
            "needs_background": "light"
          }
        }
      ]
    },
    {
      "cell_type": "code",
      "metadata": {
        "colab": {
          "base_uri": "https://localhost:8080/",
          "height": 279
        },
        "id": "4tCBiOceuR7l",
        "outputId": "a6fe3199-91bb-4dff-c4df-50ff37107a04"
      },
      "source": [
        "sns.lineplot(data=df_res, x=\"epsilon\", y=\"time_taken\")\n",
        "plt.show()"
      ],
      "execution_count": null,
      "outputs": [
        {
          "output_type": "display_data",
          "data": {
            "image/png": "[encoded data removed]",
            "text/plain": [
              "<Figure size 432x288 with 1 Axes>"
            ]
          },
          "metadata": {
            "needs_background": "light"
          }
        }
      ]
    },
    {
      "cell_type": "code",
      "metadata": {
        "colab": {
          "base_uri": "https://localhost:8080/",
          "height": 279
        },
        "id": "sXVrV4BguUFx",
        "outputId": "e9b87736-3d7d-4ca4-af93-604ed7598449"
      },
      "source": [
        "sns.lineplot(data=df_res, x=\"epsilon\", y=\"num_cells_processed\")\n",
        "plt.show()"
      ],
      "execution_count": null,
      "outputs": [
        {
          "output_type": "display_data",
          "data": {
            "image/png": "[encoded data removed]",
            "text/plain": [
              "<Figure size 432x288 with 1 Axes>"
            ]
          },
          "metadata": {
            "needs_background": "light"
          }
        }
      ]
    },
    {
      "cell_type": "code",
      "metadata": {
        "colab": {
          "base_uri": "https://localhost:8080/",
          "height": 280
        },
        "id": "EqutjNtTwo3d",
        "outputId": "d0be04b1-f75a-4de1-d27b-adff7662134e"
      },
      "source": [
        "sns.lineplot(data=df_res, x=\"epsilon\", y=\"path_length\")\n",
        "plt.show()"
      ],
      "execution_count": null,
      "outputs": [
        {
          "output_type": "display_data",
          "data": {
            "image/png": "[encoded data removed]",
            "text/plain": [
              "<Figure size 432x288 with 1 Axes>"
            ]
          },
          "metadata": {
            "needs_background": "light"
          }
        }
      ]
    },
    {
      "cell_type": "code",
      "metadata": {
        "colab": {
          "base_uri": "https://localhost:8080/",
          "height": 410
        },
        "id": "eSMsyctEwrXV",
        "outputId": "c387d617-7b0e-472b-f6b2-0ca49cbc1f5d"
      },
      "source": [
        "EPSILONS = np.arange(0, 10, 0.5)\n",
        "DIM_ROWS, DIM_COLS = 101, 101\n",
        "DENSITY = 0.2\n",
        "HEURISTIC_FN = \"manhattan\"\n",
        "\n",
        "grid = generate_gridworld((DIM_ROWS, DIM_COLS), DENSITY)\n",
        "\n",
        "_, exit_status, _ = \\\n",
        "    a_star_search((0, 0), (grid.shape[0]-1, grid.shape[1]-1), grid, \n",
        "                  \"manhattan\", np.zeros(grid.shape), grid.copy(), epsilon=1.)\n",
        "    \n",
        "if exit_status != \"SUCCESS\":\n",
        "  print(\"Not solvable!\")\n",
        "\n",
        "\n",
        "times, num_cells_processed, paths, path_lengths = [], [], [], []\n",
        "\n",
        "for i in tqdm(range(len(EPSILONS))):\n",
        "  e = EPSILONS[i]\n",
        "\n",
        "  t0 = time.time()\n",
        "\n",
        "  ras = RepeatedAStar(grid, epsilon=e)\n",
        "  ras.search((0, 0), (grid.shape[0]-1, grid.shape[1]-1), grid, \"manhattan\")\n",
        "  \n",
        "  time_taken = time.time() - t0\n",
        "\n",
        "  times.append(time_taken)\n",
        "  num_cells_processed.append(ras.total_cells_processed())\n",
        "\n",
        "  soln = ras.path_followed()\n",
        "\n",
        "  path_lengths.append(len(soln))\n",
        "  paths.append(soln)\n",
        "\n",
        "df_res = pd.DataFrame({\"epsilon\": EPSILONS, \"time_taken\": times, \"num_cells_processed\": num_cells_processed, \"path_length\": path_lengths})"
      ],
      "execution_count": null,
      "outputs": [
        {
          "output_type": "stream",
          "name": "stderr",
          "text": [
            "  0%|          | 0/20 [00:00<?, ?it/s]\n"
          ]
        },
        {
          "output_type": "error",
          "ename": "ValueError",
          "evalue": "ignored",
          "traceback": [
            "\u001b[0;31m---------------------------------------------------------------------------\u001b[0m",
            "\u001b[0;31mValueError\u001b[0m                                Traceback (most recent call last)",
            "\u001b[0;32m<ipython-input-99-499b62f7d3e9>\u001b[0m in \u001b[0;36m<module>\u001b[0;34m()\u001b[0m\n\u001b[1;32m     28\u001b[0m   \u001b[0mnum_cells_processed\u001b[0m\u001b[0;34m.\u001b[0m\u001b[0mappend\u001b[0m\u001b[0;34m(\u001b[0m\u001b[0mras\u001b[0m\u001b[0;34m.\u001b[0m\u001b[0mtotal_cells_processed\u001b[0m\u001b[0;34m(\u001b[0m\u001b[0;34m)\u001b[0m\u001b[0;34m)\u001b[0m\u001b[0;34m\u001b[0m\u001b[0;34m\u001b[0m\u001b[0m\n\u001b[1;32m     29\u001b[0m \u001b[0;34m\u001b[0m\u001b[0m\n\u001b[0;32m---> 30\u001b[0;31m   \u001b[0msoln\u001b[0m \u001b[0;34m=\u001b[0m \u001b[0mras\u001b[0m\u001b[0;34m.\u001b[0m\u001b[0mpath_followed\u001b[0m\u001b[0;34m(\u001b[0m\u001b[0;34m)\u001b[0m\u001b[0;34m\u001b[0m\u001b[0;34m\u001b[0m\u001b[0m\n\u001b[0m\u001b[1;32m     31\u001b[0m \u001b[0;34m\u001b[0m\u001b[0m\n\u001b[1;32m     32\u001b[0m   \u001b[0mpath_lengths\u001b[0m\u001b[0;34m.\u001b[0m\u001b[0mappend\u001b[0m\u001b[0;34m(\u001b[0m\u001b[0mlen\u001b[0m\u001b[0;34m(\u001b[0m\u001b[0msoln\u001b[0m\u001b[0;34m)\u001b[0m\u001b[0;34m)\u001b[0m\u001b[0;34m\u001b[0m\u001b[0;34m\u001b[0m\u001b[0m\n",
            "\u001b[0;32m<ipython-input-35-068f7d358555>\u001b[0m in \u001b[0;36mpath_followed\u001b[0;34m(self)\u001b[0m\n\u001b[1;32m     83\u001b[0m       \u001b[0;31m# Get index of end node in path\u001b[0m\u001b[0;34m\u001b[0m\u001b[0;34m\u001b[0m\u001b[0;34m\u001b[0m\u001b[0m\n\u001b[1;32m     84\u001b[0m       \u001b[0m_\u001b[0m\u001b[0;34m,\u001b[0m \u001b[0mend_node\u001b[0m \u001b[0;34m=\u001b[0m \u001b[0mself\u001b[0m\u001b[0;34m.\u001b[0m\u001b[0mstart_end_snaps\u001b[0m\u001b[0;34m[\u001b[0m\u001b[0mi\u001b[0m\u001b[0;34m]\u001b[0m\u001b[0;34m\u001b[0m\u001b[0;34m\u001b[0m\u001b[0m\n\u001b[0;32m---> 85\u001b[0;31m       \u001b[0mend_index\u001b[0m \u001b[0;34m=\u001b[0m \u001b[0mself\u001b[0m\u001b[0;34m.\u001b[0m\u001b[0msol_snaps\u001b[0m\u001b[0;34m[\u001b[0m\u001b[0mi\u001b[0m\u001b[0;34m]\u001b[0m\u001b[0;34m.\u001b[0m\u001b[0mindex\u001b[0m\u001b[0;34m(\u001b[0m\u001b[0mend_node\u001b[0m\u001b[0;34m)\u001b[0m\u001b[0;34m\u001b[0m\u001b[0;34m\u001b[0m\u001b[0m\n\u001b[0m\u001b[1;32m     86\u001b[0m \u001b[0;34m\u001b[0m\u001b[0m\n\u001b[1;32m     87\u001b[0m       \u001b[0;31m# Clip the array according to end index and append to parent array\u001b[0m\u001b[0;34m\u001b[0m\u001b[0;34m\u001b[0m\u001b[0;34m\u001b[0m\u001b[0m\n",
            "\u001b[0;31mValueError\u001b[0m: None is not in list"
          ]
        }
      ]
    },
    {
      "cell_type": "code",
      "metadata": {
        "colab": {
          "base_uri": "https://localhost:8080/",
          "height": 282
        },
        "id": "2ndf7jTQxqCS",
        "outputId": "90477a03-fe66-440c-85a4-2d4834b835bf"
      },
      "source": [
        "sns.lineplot(data=df_res, x=\"epsilon\", y=\"time_taken\")\n",
        "plt.show()"
      ],
      "execution_count": null,
      "outputs": [
        {
          "output_type": "display_data",
          "data": {
            "image/png": "[encoded data removed]",
            "text/plain": [
              "<Figure size 432x288 with 1 Axes>"
            ]
          },
          "metadata": {
            "needs_background": "light"
          }
        }
      ]
    },
    {
      "cell_type": "code",
      "metadata": {
        "colab": {
          "base_uri": "https://localhost:8080/",
          "height": 279
        },
        "id": "sbNz-C_zx7LQ",
        "outputId": "4b7af0d7-9acd-41d6-e9f9-a2009d3be689"
      },
      "source": [
        "sns.lineplot(data=df_res, x=\"epsilon\", y=\"num_cells_processed\")\n",
        "plt.show()"
      ],
      "execution_count": null,
      "outputs": [
        {
          "output_type": "display_data",
          "data": {
            "image/png": "[encoded data removed]",
            "text/plain": [
              "<Figure size 432x288 with 1 Axes>"
            ]
          },
          "metadata": {
            "needs_background": "light"
          }
        }
      ]
    },
    {
      "cell_type": "code",
      "metadata": {
        "colab": {
          "base_uri": "https://localhost:8080/",
          "height": 279
        },
        "id": "mjdRmU4yyJkA",
        "outputId": "1c8df817-2ac8-4734-aa54-0b779c03a182"
      },
      "source": [
        "sns.lineplot(data=df_res, x=\"epsilon\", y=\"path_length\")\n",
        "plt.show()"
      ],
      "execution_count": null,
      "outputs": [
        {
          "output_type": "display_data",
          "data": {
            "image/png": "[encoded data removed]",
            "text/plain": [
              "<Figure size 432x288 with 1 Axes>"
            ]
          },
          "metadata": {
            "needs_background": "light"
          }
        }
      ]
    },
    {
      "cell_type": "code",
      "metadata": {
        "colab": {
          "base_uri": "https://localhost:8080/",
          "height": 410
        },
        "id": "55_lMPLEyMap",
        "outputId": "1f3c8b9b-6105-4c35-9763-1cc53ecc5a25"
      },
      "source": [
        "EPSILONS = np.arange(1, 10, 0.1)\n",
        "DIM_ROWS, DIM_COLS = 15, 15\n",
        "DENSITY = 0.2\n",
        "HEURISTIC_FN = \"manhattan\"\n",
        "\n",
        "times, num_cells_processed, paths, path_lengths, statuses = [], [], [], [], []\n",
        "\n",
        "for i in tqdm(range(len(EPSILONS))):\n",
        "  e = EPSILONS[i]\n",
        "\n",
        "  grid = generate_gridworld((DIM_ROWS, DIM_COLS), DENSITY)\n",
        "\n",
        "  t0 = time.time()\n",
        "\n",
        "  ras = RepeatedAStar(grid, epsilon=e)\n",
        "  ras.search((0, 0), (grid.shape[0]-1, grid.shape[1]-1), grid, \"manhattan\")\n",
        "  \n",
        "  time_taken = time.time() - t0\n",
        "\n",
        "  times.append(time_taken)\n",
        "  num_cells_processed.append(ras.total_cells_processed())\n",
        "\n",
        "  soln = ras.path_followed()\n",
        "\n",
        "  path_lengths.append(len(soln))\n",
        "  paths.append(soln)\n",
        "  statuses.append(ras.successfully_completed)\n",
        "\n",
        "df_res = pd.DataFrame({\"epsilon\": EPSILONS, \"time_taken\": times, \"num_cells_processed\": num_cells_processed, \"path_length\": path_lengths})"
      ],
      "execution_count": null,
      "outputs": [
        {
          "output_type": "stream",
          "name": "stderr",
          "text": [
            "  7%|▋         | 6/90 [00:00<00:01, 61.61it/s]\n"
          ]
        },
        {
          "output_type": "error",
          "ename": "ValueError",
          "evalue": "ignored",
          "traceback": [
            "\u001b[0;31m---------------------------------------------------------------------------\u001b[0m",
            "\u001b[0;31mValueError\u001b[0m                                Traceback (most recent call last)",
            "\u001b[0;32m<ipython-input-112-0a13cf20b816>\u001b[0m in \u001b[0;36m<module>\u001b[0;34m()\u001b[0m\n\u001b[1;32m     21\u001b[0m   \u001b[0mnum_cells_processed\u001b[0m\u001b[0;34m.\u001b[0m\u001b[0mappend\u001b[0m\u001b[0;34m(\u001b[0m\u001b[0mras\u001b[0m\u001b[0;34m.\u001b[0m\u001b[0mtotal_cells_processed\u001b[0m\u001b[0;34m(\u001b[0m\u001b[0;34m)\u001b[0m\u001b[0;34m)\u001b[0m\u001b[0;34m\u001b[0m\u001b[0;34m\u001b[0m\u001b[0m\n\u001b[1;32m     22\u001b[0m \u001b[0;34m\u001b[0m\u001b[0m\n\u001b[0;32m---> 23\u001b[0;31m   \u001b[0msoln\u001b[0m \u001b[0;34m=\u001b[0m \u001b[0mras\u001b[0m\u001b[0;34m.\u001b[0m\u001b[0mpath_followed\u001b[0m\u001b[0;34m(\u001b[0m\u001b[0;34m)\u001b[0m\u001b[0;34m\u001b[0m\u001b[0;34m\u001b[0m\u001b[0m\n\u001b[0m\u001b[1;32m     24\u001b[0m \u001b[0;34m\u001b[0m\u001b[0m\n\u001b[1;32m     25\u001b[0m   \u001b[0mpath_lengths\u001b[0m\u001b[0;34m.\u001b[0m\u001b[0mappend\u001b[0m\u001b[0;34m(\u001b[0m\u001b[0mlen\u001b[0m\u001b[0;34m(\u001b[0m\u001b[0msoln\u001b[0m\u001b[0;34m)\u001b[0m\u001b[0;34m)\u001b[0m\u001b[0;34m\u001b[0m\u001b[0;34m\u001b[0m\u001b[0m\n",
            "\u001b[0;32m<ipython-input-35-068f7d358555>\u001b[0m in \u001b[0;36mpath_followed\u001b[0;34m(self)\u001b[0m\n\u001b[1;32m     83\u001b[0m       \u001b[0;31m# Get index of end node in path\u001b[0m\u001b[0;34m\u001b[0m\u001b[0;34m\u001b[0m\u001b[0;34m\u001b[0m\u001b[0m\n\u001b[1;32m     84\u001b[0m       \u001b[0m_\u001b[0m\u001b[0;34m,\u001b[0m \u001b[0mend_node\u001b[0m \u001b[0;34m=\u001b[0m \u001b[0mself\u001b[0m\u001b[0;34m.\u001b[0m\u001b[0mstart_end_snaps\u001b[0m\u001b[0;34m[\u001b[0m\u001b[0mi\u001b[0m\u001b[0;34m]\u001b[0m\u001b[0;34m\u001b[0m\u001b[0;34m\u001b[0m\u001b[0m\n\u001b[0;32m---> 85\u001b[0;31m       \u001b[0mend_index\u001b[0m \u001b[0;34m=\u001b[0m \u001b[0mself\u001b[0m\u001b[0;34m.\u001b[0m\u001b[0msol_snaps\u001b[0m\u001b[0;34m[\u001b[0m\u001b[0mi\u001b[0m\u001b[0;34m]\u001b[0m\u001b[0;34m.\u001b[0m\u001b[0mindex\u001b[0m\u001b[0;34m(\u001b[0m\u001b[0mend_node\u001b[0m\u001b[0;34m)\u001b[0m\u001b[0;34m\u001b[0m\u001b[0;34m\u001b[0m\u001b[0m\n\u001b[0m\u001b[1;32m     86\u001b[0m \u001b[0;34m\u001b[0m\u001b[0m\n\u001b[1;32m     87\u001b[0m       \u001b[0;31m# Clip the array according to end index and append to parent array\u001b[0m\u001b[0;34m\u001b[0m\u001b[0;34m\u001b[0m\u001b[0;34m\u001b[0m\u001b[0m\n",
            "\u001b[0;31mValueError\u001b[0m: None is not in list"
          ]
        }
      ]
    },
    {
      "cell_type": "code",
      "metadata": {
        "colab": {
          "base_uri": "https://localhost:8080/",
          "height": 424
        },
        "id": "4MFf6rbfovDH",
        "outputId": "e47cf379-4f4b-4c32-cba9-3f346dd73985"
      },
      "source": [
        "df_res"
      ],
      "execution_count": null,
      "outputs": [
        {
          "output_type": "execute_result",
          "data": {
            "text/html": [
              "<div>\n",
              "<style scoped>\n",
              "    .dataframe tbody tr th:only-of-type {\n",
              "        vertical-align: middle;\n",
              "    }\n",
              "\n",
              "    .dataframe tbody tr th {\n",
              "        vertical-align: top;\n",
              "    }\n",
              "\n",
              "    .dataframe thead th {\n",
              "        text-align: right;\n",
              "    }\n",
              "</style>\n",
              "<table border=\"1\" class=\"dataframe\">\n",
              "  <thead>\n",
              "    <tr style=\"text-align: right;\">\n",
              "      <th></th>\n",
              "      <th>epsilon</th>\n",
              "      <th>time_taken</th>\n",
              "      <th>num_cells_processed</th>\n",
              "      <th>path_length</th>\n",
              "    </tr>\n",
              "  </thead>\n",
              "  <tbody>\n",
              "    <tr>\n",
              "      <th>0</th>\n",
              "      <td>1.0</td>\n",
              "      <td>0.010759</td>\n",
              "      <td>160</td>\n",
              "      <td>36</td>\n",
              "    </tr>\n",
              "    <tr>\n",
              "      <th>1</th>\n",
              "      <td>1.1</td>\n",
              "      <td>0.009702</td>\n",
              "      <td>160</td>\n",
              "      <td>36</td>\n",
              "    </tr>\n",
              "    <tr>\n",
              "      <th>2</th>\n",
              "      <td>1.2</td>\n",
              "      <td>0.010705</td>\n",
              "      <td>160</td>\n",
              "      <td>36</td>\n",
              "    </tr>\n",
              "    <tr>\n",
              "      <th>3</th>\n",
              "      <td>1.3</td>\n",
              "      <td>0.009733</td>\n",
              "      <td>160</td>\n",
              "      <td>36</td>\n",
              "    </tr>\n",
              "    <tr>\n",
              "      <th>4</th>\n",
              "      <td>1.4</td>\n",
              "      <td>0.010309</td>\n",
              "      <td>160</td>\n",
              "      <td>36</td>\n",
              "    </tr>\n",
              "    <tr>\n",
              "      <th>...</th>\n",
              "      <td>...</td>\n",
              "      <td>...</td>\n",
              "      <td>...</td>\n",
              "      <td>...</td>\n",
              "    </tr>\n",
              "    <tr>\n",
              "      <th>85</th>\n",
              "      <td>9.5</td>\n",
              "      <td>0.009102</td>\n",
              "      <td>160</td>\n",
              "      <td>36</td>\n",
              "    </tr>\n",
              "    <tr>\n",
              "      <th>86</th>\n",
              "      <td>9.6</td>\n",
              "      <td>0.009721</td>\n",
              "      <td>160</td>\n",
              "      <td>36</td>\n",
              "    </tr>\n",
              "    <tr>\n",
              "      <th>87</th>\n",
              "      <td>9.7</td>\n",
              "      <td>0.013407</td>\n",
              "      <td>160</td>\n",
              "      <td>36</td>\n",
              "    </tr>\n",
              "    <tr>\n",
              "      <th>88</th>\n",
              "      <td>9.8</td>\n",
              "      <td>0.011967</td>\n",
              "      <td>160</td>\n",
              "      <td>36</td>\n",
              "    </tr>\n",
              "    <tr>\n",
              "      <th>89</th>\n",
              "      <td>9.9</td>\n",
              "      <td>0.009459</td>\n",
              "      <td>160</td>\n",
              "      <td>36</td>\n",
              "    </tr>\n",
              "  </tbody>\n",
              "</table>\n",
              "<p>90 rows × 4 columns</p>\n",
              "</div>"
            ],
            "text/plain": [
              "    epsilon  time_taken  num_cells_processed  path_length\n",
              "0       1.0    0.010759                  160           36\n",
              "1       1.1    0.009702                  160           36\n",
              "2       1.2    0.010705                  160           36\n",
              "3       1.3    0.009733                  160           36\n",
              "4       1.4    0.010309                  160           36\n",
              "..      ...         ...                  ...          ...\n",
              "85      9.5    0.009102                  160           36\n",
              "86      9.6    0.009721                  160           36\n",
              "87      9.7    0.013407                  160           36\n",
              "88      9.8    0.011967                  160           36\n",
              "89      9.9    0.009459                  160           36\n",
              "\n",
              "[90 rows x 4 columns]"
            ]
          },
          "metadata": {},
          "execution_count": 108
        }
      ]
    },
    {
      "cell_type": "code",
      "metadata": {
        "id": "crXMgWYP0vUv"
      },
      "source": [
        "pretty_print(grid)\n",
        "print(\"\\n\")\n",
        "\n",
        "for i in range(len(EPSILONS)):\n",
        "  print(\"epsilon =\", EPSILONS[i])\n",
        "  pretty_print(visualize_grid(paths[i], grid))\n",
        "  print(\"\\n\")"
      ],
      "execution_count": null,
      "outputs": []
    },
    {
      "cell_type": "markdown",
      "metadata": {
        "id": "SVUiYnKlnuQa"
      },
      "source": [
        "**Extra Credit**: Repeat Q6, Q7, using Repeated BFS instead of Repeated A*. Compare the two approaches. Is Repeated BFS ever preferable? Why or why not? Be as thorough and as explicit as possible."
      ]
    },
    {
      "cell_type": "code",
      "metadata": {
        "id": "UfNJ46bo1OJF"
      },
      "source": [
        "class Node:\n",
        "  \n",
        "  def __init__(self, parent=None, position=None, ):\n",
        "    \"\"\" Represents a Node in the BFS search tree. \"\"\"\n",
        "\n",
        "    self.parent = parent\n",
        "    self.position = position\n",
        "  \n",
        "  def __eq__(self,other):\n",
        "    \"\"\" For Node comparison. \"\"\"\n",
        "    if type(self) != type(other):\n",
        "      return False\n",
        "\n",
        "    return self.position == other.position\n",
        "  \n",
        "\n",
        "\n",
        "\n",
        "def is_unvisited_and_unblocked(coords, state):\n",
        "  \"\"\"Removes visited and blocked cells\"\"\"\n",
        "\n",
        "  x, y = coords\n",
        "  knowledge, visited= state\n",
        "\n",
        "  if knowledge[x][y] != 0 or visited[x][y] != 0 :\n",
        "    return False\n",
        "\n",
        "  return True\n",
        "\n",
        "def neighbourhood(coords, num_rows, num_cols):\n",
        "  # Get possible cells\n",
        "  x, y = coords\n",
        "  possible_cells = [(x-1, y), (x, y-1), (x+1, y), (x, y+1)]\n",
        "\n",
        "  # Remove cells outside boundaries\n",
        "  possible_cells = [cell for cell in possible_cells if cell[0] >= 0 and cell[1] >= 0 and cell[0] <= num_rows-1 and cell[1] <= num_cols-1]\n",
        "\n",
        "  return possible_cells\n",
        "\n",
        "\n",
        "def get_valid_children(coords, parent, num_rows, num_cols, state):\n",
        "  \"\"\"Assume grid: [(0, 0) -> (num_rows-1, num_cols-1)]\"\"\"\n",
        "\n",
        "  # Get all possible children\n",
        "  nbhd = neighbourhood(coords, num_rows, num_cols)\n",
        "\n",
        "  if parent is not None:\n",
        "    nbhd = [x for x in nbhd if x != parent.position]\n",
        "\n",
        "  # Remove known blocked and visited cells\n",
        "  valid_children = [cell for cell in nbhd if is_unvisited_and_unblocked(cell, state)]\n",
        "\n",
        "  return valid_children"
      ],
      "execution_count": null,
      "outputs": []
    },
    {
      "cell_type": "code",
      "metadata": {
        "id": "2I1lVlc_nkyd"
      },
      "source": [
        "def grid_path(current_node):\n",
        "    \"\"\" Recursively finds the path from the leaf to the root node in the A* search tree. \"\"\"\n",
        "    path = []\n",
        "\n",
        "    current = current_node\n",
        "    while current != None:\n",
        "      path.append(current.position)\n",
        "      current = current.parent\n",
        "\n",
        "    return path[::-1]\n",
        "  \n",
        "def bfs_search(start, goal, grid, visited, knowledge, max_steps=None):\n",
        "\n",
        "  start_node = Node(None, start)\n",
        "  goal_node = Node(None, goal)\n",
        "\n",
        "  # Implementing priority queue using heap\n",
        "  fringe = []\n",
        "  \n",
        "  fringe.append(start_node)\n",
        "\n",
        "  # Stopping condition\n",
        "  if max_steps is None:\n",
        "    max_steps = grid.shape[0] * grid.shape[1]\n",
        "\n",
        "  steps = 0\n",
        "  exit_status = \"FAILED_NOPATH\"\n",
        "\n",
        "  # Start\n",
        "  while fringe:\n",
        "    \n",
        "    steps += 1\n",
        "\n",
        "    # Pop the current node from the fringe\n",
        "    current_node = fringe.pop(0)\n",
        "    curr_x, curr_y = current_node.position\n",
        "\n",
        "    # Visit the current node and note that it is out of the fringe\n",
        "    visited[curr_x][curr_y] = 1\n",
        "    \n",
        "\n",
        "    # Check and return path if we have reached the goal node\n",
        "    if current_node == goal_node:\n",
        "      exit_status = \"SUCCESS\"\n",
        "      return grid_path(current_node), exit_status\n",
        "\n",
        "    # Stopping condition\n",
        "    if steps > max_steps:\n",
        "      exit_status = \"FAILED_STEPS\"\n",
        "      return grid_path(current_node), exit_status\n",
        "\n",
        "    # Create children\n",
        "    children = get_valid_children(current_node.position, current_node.parent, grid.shape[0], grid.shape[1], (knowledge, visited))\n",
        "    children = [Node(current_node, x) for x in children]\n",
        "\n",
        "    for i in range(len(children)):\n",
        "      #children[i].g = current_node.g + 1\n",
        "      #children[i].h = heuristic(heuristic_type, children[i].position, goal)\n",
        "      #children[i].f = children[i].g + children[i].h\n",
        "      #children[i].recency_factor = recency_counter\n",
        "      \n",
        "      #heapq.heappush(fringe, children[i])\n",
        "      fringe.append(children[i])\n",
        "      \n",
        "\n",
        "      #recency_counter += 1\n",
        "\n",
        "  return [], exit_status"
      ],
      "execution_count": null,
      "outputs": []
    },
    {
      "cell_type": "code",
      "metadata": {
        "id": "iCXlPRjKnnGW"
      },
      "source": [
        "class Repeated_BFS:\n",
        "\n",
        "  def __init__(self, grid):\n",
        "    self.knowledge_snaps = []\n",
        "    self.visited_snaps = []\n",
        "    self.start_end_snaps = []\n",
        "    self.sol_snaps = []\n",
        "    self.step = 0\n",
        "    self.successfully_completed = False\n",
        "    self.final_exit_status = None\n",
        "    self.grid = grid\n",
        "\n",
        "  def _update_state(self, knowledge, visited, path_end_points, soln, step, successfully_completed, final_exit_status):\n",
        "    self.knowledge_snaps.append(knowledge)\n",
        "    self.visited_snaps.append(visited)\n",
        "    self.start_end_snaps.append(path_end_points)\n",
        "    self.sol_snaps.append(soln)\n",
        "    self.step = step\n",
        "    self.successfully_completed = successfully_completed\n",
        "    self.final_exit_status = final_exit_status\n",
        "\n",
        "  def logs(self):\n",
        "    return {\n",
        "        \"grid\": self.grid,\n",
        "        \"knowledge\": self.knowledge_snaps,\n",
        "        \"visited\": self.visited_snaps,\n",
        "        \"start_end\": self.start_end_snaps,\n",
        "        \"solns\": self.sol_snaps,\n",
        "        \"num_steps\": self.step,\n",
        "        \"successfully_completed\": self.successfully_completed,\n",
        "        \"final_exit_status\": self.final_exit_status\n",
        "    }\n",
        "\n",
        "  def path_followed(self):\n",
        "    \"\"\" Returns the actual path followed (planning + execution) \"\"\"\n",
        "\n",
        "    # If the paths followed and solutions don't match\n",
        "    assert len(self.sol_snaps) == len(self.start_end_snaps), \\\n",
        "      \"More steps for A* than elements in start_end.\"\n",
        "    \n",
        "    full_path = []\n",
        "    for i in range(len(self.start_end_snaps)):\n",
        "\n",
        "      # Get index of end node in path\n",
        "      _, end_node = self.start_end_snaps[i]\n",
        "      end_index = self.sol_snaps[i].index(end_node)\n",
        "\n",
        "      # Clip the array according to end index and append to parent array\n",
        "      clipped_array = self.sol_snaps[i][:end_index]\n",
        "      full_path += clipped_array\n",
        "\n",
        "    return full_path\n",
        "\n",
        "  def search(self, start, goal, grid, max_steps_bfs=None, max_steps_repeated=None):\n",
        "\n",
        "    # Exit condition\n",
        "    if max_steps_repeated is None:\n",
        "      max_steps_repeated = grid.shape[0]*grid.shape[1]\n",
        "\n",
        "    # Initialize visited matrix, knowledge matrix and planned_path array\n",
        "    # visited = np.zeros(grid.shape)\n",
        "    knowledge = np.zeros(grid.shape)\n",
        "    planned_path = []\n",
        "    \n",
        "    # Start\n",
        "    while not self.successfully_completed:\n",
        "\n",
        "      # If number of steps have been exceeded for Repeated A*\n",
        "      if self.step > max_steps_repeated:\n",
        "        self._update_state(None, None, (None, None), None, self.step, False, \"FAILED_STEPS_REP\")\n",
        "        return\n",
        "\n",
        "      visited = np.zeros(grid.shape)\n",
        "\n",
        "      # Run A* search algorithm once\n",
        "      planned_path, exit_status = bfs_search(start, goal, grid, visited, knowledge, max_steps=max_steps_bfs)\n",
        "\n",
        "      if exit_status == \"FAILED_NOPATH\": # If no path can be found\n",
        "        self._update_state(knowledge, visited, (start, None), planned_path, self.step + 1, False, exit_status)\n",
        "        return\n",
        "\n",
        "      elif exit_status == \"FAILED_STEPS\": # If num of steps were exceeded for one run of A*\n",
        "        self._update_state(knowledge, visited, (start, None), planned_path, self.step + 1, False, exit_status)\n",
        "        return\n",
        "\n",
        "      # Move robot along the grid on the planned path and record environment\n",
        "      final_node, knowledge, _ = move_and_record(start, goal, grid, planned_path, knowledge)\n",
        "\n",
        "      # If we were able to reach the goal successfully\n",
        "      if final_node == goal:\n",
        "        self._update_state(knowledge, visited, (start, final_node), planned_path, self.step + 1, True, \"SUCCESS\")\n",
        "        continue\n",
        "\n",
        "      # If we were not able to reach the goal successfully, repeat until possible\n",
        "      self._update_state(knowledge, visited, (start, final_node), planned_path, self.step + 1, False, \"RUNNING\")\n",
        "      start = final_node\n",
        "\n",
        "    # We were able to reach successfully\n",
        "    return"
      ],
      "execution_count": null,
      "outputs": []
    },
    {
      "cell_type": "code",
      "metadata": {
        "id": "wEq_Ej6Nno4J"
      },
      "source": [
        "  grid = [[0, 0, 0, 0, 0, 0, 0, 0, 0, 0],\n",
        "          [0, 1, 1, 1, 1, 1, 1, 1, 1, 0],\n",
        "          [0, 1, 1, 1, 0, 0, 0, 0, 0, 0],\n",
        "          [0, 1, 1, 1, 0, 0, 1, 1, 1, 1],\n",
        "          [0, 1, 1, 1, 1, 0, 1, 1, 1, 1],\n",
        "          [0, 1, 1, 1, 1, 0, 0, 0, 1, 1],\n",
        "          [0, 1, 1, 1, 1, 1, 1, 0, 0, 0],\n",
        "          [0, 1, 1, 1, 1, 1, 1, 1, 1, 0],\n",
        "          [0, 0, 0, 1, 1, 1, 1, 1, 1, 0],\n",
        "          [1, 1, 0, 0, 0, 0, 0, 0, 0, 0]]\n",
        "  grid=np.array(grid)\n",
        "  repeated_bfs = Repeated_BFS(grid)\n",
        "  repeated_bfs.search((0, 0), (grid.shape[0]-1, grid.shape[1]-1), grid)"
      ],
      "execution_count": null,
      "outputs": []
    },
    {
      "cell_type": "code",
      "metadata": {
        "id": "1HX99q01nqWb"
      },
      "source": [
        "print(repeated_a_star.final_exit_status)\n",
        "pretty_print(visualize_grid(ras.path_followed(), ras.knowledge_snaps[-1].astype(int)))"
      ],
      "execution_count": null,
      "outputs": []
    }
  ]
}