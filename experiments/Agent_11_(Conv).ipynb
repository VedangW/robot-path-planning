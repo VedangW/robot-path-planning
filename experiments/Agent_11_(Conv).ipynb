{
  "cells": [
    {
      "cell_type": "markdown",
      "id": "d0ac0028",
      "metadata": {
        "id": "d0ac0028"
      },
      "source": [
        "## Mimicking Agent 1 With A ConvNet"
      ]
    },
    {
      "cell_type": "markdown",
      "id": "fb15c3c6",
      "metadata": {
        "id": "fb15c3c6"
      },
      "source": [
        "### Imports and Settings"
      ]
    },
    {
      "cell_type": "code",
      "execution_count": null,
      "id": "8adf64cf-ee51-47b9-b5a3-2ec2a1e9c5d1",
      "metadata": {
        "id": "8adf64cf-ee51-47b9-b5a3-2ec2a1e9c5d1",
        "colab": {
          "base_uri": "https://localhost:8080/"
        },
        "outputId": "ffa4f4de-d548-470d-e5b6-b1627aa6b9d9"
      },
      "outputs": [
        {
          "output_type": "stream",
          "name": "stdout",
          "text": [
            "Mounted at /content/gdrive\n"
          ]
        }
      ],
      "source": [
        "import pickle\n",
        "import warnings\n",
        "\n",
        "import numpy as np\n",
        "import pandas as pd\n",
        "import datetime as dt\n",
        "import matplotlib.pyplot as plt\n",
        "\n",
        "import tensorflow as tf\n",
        "\n",
        "from tqdm import tqdm\n",
        "\n",
        "from google.colab import drive\n",
        "drive.mount('/content/gdrive')"
      ]
    },
    {
      "cell_type": "code",
      "execution_count": null,
      "id": "00654baf",
      "metadata": {
        "id": "00654baf",
        "outputId": "b570c58a-87f2-4bc1-83e1-3b2f006032f0",
        "colab": {
          "base_uri": "https://localhost:8080/"
        }
      },
      "outputs": [
        {
          "output_type": "stream",
          "name": "stdout",
          "text": [
            "Found GPU at: /device:GPU:0\n"
          ]
        }
      ],
      "source": [
        "warnings.filterwarnings('ignore')\n",
        "\n",
        "device_name = tf.test.gpu_device_name()\n",
        "\n",
        "if device_name != '/device:GPU:0':\n",
        "    raise SystemError('GPU device not found')\n",
        "    \n",
        "print('Found GPU at: {}'.format(device_name))"
      ]
    },
    {
      "cell_type": "code",
      "execution_count": null,
      "id": "b68acb74-8d2e-4160-be9b-faecfba32c72",
      "metadata": {
        "id": "b68acb74-8d2e-4160-be9b-faecfba32c72"
      },
      "outputs": [],
      "source": [
        "# Hyperparameters\n",
        "\n",
        "NUM_COLS = 25\n",
        "\n",
        "# Change the base path as per location of the files in your drive\n",
        "\n",
        "DATA_PATH = \"/content/gdrive/MyDrive/CS520/agent3_centered/agent_3_ckpt_31.pkl\""
      ]
    },
    {
      "cell_type": "code",
      "source": [
        "data = pickle.load(\n",
        "    open(DATA_PATH, \"rb\")\n",
        ")\n",
        "\n",
        "X_train, X_test, y_train, y_test = data['X_train'], data['X_test'], data['y_train'], data['y_test']\n",
        "\n",
        "X_train.shape, y_train.shape, X_test.shape, y_test.shape"
      ],
      "metadata": {
        "colab": {
          "base_uri": "https://localhost:8080/"
        },
        "id": "diwaDiXHEjZL",
        "outputId": "9d397932-e075-498e-d142-52999d1cc94d"
      },
      "id": "diwaDiXHEjZL",
      "execution_count": null,
      "outputs": [
        {
          "output_type": "execute_result",
          "data": {
            "text/plain": [
              "((446252, 50), (446252, 4), (49584, 50), (49584, 4))"
            ]
          },
          "metadata": {},
          "execution_count": 4
        }
      ]
    },
    {
      "cell_type": "code",
      "source": [
        "X_train = np.reshape(X_train, (-1, 5, 5, 2))\n",
        "X_test = np.reshape(X_test, (-1, 5, 5, 2))"
      ],
      "metadata": {
        "id": "8IvUSzCIIgjz"
      },
      "id": "8IvUSzCIIgjz",
      "execution_count": null,
      "outputs": []
    },
    {
      "cell_type": "code",
      "source": [
        "del data"
      ],
      "metadata": {
        "id": "tTtFM1cIK2Aw"
      },
      "id": "tTtFM1cIK2Aw",
      "execution_count": null,
      "outputs": []
    },
    {
      "cell_type": "markdown",
      "id": "c2ff5418",
      "metadata": {
        "id": "c2ff5418"
      },
      "source": [
        "### Load Data"
      ]
    },
    {
      "cell_type": "code",
      "execution_count": null,
      "id": "c7e0aeac-44ee-4315-afb3-a2567a8677d4",
      "metadata": {
        "id": "c7e0aeac-44ee-4315-afb3-a2567a8677d4",
        "outputId": "41b6d1c1-1be6-4d2f-c659-9883f7f011a9"
      },
      "outputs": [
        {
          "name": "stdout",
          "output_type": "stream",
          "text": [
            "CPU times: user 1min 59s, sys: 10.3 s, total: 2min 10s\n",
            "Wall time: 2min 10s\n"
          ]
        }
      ],
      "source": [
        "%%time\n",
        "\n",
        "movement_snaps = pd.read_csv(MOVEMENT_SNAPS_PATH)\n",
        "position_snaps = pd.read_csv(POSITION_SNAPS_PATH, names=['run_number','x_coord', 'y_coord']).astype(int)\n",
        "knowledge_snaps = pd.read_csv(KNOWLEDGE_SNAPS_PATH, header=None).astype(int)"
      ]
    },
    {
      "cell_type": "code",
      "execution_count": null,
      "id": "087c343d-5612-4699-aa31-65c734249b8b",
      "metadata": {
        "id": "087c343d-5612-4699-aa31-65c734249b8b",
        "outputId": "e2ac553d-8a60-4465-933c-703f860c6723"
      },
      "outputs": [
        {
          "data": {
            "text/plain": [
              "((180604, 2500), (180604, 5), (180604, 3))"
            ]
          },
          "execution_count": 5,
          "metadata": {},
          "output_type": "execute_result"
        }
      ],
      "source": [
        "knowledge_snaps.shape, movement_snaps.shape, position_snaps.shape"
      ]
    },
    {
      "cell_type": "markdown",
      "id": "1ab7b2bb",
      "metadata": {
        "id": "1ab7b2bb"
      },
      "source": [
        "### Data Transformation"
      ]
    },
    {
      "cell_type": "code",
      "execution_count": null,
      "id": "f99a94e7",
      "metadata": {
        "id": "f99a94e7"
      },
      "outputs": [],
      "source": [
        "# Get one-hot labels in the pre-decided order\n",
        "\n",
        "if \"Unnamed: 0\" in movement_snaps.columns:\n",
        "    movement_snaps.drop(\"Unnamed: 0\", axis=1, inplace=True)\n",
        "    \n",
        "y = movement_snaps[[\"U\", \"D\", \"L\", \"R\"]].astype(float).values"
      ]
    },
    {
      "cell_type": "code",
      "execution_count": null,
      "id": "07495024",
      "metadata": {
        "id": "07495024",
        "outputId": "0870b464-4ec4-453f-dc3b-00011d0e51b1"
      },
      "outputs": [
        {
          "data": {
            "text/plain": [
              "(180604, 2500)"
            ]
          },
          "execution_count": 7,
          "metadata": {},
          "output_type": "execute_result"
        }
      ],
      "source": [
        "# Rename knowledge snaps to 'X'\n",
        "\n",
        "X = knowledge_snaps.values\n",
        "del knowledge_snaps  # Necessary to avoid kernel crash\n",
        "\n",
        "X.shape"
      ]
    },
    {
      "cell_type": "code",
      "execution_count": null,
      "id": "3ce18b76",
      "metadata": {
        "id": "3ce18b76",
        "outputId": "e9dbdf4a-f867-4337-d968-49477451fcd5"
      },
      "outputs": [
        {
          "data": {
            "text/plain": [
              "(180604, 50, 50)"
            ]
          },
          "execution_count": 13,
          "metadata": {},
          "output_type": "execute_result"
        }
      ],
      "source": [
        "# Convert 1D numpy array samples to 2D array samples\n",
        "\n",
        "X = np.reshape(X, (-1, NUM_COLS, NUM_COLS))\n",
        "X.shape"
      ]
    },
    {
      "cell_type": "code",
      "execution_count": null,
      "id": "88e92e81",
      "metadata": {
        "id": "88e92e81"
      },
      "outputs": [],
      "source": [
        "def get_position_vector(num_cols, position_snaps, idx, model_type=\"dense\"):\n",
        "    \"\"\" \n",
        "    Gets the position vector for 1 sample.\n",
        "    1D for Dense NN and 2D for ConvNet.\n",
        "    \n",
        "    Parameters\n",
        "    ----------\n",
        "    num_cols: int\n",
        "        Dimension of the grid. E.g. '50' for 50x50 grid\n",
        "    position_snaps: pd.DataFrame\n",
        "        Should have columns 'x_coord' and 'y_coord'\n",
        "    idx: int\n",
        "        Index for which to generate position vector.\n",
        "    model_type: str\n",
        "        \"dense\" or \"conv\"\n",
        "        \n",
        "    Returns\n",
        "    -------\n",
        "    position_vector: np.array\n",
        "        1D array for dense and 2D array for Conv\n",
        "    \"\"\"\n",
        "    \n",
        "    if model_type not in (\"dense\", \"conv\"):\n",
        "        raise ValueError(\"model_type =\", model_type, \"not acceptable\")\n",
        "    \n",
        "    # Initialize position as 2D array of zeros\n",
        "    position_vector = np.zeros((num_cols, num_cols))\n",
        "\n",
        "    # Change position to 1\n",
        "    pos_x, pos_y = position_snaps[['x_coord', 'y_coord']].iloc[idx].values\n",
        "    position_vector[pos_x][pos_y] = 1.\n",
        "\n",
        "    # If model type is dense, reshape to 1D array\n",
        "    if model_type == \"dense\":\n",
        "        position_vector = np.reshape(position_vector, -1)\n",
        "\n",
        "    return position_vector"
      ]
    },
    {
      "cell_type": "code",
      "execution_count": null,
      "id": "c90eb828",
      "metadata": {
        "id": "c90eb828"
      },
      "outputs": [],
      "source": [
        "# Create checkpoint\n",
        "\n",
        "with open('../data/agent_1_conv_ckpt_1.pkl', 'wb') as f:\n",
        "    pickle.dump((X, y), f)"
      ]
    },
    {
      "cell_type": "code",
      "execution_count": null,
      "id": "39e6aeeb",
      "metadata": {
        "id": "39e6aeeb",
        "outputId": "89802210-5716-4c53-f971-b4f6f6a3c886"
      },
      "outputs": [
        {
          "data": {
            "text/plain": [
              "((180604, 2500), (180604, 4))"
            ]
          },
          "execution_count": 5,
          "metadata": {},
          "output_type": "execute_result"
        }
      ],
      "source": [
        "with open('../data/agent_1_conv_ckpt_1.pkl', 'rb') as f:\n",
        "    X, y = pickle.load(f)\n",
        "    \n",
        "X.shape, y.shape"
      ]
    },
    {
      "cell_type": "code",
      "execution_count": null,
      "id": "87645b4f",
      "metadata": {
        "id": "87645b4f"
      },
      "outputs": [],
      "source": [
        "# Create position vectors for each sample\n",
        "position_vectors = \\\n",
        "    np.array(\n",
        "        [\n",
        "            get_position_vector(NUM_COLS, \n",
        "                                position_snaps, \n",
        "                                i,\n",
        "                                model_type=\"conv\") \n",
        "            for i in range(position_snaps.shape[0])\n",
        "        ]\n",
        ")\n",
        "\n",
        "X_comb = []\n",
        "\n",
        "for i in range(X.shape[0]):\n",
        "    X_comb.append([X[i], position_vectors[i]])\n",
        "    \n",
        "X_comb = np.array(X_comb)\n",
        "\n",
        "# Rename X_comb to X\n",
        "X = X_comb\n",
        "del X_comb"
      ]
    },
    {
      "cell_type": "code",
      "execution_count": null,
      "id": "1dba266e",
      "metadata": {
        "id": "1dba266e"
      },
      "outputs": [],
      "source": [
        "assert X.shape[0] == y.shape[0], \"No. of samples in X and y don't match!\""
      ]
    },
    {
      "cell_type": "code",
      "execution_count": null,
      "id": "ac47c880",
      "metadata": {
        "id": "ac47c880"
      },
      "outputs": [],
      "source": [
        "# Checkpoint no. 2\n",
        "\n",
        "with open('../data/agent_1_conv_ckpt_2.pkl', 'wb') as f:\n",
        "    pickle.dump({'X': X, 'y': y, 'position_snaps': position_snaps}, f)"
      ]
    },
    {
      "cell_type": "code",
      "execution_count": null,
      "id": "f428c9a0",
      "metadata": {
        "id": "f428c9a0"
      },
      "outputs": [],
      "source": [
        "with open('../data/agent_1_ckpt_2.pkl', 'rb') as f:\n",
        "    data = pickle.load(f)\n",
        "    X = data['X']\n",
        "    y = data['y']\n",
        "    \n",
        "    \n",
        "X.shape, y.shape"
      ]
    },
    {
      "cell_type": "markdown",
      "id": "15a0f1c6",
      "metadata": {
        "id": "15a0f1c6"
      },
      "source": [
        "### Train-Test Split"
      ]
    },
    {
      "cell_type": "code",
      "execution_count": null,
      "id": "5810b96d",
      "metadata": {
        "id": "5810b96d"
      },
      "outputs": [],
      "source": [
        "# Used for segregating the data into train and test sets\n",
        "\n",
        "run_index = position_snaps[\"run_number\"].astype(int).values"
      ]
    },
    {
      "cell_type": "code",
      "execution_count": null,
      "id": "c8ba1da9",
      "metadata": {
        "id": "c8ba1da9"
      },
      "outputs": [],
      "source": [
        "# Select indices for train and test\n",
        "\n",
        "train_indices = np.where(run_index < 900)[0]\n",
        "test_indices = np.where(run_index >= 900)[0]"
      ]
    },
    {
      "cell_type": "code",
      "execution_count": null,
      "id": "3c446cb5",
      "metadata": {
        "id": "3c446cb5"
      },
      "outputs": [],
      "source": [
        "assert not set(train_indices).intersection(set(test_indices)), \"Train and test indices are not exclusive!\""
      ]
    },
    {
      "cell_type": "code",
      "execution_count": null,
      "id": "af7e83ec",
      "metadata": {
        "id": "af7e83ec"
      },
      "outputs": [],
      "source": [
        "# Separate train and test sets\n",
        "\n",
        "X_train = X[train_indices]\n",
        "y_train = y[train_indices]\n",
        "\n",
        "X_test = X[test_indices]\n",
        "y_test = y[test_indices]"
      ]
    },
    {
      "cell_type": "code",
      "execution_count": null,
      "id": "fc31be3a",
      "metadata": {
        "id": "fc31be3a"
      },
      "outputs": [],
      "source": [
        "# Necessary to avoid kernel crash\n",
        "\n",
        "del X, y"
      ]
    },
    {
      "cell_type": "code",
      "execution_count": null,
      "id": "fd0fe960-31df-45e1-ac50-64a10063b200",
      "metadata": {
        "id": "fd0fe960-31df-45e1-ac50-64a10063b200",
        "outputId": "ce611079-58b0-4a52-cce2-22f965b8a2cb"
      },
      "outputs": [
        {
          "data": {
            "text/plain": [
              "((162658, 2, 50, 50), (162658, 4), (17946, 2, 50, 50), (17946, 4), (17946, 3))"
            ]
          },
          "execution_count": 43,
          "metadata": {},
          "output_type": "execute_result"
        }
      ],
      "source": [
        "X_train.shape, y_train.shape, X_test.shape, y_test.shape, agent_paths_test.shape"
      ]
    },
    {
      "cell_type": "code",
      "execution_count": null,
      "id": "f0167002",
      "metadata": {
        "id": "f0167002",
        "outputId": "4e994300-9c1b-4227-b28d-9b3045ac5b00"
      },
      "outputs": [
        {
          "data": {
            "text/plain": [
              "((162658, 50, 50, 2), (17946, 50, 50, 2))"
            ]
          },
          "execution_count": 46,
          "metadata": {},
          "output_type": "execute_result"
        }
      ],
      "source": [
        "# Convert grid from channels-first to channels last for CNN input\n",
        "\n",
        "X_train = np.moveaxis(X_train, 1, 3)\n",
        "X_test = np.moveaxis(X_test, 1, 3)\n",
        "\n",
        "X_train.shape, X_test.shape"
      ]
    },
    {
      "cell_type": "code",
      "execution_count": null,
      "id": "ceb99226",
      "metadata": {
        "id": "ceb99226"
      },
      "outputs": [],
      "source": [
        "# Checkpoint no. 3\n",
        "\n",
        "with open('../data/agent_1_conv_ckpt_3.pkl', 'wb') as f:\n",
        "    pickle.dump({'X_train': X_train, \n",
        "                 'y_train': y_train, \n",
        "                 'X_test': X_test, \n",
        "                 'y_test': y_test, \n",
        "                 'agent_paths_test': agent_paths_test}, \n",
        "                f)"
      ]
    },
    {
      "cell_type": "code",
      "source": [
        "X_train = np.reshape(X_train, (-1, 25, 25, 1))\n",
        "X_test = np.reshape(X_test, (-1, 25, 25, 1))\n",
        "\n",
        "X_train.shape, X_test.shape"
      ],
      "metadata": {
        "colab": {
          "base_uri": "https://localhost:8080/"
        },
        "id": "7PlD20EeL10m",
        "outputId": "79e66da8-c389-451e-b46c-f0f3130354ca"
      },
      "id": "7PlD20EeL10m",
      "execution_count": null,
      "outputs": [
        {
          "output_type": "execute_result",
          "data": {
            "text/plain": [
              "((435913, 25, 25, 1), (48435, 25, 25, 1))"
            ]
          },
          "metadata": {},
          "execution_count": 6
        }
      ]
    },
    {
      "cell_type": "markdown",
      "id": "68a9eea2",
      "metadata": {
        "id": "68a9eea2"
      },
      "source": [
        "### Model Training"
      ]
    },
    {
      "cell_type": "code",
      "source": [
        "BASE_PATH = \"/content/gdrive/MyDrive/CS520/agent3_centered/\"\n",
        "with open(BASE_PATH+'agent_3_ckpt_31.pkl', 'rb') as f:\n",
        "    data = pickle.load(f)\n",
        "    X_train = data['X_train']\n",
        "    y_train = data['y_train']\n",
        "    X_test = data['X_test']\n",
        "    y_test = data['y_test']"
      ],
      "metadata": {
        "id": "qpWqfiGW0ZI7"
      },
      "id": "qpWqfiGW0ZI7",
      "execution_count": null,
      "outputs": []
    },
    {
      "cell_type": "code",
      "execution_count": null,
      "id": "0c805286-42f2-4550-a1c3-5c2588db9c73",
      "metadata": {
        "id": "0c805286-42f2-4550-a1c3-5c2588db9c73"
      },
      "outputs": [],
      "source": [
        "def build_model(input_dim):\n",
        "    \"\"\"\n",
        "    Builds a CNN with input dim.\n",
        "    For Agent 1: (50, 50, 2)\n",
        "    For Agent 3: (50, 50, 4) (for e.g.)\n",
        "    \"\"\"\n",
        "    model =  tf.keras.Sequential()\n",
        "    model.add(tf.keras.layers.Conv2D(16, (2, 2), activation=\"relu\", input_shape=input_dim))\n",
        "    model.add(tf.keras.layers.MaxPooling2D((2, 2)))\n",
        "    model.add(tf.keras.layers.Conv2D(16, (2, 2), activation=\"relu\"))\n",
        "    model.add(tf.keras.layers.Flatten())\n",
        "    model.add(tf.keras.layers.Dense(300, activation=\"relu\"))\n",
        "    model.add(tf.keras.layers.Dense(100, activation=\"relu\"))\n",
        "    model.add(tf.keras.layers.Dense(4, activation=\"softmax\"))\n",
        "\n",
        "    model.compile(loss='categorical_crossentropy', optimizer='adam', metrics=['accuracy'])\n",
        "\n",
        "    return model"
      ]
    },
    {
      "cell_type": "code",
      "execution_count": null,
      "id": "05aa031a",
      "metadata": {
        "id": "05aa031a",
        "outputId": "d362b575-60dc-4e8e-aa1b-95cb1b4e88d2",
        "colab": {
          "base_uri": "https://localhost:8080/"
        }
      },
      "outputs": [
        {
          "output_type": "execute_result",
          "data": {
            "text/plain": [
              "(5, 5, 2)"
            ]
          },
          "metadata": {},
          "execution_count": 47
        }
      ],
      "source": [
        "X_train.shape[1:]"
      ]
    },
    {
      "cell_type": "code",
      "execution_count": null,
      "id": "0914425a-d995-495a-8cd7-6f7891eec4d6",
      "metadata": {
        "id": "0914425a-d995-495a-8cd7-6f7891eec4d6"
      },
      "outputs": [],
      "source": [
        "# Build model\n",
        "\n",
        "warnings.filterwarnings('ignore')\n",
        "\n",
        "model = build_model(X_train.shape[1:])"
      ]
    },
    {
      "cell_type": "code",
      "execution_count": null,
      "id": "df80e4a6",
      "metadata": {
        "id": "df80e4a6"
      },
      "outputs": [],
      "source": [
        "# Early stopping callback\n",
        "\n",
        "early_stopping = tf.keras.callbacks.EarlyStopping(monitor='loss', patience=3)"
      ]
    },
    {
      "cell_type": "code",
      "execution_count": null,
      "id": "9e5a9d0b-cf69-4f14-ad9c-4e67fb3fe6b3",
      "metadata": {
        "scrolled": true,
        "id": "9e5a9d0b-cf69-4f14-ad9c-4e67fb3fe6b3",
        "outputId": "29c650c2-5a9d-4af5-9635-33d02aa10879",
        "colab": {
          "base_uri": "https://localhost:8080/"
        }
      },
      "outputs": [
        {
          "output_type": "stream",
          "name": "stdout",
          "text": [
            "Epoch 1/20\n",
            "698/698 [==============================] - 5s 7ms/step - loss: 0.6233 - accuracy: 0.7094 - val_loss: 0.6485 - val_accuracy: 0.7005\n",
            "Epoch 2/20\n",
            "698/698 [==============================] - 5s 7ms/step - loss: 0.6234 - accuracy: 0.7087 - val_loss: 0.6482 - val_accuracy: 0.6998\n",
            "Epoch 3/20\n",
            "698/698 [==============================] - 5s 7ms/step - loss: 0.6223 - accuracy: 0.7092 - val_loss: 0.6463 - val_accuracy: 0.7007\n",
            "Epoch 4/20\n",
            "698/698 [==============================] - 5s 7ms/step - loss: 0.6222 - accuracy: 0.7095 - val_loss: 0.6469 - val_accuracy: 0.7015\n",
            "Epoch 5/20\n",
            "698/698 [==============================] - 5s 7ms/step - loss: 0.6219 - accuracy: 0.7095 - val_loss: 0.6459 - val_accuracy: 0.6996\n",
            "Epoch 6/20\n",
            "698/698 [==============================] - 5s 8ms/step - loss: 0.6214 - accuracy: 0.7092 - val_loss: 0.6449 - val_accuracy: 0.6998\n",
            "Epoch 7/20\n",
            "698/698 [==============================] - 5s 7ms/step - loss: 0.6206 - accuracy: 0.7098 - val_loss: 0.6518 - val_accuracy: 0.6960\n",
            "Epoch 8/20\n",
            "698/698 [==============================] - 5s 7ms/step - loss: 0.6205 - accuracy: 0.7099 - val_loss: 0.6486 - val_accuracy: 0.7003\n",
            "Epoch 9/20\n",
            "698/698 [==============================] - 5s 7ms/step - loss: 0.6201 - accuracy: 0.7098 - val_loss: 0.6481 - val_accuracy: 0.6977\n",
            "Epoch 10/20\n",
            "698/698 [==============================] - 5s 7ms/step - loss: 0.6197 - accuracy: 0.7105 - val_loss: 0.6478 - val_accuracy: 0.6986\n",
            "Epoch 11/20\n",
            "698/698 [==============================] - 5s 7ms/step - loss: 0.6187 - accuracy: 0.7105 - val_loss: 0.6470 - val_accuracy: 0.7011\n",
            "Epoch 12/20\n",
            "698/698 [==============================] - 5s 7ms/step - loss: 0.6183 - accuracy: 0.7104 - val_loss: 0.6463 - val_accuracy: 0.6986\n",
            "Epoch 13/20\n",
            "698/698 [==============================] - 5s 7ms/step - loss: 0.6174 - accuracy: 0.7113 - val_loss: 0.6464 - val_accuracy: 0.7007\n",
            "Epoch 14/20\n",
            "698/698 [==============================] - 5s 7ms/step - loss: 0.6178 - accuracy: 0.7113 - val_loss: 0.6491 - val_accuracy: 0.7005\n",
            "Epoch 15/20\n",
            "698/698 [==============================] - 5s 7ms/step - loss: 0.6174 - accuracy: 0.7114 - val_loss: 0.6451 - val_accuracy: 0.6997\n",
            "Epoch 16/20\n",
            "698/698 [==============================] - 5s 7ms/step - loss: 0.6168 - accuracy: 0.7112 - val_loss: 0.6464 - val_accuracy: 0.6990\n",
            "Epoch 17/20\n",
            "698/698 [==============================] - 5s 7ms/step - loss: 0.6159 - accuracy: 0.7126 - val_loss: 0.6450 - val_accuracy: 0.6989\n",
            "Epoch 18/20\n",
            "698/698 [==============================] - 5s 7ms/step - loss: 0.6151 - accuracy: 0.7128 - val_loss: 0.6526 - val_accuracy: 0.6970\n",
            "Epoch 19/20\n",
            "698/698 [==============================] - 5s 7ms/step - loss: 0.6158 - accuracy: 0.7122 - val_loss: 0.6475 - val_accuracy: 0.6994\n",
            "Epoch 20/20\n",
            "698/698 [==============================] - 5s 7ms/step - loss: 0.6153 - accuracy: 0.7122 - val_loss: 0.6458 - val_accuracy: 0.7001\n"
          ]
        }
      ],
      "source": [
        "# Train Model\n",
        "\n",
        "with tf.device('/device:GPU:1'):\n",
        "    history = model.fit(X_train, \n",
        "                        y_train, \n",
        "                        batch_size=512, \n",
        "                        epochs=20, \n",
        "                        validation_split=0.2,\n",
        "                        callbacks=[early_stopping],\n",
        "                        use_multiprocessing=True)"
      ]
    },
    {
      "cell_type": "code",
      "execution_count": null,
      "id": "405dc62b-14c7-4437-b0b0-0680aa6a3736",
      "metadata": {
        "id": "405dc62b-14c7-4437-b0b0-0680aa6a3736",
        "outputId": "06ba3b70-a515-4ae8-c8aa-36635a7e1acd",
        "colab": {
          "base_uri": "https://localhost:8080/"
        }
      },
      "outputs": [
        {
          "output_type": "stream",
          "name": "stdout",
          "text": [
            "Model: \"sequential_9\"\n",
            "_________________________________________________________________\n",
            " Layer (type)                Output Shape              Param #   \n",
            "=================================================================\n",
            " conv2d_19 (Conv2D)          (None, 4, 4, 16)          144       \n",
            "                                                                 \n",
            " max_pooling2d_10 (MaxPoolin  (None, 2, 2, 16)         0         \n",
            " g2D)                                                            \n",
            "                                                                 \n",
            " conv2d_20 (Conv2D)          (None, 1, 1, 16)          1040      \n",
            "                                                                 \n",
            " flatten_4 (Flatten)         (None, 16)                0         \n",
            "                                                                 \n",
            " dense_13 (Dense)            (None, 300)               5100      \n",
            "                                                                 \n",
            " dense_14 (Dense)            (None, 100)               30100     \n",
            "                                                                 \n",
            " dense_15 (Dense)            (None, 4)                 404       \n",
            "                                                                 \n",
            "=================================================================\n",
            "Total params: 36,788\n",
            "Trainable params: 36,788\n",
            "Non-trainable params: 0\n",
            "_________________________________________________________________\n"
          ]
        }
      ],
      "source": [
        "model.summary()"
      ]
    },
    {
      "cell_type": "markdown",
      "id": "68422830",
      "metadata": {
        "id": "68422830"
      },
      "source": [
        "### Basic Testing"
      ]
    },
    {
      "cell_type": "code",
      "execution_count": null,
      "id": "31394f07",
      "metadata": {
        "id": "31394f07",
        "outputId": "77f7fa72-9096-47b3-ac00-89cef8eb5110",
        "colab": {
          "base_uri": "https://localhost:8080/"
        }
      },
      "outputs": [
        {
          "output_type": "stream",
          "name": "stdout",
          "text": [
            "1550/1550 [==============================] - 6s 4ms/step - loss: 0.6634 - accuracy: 0.6949\n"
          ]
        }
      ],
      "source": [
        "with tf.device('/device:GPU:1'):\n",
        "    model.evaluate(X_test, y_test)"
      ]
    },
    {
      "cell_type": "code",
      "execution_count": null,
      "id": "08b30b82",
      "metadata": {
        "id": "08b30b82",
        "outputId": "a5df04a7-2d19-479e-cb59-925d861c6ed5",
        "colab": {
          "base_uri": "https://localhost:8080/"
        }
      },
      "outputs": [
        {
          "output_type": "execute_result",
          "data": {
            "text/plain": [
              "<keras.engine.sequential.Sequential at 0x7ff07b0874d0>"
            ]
          },
          "metadata": {},
          "execution_count": 54
        }
      ],
      "source": [
        "model"
      ]
    },
    {
      "cell_type": "markdown",
      "source": [
        "### Plotting"
      ],
      "metadata": {
        "id": "qPgLqDi_OZPm"
      },
      "id": "qPgLqDi_OZPm"
    },
    {
      "cell_type": "code",
      "source": [
        "plt.plot(history.history['accuracy'])\n",
        "plt.plot(history.history['val_accuracy'])\n",
        "plt.title('Model Accuracy')\n",
        "plt.ylabel('accuracy')\n",
        "plt.xlabel('epoch')\n",
        "plt.legend(['train', 'val'], loc='upper left')\n",
        "plt.show()"
      ],
      "metadata": {
        "colab": {
          "base_uri": "https://localhost:8080/",
          "height": 295
        },
        "id": "brVrW2A0OQTS",
        "outputId": "63f54448-67aa-47f3-aa62-fa1ae13196f5"
      },
      "id": "brVrW2A0OQTS",
      "execution_count": null,
      "outputs": [
        {
          "output_type": "display_data",
          "data": {
            "image/png": "[encoded data removed]",
            "text/plain": [
              "<Figure size 432x288 with 1 Axes>"
            ]
          },
          "metadata": {
            "needs_background": "light"
          }
        }
      ]
    },
    {
      "cell_type": "code",
      "source": [
        "plt.plot(history.history['loss'])\n",
        "plt.plot(history.history['val_loss'])\n",
        "plt.title('Model Loss')\n",
        "plt.ylabel('loss')\n",
        "plt.xlabel('epoch')\n",
        "plt.legend(['train', 'val'], loc='upper left')\n",
        "plt.show()"
      ],
      "metadata": {
        "colab": {
          "base_uri": "https://localhost:8080/",
          "height": 295
        },
        "id": "sbIlATfXORDn",
        "outputId": "d4766626-23e3-4d71-8826-81f0ee0907a2"
      },
      "id": "sbIlATfXORDn",
      "execution_count": null,
      "outputs": [
        {
          "output_type": "display_data",
          "data": {
            "image/png": "[encoded data removed]",
            "text/plain": [
              "<Figure size 432x288 with 1 Axes>"
            ]
          },
          "metadata": {
            "needs_background": "light"
          }
        }
      ]
    },
    {
      "cell_type": "markdown",
      "id": "c3506156",
      "metadata": {
        "id": "c3506156"
      },
      "source": [
        "### Save Model"
      ]
    },
    {
      "cell_type": "code",
      "execution_count": null,
      "id": "dc020c72",
      "metadata": {
        "id": "dc020c72",
        "outputId": "fdb44530-350b-4f63-c1cc-65abbcf015e6",
        "colab": {
          "base_uri": "https://localhost:8080/",
          "height": 35
        }
      },
      "outputs": [
        {
          "output_type": "execute_result",
          "data": {
            "application/vnd.google.colaboratory.intrinsic+json": {
              "type": "string"
            },
            "text/plain": [
              "'/content/gdrive/MyDrive/CS520/agent_30_nn_conv_2021-12-16_03:19:52.552450'"
            ]
          },
          "metadata": {},
          "execution_count": 63
        }
      ],
      "source": [
        "file_prefix = \"/content/gdrive/MyDrive/CS520/agent_30_nn_conv_\"\n",
        "timestamp = str(dt.datetime.now()).replace(' ', '_')\n",
        "fname = file_prefix + timestamp\n",
        "\n",
        "fname"
      ]
    },
    {
      "cell_type": "code",
      "execution_count": null,
      "id": "28d311f7",
      "metadata": {
        "id": "28d311f7",
        "colab": {
          "base_uri": "https://localhost:8080/"
        },
        "outputId": "f0e9a285-73be-4618-cc51-3c2b0226170c"
      },
      "outputs": [
        {
          "output_type": "stream",
          "name": "stdout",
          "text": [
            "INFO:tensorflow:Assets written to: /content/gdrive/MyDrive/CS520/agent_30_nn_conv_2021-12-16_03:19:52.552450/assets\n"
          ]
        }
      ],
      "source": [
        "model.save(fname)"
      ]
    }
  ],
  "metadata": {
    "kernelspec": {
      "display_name": "Python 3 (ipykernel)",
      "language": "python",
      "name": "python3"
    },
    "language_info": {
      "codemirror_mode": {
        "name": "ipython",
        "version": 3
      },
      "file_extension": ".py",
      "mimetype": "text/x-python",
      "name": "python",
      "nbconvert_exporter": "python",
      "pygments_lexer": "ipython3",
      "version": "3.8.5"
    },
    "colab": {
      "name": "Agent-11 (Conv).ipynb",
      "provenance": []
    },
    "accelerator": "GPU"
  },
  "nbformat": 4,
  "nbformat_minor": 5
}